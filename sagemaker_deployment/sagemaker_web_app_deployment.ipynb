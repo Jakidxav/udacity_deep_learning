{
 "cells": [
  {
   "cell_type": "markdown",
   "metadata": {},
   "source": [
    "# Creating a Sentiment Analysis Web App\n",
    "## Using PyTorch and SageMaker\n",
    "\n",
    "The goal of this Notebook will be to have a simple web page which a user can use to enter a movie review. The web page will then send the review off to our deployed model which will predict the sentiment of the entered review.\n",
    "\n",
    "\n",
    "## General Outline\n",
    "\n",
    "1. Download or otherwise retrieve the data.\n",
    "2. Process / Prepare the data.\n",
    "3. Upload the processed data to S3.\n",
    "4. Train a chosen model.\n",
    "5. Test the trained model (typically using a batch transform job).\n",
    "6. Deploy the trained model.\n",
    "7. Use the deployed model."
   ]
  },
  {
   "cell_type": "markdown",
   "metadata": {},
   "source": [
    "## Step 1: Downloading the data\n",
    "\n",
    "I will be using the [IMDb reviews dataset](http://ai.stanford.edu/~amaas/data/sentiment/).\n",
    "\n",
    "> Maas, Andrew L., et al. [Learning Word Vectors for Sentiment Analysis](http://ai.stanford.edu/~amaas/data/sentiment/). In _Proceedings of the 49th Annual Meeting of the Association for Computational Linguistics: Human Language Technologies_. Association for Computational Linguistics, 2011."
   ]
  },
  {
   "cell_type": "code",
   "execution_count": 1,
   "metadata": {},
   "outputs": [
    {
     "name": "stdout",
     "output_type": "stream",
     "text": [
      "--2020-06-13 14:52:18--  http://ai.stanford.edu/~amaas/data/sentiment/aclImdb_v1.tar.gz\n",
      "Resolving ai.stanford.edu (ai.stanford.edu)... 171.64.68.10\n",
      "Connecting to ai.stanford.edu (ai.stanford.edu)|171.64.68.10|:80... connected.\n",
      "HTTP request sent, awaiting response... 200 OK\n",
      "Length: 84125825 (80M) [application/x-gzip]\n",
      "Saving to: ‘../data/aclImdb_v1.tar.gz’\n",
      "\n",
      "../data/aclImdb_v1. 100%[===================>]  80.23M  24.2MB/s    in 3.9s    \n",
      "\n",
      "2020-06-13 14:52:22 (20.4 MB/s) - ‘../data/aclImdb_v1.tar.gz’ saved [84125825/84125825]\n",
      "\n"
     ]
    }
   ],
   "source": [
    "%mkdir ../data\n",
    "!wget -O ../data/aclImdb_v1.tar.gz http://ai.stanford.edu/~amaas/data/sentiment/aclImdb_v1.tar.gz\n",
    "!tar -zxf ../data/aclImdb_v1.tar.gz -C ../data"
   ]
  },
  {
   "cell_type": "code",
   "execution_count": 1,
   "metadata": {},
   "outputs": [],
   "source": [
    "import os\n",
    "import glob\n",
    "import re\n",
    "import pickle\n",
    "from collections import Counter\n",
    "import numpy as np\n",
    "import pandas as pd\n",
    "\n",
    "from sklearn.utils import shuffle\n",
    "from sklearn.metrics import accuracy_score\n",
    "\n",
    "import nltk\n",
    "from nltk.corpus import stopwords\n",
    "from nltk.stem.porter import *\n",
    "\n",
    "import boto3\n",
    "from bs4 import BeautifulSoup\n",
    "\n",
    "import torch\n",
    "import torch.utils.data\n",
    "import torch.optim as optim\n",
    "from train.model import LSTMClassifier\n",
    "\n",
    "import sagemaker\n",
    "from sagemaker.pytorch import PyTorch\n",
    "from sagemaker.predictor import RealTimePredictor\n",
    "from sagemaker.pytorch import PyTorchModel"
   ]
  },
  {
   "cell_type": "markdown",
   "metadata": {},
   "source": [
    "## Step 2: Preparing and Processing the data\n",
    "\n",
    "To begin with, we will read in each of the reviews and combine them into a single input structure. Then, we will split the dataset into a training set and a testing set."
   ]
  },
  {
   "cell_type": "code",
   "execution_count": 2,
   "metadata": {},
   "outputs": [],
   "source": [
    "def read_imdb_data(data_dir='../data/aclImdb'):\n",
    "    data = {}\n",
    "    labels = {}\n",
    "    \n",
    "    for data_type in ['train', 'test']:\n",
    "        data[data_type] = {}\n",
    "        labels[data_type] = {}\n",
    "        \n",
    "        for sentiment in ['pos', 'neg']:\n",
    "            data[data_type][sentiment] = []\n",
    "            labels[data_type][sentiment] = []\n",
    "            \n",
    "            path = os.path.join(data_dir, data_type, sentiment, '*.txt')\n",
    "            files = glob.glob(path)\n",
    "            \n",
    "            for f in files:\n",
    "                with open(f) as review:\n",
    "                    data[data_type][sentiment].append(review.read())\n",
    "                    # Here we represent a positive review by '1' and a negative review by '0'\n",
    "                    labels[data_type][sentiment].append(1 if sentiment == 'pos' else 0)\n",
    "                    \n",
    "            assert len(data[data_type][sentiment]) == len(labels[data_type][sentiment]), \\\n",
    "                    \"{}/{} data size does not match labels size\".format(data_type, sentiment)\n",
    "                \n",
    "    return data, labels"
   ]
  },
  {
   "cell_type": "code",
   "execution_count": 3,
   "metadata": {},
   "outputs": [
    {
     "name": "stdout",
     "output_type": "stream",
     "text": [
      "IMDB reviews: train = 12500 pos / 12500 neg, test = 12500 pos / 12500 neg\n"
     ]
    }
   ],
   "source": [
    "data, labels = read_imdb_data()\n",
    "print(\"IMDB reviews: train = {} pos / {} neg, test = {} pos / {} neg\".format(\n",
    "            len(data['train']['pos']), len(data['train']['neg']),\n",
    "            len(data['test']['pos']), len(data['test']['neg'])))"
   ]
  },
  {
   "cell_type": "markdown",
   "metadata": {},
   "source": [
    "Now that we've read the raw training and testing data from the downloaded dataset, we will combine the positive and negative reviews and shuffle the resulting records."
   ]
  },
  {
   "cell_type": "code",
   "execution_count": 4,
   "metadata": {},
   "outputs": [],
   "source": [
    "def prepare_imdb_data(data, labels):\n",
    "    \"\"\"Prepare training and test sets from IMDb movie reviews.\"\"\"\n",
    "    \n",
    "    #Combine positive and negative reviews and labels\n",
    "    data_train = data['train']['pos'] + data['train']['neg']\n",
    "    data_test = data['test']['pos'] + data['test']['neg']\n",
    "    labels_train = labels['train']['pos'] + labels['train']['neg']\n",
    "    labels_test = labels['test']['pos'] + labels['test']['neg']\n",
    "    \n",
    "    #Shuffle reviews and corresponding labels within training and test sets\n",
    "    data_train, labels_train = shuffle(data_train, labels_train)\n",
    "    data_test, labels_test = shuffle(data_test, labels_test)\n",
    "    \n",
    "    # Return a unified training data, test data, training labels, test labets\n",
    "    return data_train, data_test, labels_train, labels_test"
   ]
  },
  {
   "cell_type": "code",
   "execution_count": 5,
   "metadata": {},
   "outputs": [
    {
     "name": "stdout",
     "output_type": "stream",
     "text": [
      "IMDb reviews (combined): train = 25000, test = 25000\n"
     ]
    }
   ],
   "source": [
    "train_X, test_X, train_y, test_y = prepare_imdb_data(data, labels)\n",
    "print(\"IMDb reviews (combined): train = {}, test = {}\".format(len(train_X), len(test_X)))"
   ]
  },
  {
   "cell_type": "markdown",
   "metadata": {},
   "source": [
    "Now that we have our training and testing sets unified and prepared, we should do a quick check and see an example of the data our model will be trained on."
   ]
  },
  {
   "cell_type": "code",
   "execution_count": 6,
   "metadata": {},
   "outputs": [
    {
     "name": "stdout",
     "output_type": "stream",
     "text": [
      "I am truly beginning to believe that Seagal is on a mission to see how crappy his films could become.This particular movie was a complete and utter waste of time to see.My first complaint was the cover of the DVD where they have doctored his pic and made him look slimmer and younger when in the film he looks like crap.He has his big pot belly and double chin going for him and the most miserable and bored look on his face.<br /><br />The whole plot was ridiculous to begin with and drawn out way too long.The whole film was leading up to the finale where Seagal and his team had to take on a bunch of people under the influence of a top secret military chemical adrenaline enhancer.There was way too much useless dialogue and not to mention the ridiculous and constant dubbing of Seagals voice even in the middle of a statement.The dubbed voice sounded like a man with a frog in his throat and was quite comical.<br /><br />The fight scenes in the film were horrible.Half the time when Seagal fought you could not even see what was going on.There would be tight shots of him flapping his arms at the camera and then the person flying through a wall or something.It was reminiscent of the old Kung Fu series on television.They used way too much slow motion for the fight scenes.<br /><br />I believe this is Seagals worst film to date and I am glad I did not purchase this film or I would have been very upset since I am a huge fan of Seagal the Aikidoist.The action star is quickly fading away and seems to be getting worse with every performance.\n",
      "0\n"
     ]
    }
   ],
   "source": [
    "print(train_X[100])\n",
    "print(train_y[100])"
   ]
  },
  {
   "cell_type": "markdown",
   "metadata": {},
   "source": [
    "The first step in processing the reviews is to make sure that any html tags that appear should be removed. In addition we wish to tokenize our input, that way words such as *entertained* and *entertaining* are considered the same with regard to sentiment analysis."
   ]
  },
  {
   "cell_type": "code",
   "execution_count": 7,
   "metadata": {},
   "outputs": [],
   "source": [
    "def review_to_words(review):\n",
    "    nltk.download(\"stopwords\", quiet=True)\n",
    "    stemmer = PorterStemmer()\n",
    "    \n",
    "    #remove HTML tags\n",
    "    text = BeautifulSoup(review, \"html.parser\").get_text()\n",
    "    \n",
    "    #convert to lower case\n",
    "    text = re.sub(r\"[^a-zA-Z0-9]\", \" \", text.lower())\n",
    "    \n",
    "    #split string into words\n",
    "    words = text.split()\n",
    "    \n",
    "    #remove stopwords\n",
    "    words = [w for w in words if w not in stopwords.words(\"english\")]\n",
    "    \n",
    "    #stem\n",
    "    words = [PorterStemmer().stem(w) for w in words]\n",
    "    \n",
    "    return words"
   ]
  },
  {
   "cell_type": "markdown",
   "metadata": {},
   "source": [
    "The `review_to_words` method defined above uses `BeautifulSoup` to remove any html tags that appear and uses the `nltk` package to tokenize the reviews. As a check to ensure we know how everything is working, try applying `review_to_words` to one of the reviews in the training set."
   ]
  },
  {
   "cell_type": "code",
   "execution_count": 8,
   "metadata": {},
   "outputs": [
    {
     "name": "stdout",
     "output_type": "stream",
     "text": [
      "['truli', 'begin', 'believ', 'seagal', 'mission', 'see', 'crappi', 'film', 'could', 'becom', 'particular', 'movi', 'complet', 'utter', 'wast', 'time', 'see', 'first', 'complaint', 'cover', 'dvd', 'doctor', 'pic', 'made', 'look', 'slimmer', 'younger', 'film', 'look', 'like', 'crap', 'big', 'pot', 'belli', 'doubl', 'chin', 'go', 'miser', 'bore', 'look', 'face', 'whole', 'plot', 'ridicul', 'begin', 'drawn', 'way', 'long', 'whole', 'film', 'lead', 'final', 'seagal', 'team', 'take', 'bunch', 'peopl', 'influenc', 'top', 'secret', 'militari', 'chemic', 'adrenalin', 'enhanc', 'way', 'much', 'useless', 'dialogu', 'mention', 'ridicul', 'constant', 'dub', 'seagal', 'voic', 'even', 'middl', 'statement', 'dub', 'voic', 'sound', 'like', 'man', 'frog', 'throat', 'quit', 'comic', 'fight', 'scene', 'film', 'horribl', 'half', 'time', 'seagal', 'fought', 'could', 'even', 'see', 'go', 'would', 'tight', 'shot', 'flap', 'arm', 'camera', 'person', 'fli', 'wall', 'someth', 'reminisc', 'old', 'kung', 'fu', 'seri', 'televis', 'use', 'way', 'much', 'slow', 'motion', 'fight', 'scene', 'believ', 'seagal', 'worst', 'film', 'date', 'glad', 'purchas', 'film', 'would', 'upset', 'sinc', 'huge', 'fan', 'seagal', 'aikidoist', 'action', 'star', 'quickli', 'fade', 'away', 'seem', 'get', 'wors', 'everi', 'perform']\n"
     ]
    }
   ],
   "source": [
    "#apply review_to_words to a review\n",
    "print(review_to_words(train_X[100]))"
   ]
  },
  {
   "cell_type": "markdown",
   "metadata": {},
   "source": [
    "## Checkpoint\n",
    "\n",
    "The method below applies the `review_to_words` method to each of the reviews in the training and testing datasets. In addition it caches the results. This is because performing this processing step can take a long time. We will create a checkpoint so we can come back to the Notebook later if we need to."
   ]
  },
  {
   "cell_type": "code",
   "execution_count": 9,
   "metadata": {},
   "outputs": [],
   "source": [
    "#where to store cache files\n",
    "cache_dir = os.path.join(\"../cache\", \"sentiment_analysis\") \n",
    "\n",
    "#ensure cache directory exists\n",
    "os.makedirs(cache_dir, exist_ok=True)"
   ]
  },
  {
   "cell_type": "code",
   "execution_count": 10,
   "metadata": {},
   "outputs": [],
   "source": [
    "def preprocess_data(data_train, data_test, labels_train, labels_test,\n",
    "                    cache_dir=cache_dir, cache_file=\"preprocessed_data.pkl\"):\n",
    "    \"\"\"Convert each review to words; read from cache if available.\"\"\"\n",
    "\n",
    "    # If cache_file is not None, try to read from it first\n",
    "    cache_data = None\n",
    "    if cache_file is not None:\n",
    "        try:\n",
    "            with open(os.path.join(cache_dir, cache_file), \"rb\") as f:\n",
    "                cache_data = pickle.load(f)\n",
    "            print(\"Read preprocessed data from cache file:\", cache_file)\n",
    "        except:\n",
    "            pass  # unable to read from cache, but that's okay\n",
    "    \n",
    "    #if cache is missing, then do the heavy lifting\n",
    "    if cache_data is None:\n",
    "        #preprocess training and test data to obtain words for each review\n",
    "        #words_train = list(map(review_to_words, data_train))\n",
    "        #words_test = list(map(review_to_words, data_test))\n",
    "        words_train = [review_to_words(review) for review in data_train]\n",
    "        words_test = [review_to_words(review) for review in data_test]\n",
    "        \n",
    "        # Write to cache file for future runs\n",
    "        if cache_file is not None:\n",
    "            cache_data = dict(words_train=words_train, words_test=words_test,\n",
    "                              labels_train=labels_train, labels_test=labels_test)\n",
    "            with open(os.path.join(cache_dir, cache_file), \"wb\") as f:\n",
    "                pickle.dump(cache_data, f)\n",
    "            print(\"Wrote preprocessed data to cache file:\", cache_file)\n",
    "    else:\n",
    "        # Unpack data loaded from cache file\n",
    "        words_train, words_test, labels_train, labels_test = (cache_data['words_train'],\n",
    "                cache_data['words_test'], cache_data['labels_train'], cache_data['labels_test'])\n",
    "    \n",
    "    return words_train, words_test, labels_train, labels_test"
   ]
  },
  {
   "cell_type": "code",
   "execution_count": 11,
   "metadata": {},
   "outputs": [
    {
     "name": "stdout",
     "output_type": "stream",
     "text": [
      "Read preprocessed data from cache file: preprocessed_data.pkl\n"
     ]
    }
   ],
   "source": [
    "#preprocess data\n",
    "train_X, test_X, train_y, test_y = preprocess_data(train_X, test_X, train_y, test_y)"
   ]
  },
  {
   "cell_type": "markdown",
   "metadata": {},
   "source": [
    "## Transform the data\n",
    "\n",
    "For the neural network that we are going to construct in this notebook we will construct a feature representation of our vocabulary. To start, we will represent each word as an integer. Of course, some of the words that appear in the reviews occur very infrequently and so likely don't contain much information for the purposes of sentiment analysis. The way we will deal with this problem is that we will fix the size of our working vocabulary and we will only include the words that appear most frequently. We will then combine all of the infrequent words into a single category and, in our case, we will label it as `1`.\n",
    "\n",
    "Since we will be using a recurrent neural network, it will be convenient if the length of each review is the same. To do this, we will fix a size for our reviews and then pad short reviews with the category 'no word' (which we will label `0`) and truncate long reviews.\n",
    "\n",
    "### Creating a word dictionary\n",
    "\n",
    "To begin with, we need to construct a way to map words that appear in the reviews to integers. Here we fix the size of our vocabulary (including the 'no word' and 'infrequent' categories) to be `5000` but this is hyperparameter that we could test how it affected model performance if we wanted to."
   ]
  },
  {
   "cell_type": "code",
   "execution_count": 12,
   "metadata": {},
   "outputs": [],
   "source": [
    "def build_dict(data, vocab_size = 5000):\n",
    "    \"\"\"Construct and return a dictionary mapping each of the most frequently appearing words to a unique integer.\"\"\"\n",
    "    \n",
    "    #create word counts\n",
    "    #np.concat() will flatten our list of lists into a 1D list, which is what we need\n",
    "    counts = Counter(np.concatenate(data, axis=0))\n",
    "    \n",
    "    #dictionary storing the words that appear in the reviews along with how often they occur\n",
    "    word_count = {}\n",
    "    \n",
    "    #sort words and counts so that most frequent word appears at the top\n",
    "    sorted_words = sorted(counts, key=counts.get, reverse=True)\n",
    "    \n",
    "    #dictionary that translates words into integers\n",
    "    word_dict = {}\n",
    "    \n",
    "    #the -2 is so that we save room for the 'no word' and 'infrequent' labels\n",
    "    for idx, word in enumerate(sorted_words[:vocab_size - 2]):\n",
    "        word_dict[word] = idx + 2                           \n",
    "        \n",
    "    return word_dict"
   ]
  },
  {
   "cell_type": "code",
   "execution_count": 13,
   "metadata": {},
   "outputs": [],
   "source": [
    "word_dict = build_dict(train_X)"
   ]
  },
  {
   "cell_type": "code",
   "execution_count": 14,
   "metadata": {},
   "outputs": [
    {
     "name": "stdout",
     "output_type": "stream",
     "text": [
      "{'movi': 2, 'film': 3, 'one': 4, 'like': 5, 'time': 6, 'good': 7, 'make': 8, 'charact': 9, 'get': 10, 'see': 11, 'watch': 12, 'stori': 13, 'even': 14, 'would': 15, 'realli': 16, 'well': 17, 'scene': 18, 'look': 19, 'show': 20, 'much': 21, 'end': 22, 'peopl': 23, 'bad': 24, 'go': 25, 'great': 26, 'also': 27, 'first': 28, 'love': 29, 'think': 30, 'way': 31, 'act': 32, 'play': 33, 'made': 34, 'thing': 35, 'could': 36, 'know': 37, 'say': 38, 'seem': 39, 'work': 40, 'plot': 41, 'two': 42, 'actor': 43, 'year': 44, 'come': 45, 'mani': 46, 'seen': 47, 'take': 48, 'want': 49, 'life': 50, 'never': 51, 'littl': 52, 'best': 53, 'tri': 54, 'man': 55, 'ever': 56, 'give': 57, 'better': 58, 'still': 59, 'perform': 60, 'find': 61, 'feel': 62, 'part': 63, 'back': 64, 'use': 65, 'someth': 66, 'director': 67, 'actual': 68, 'interest': 69, 'lot': 70, 'real': 71, 'old': 72, 'cast': 73, 'though': 74, 'live': 75, 'star': 76, 'enjoy': 77, 'guy': 78, 'anoth': 79, 'new': 80, 'role': 81, 'noth': 82, '10': 83, 'funni': 84, 'music': 85, 'point': 86, 'start': 87, 'set': 88, 'girl': 89, 'origin': 90, 'day': 91, 'world': 92, 'everi': 93, 'believ': 94, 'turn': 95, 'quit': 96, 'direct': 97, 'us': 98, 'thought': 99, 'fact': 100, 'minut': 101, 'horror': 102, 'kill': 103, 'action': 104, 'comedi': 105, 'pretti': 106, 'young': 107, 'wonder': 108, 'happen': 109, 'around': 110, 'got': 111, 'effect': 112, 'right': 113, 'long': 114, 'howev': 115, 'big': 116, 'line': 117, 'famili': 118, 'enough': 119, 'seri': 120, 'may': 121, 'need': 122, 'fan': 123, 'bit': 124, 'script': 125, 'beauti': 126, 'person': 127, 'becom': 128, 'without': 129, 'must': 130, 'alway': 131, 'friend': 132, 'tell': 133, 'reason': 134, 'saw': 135, 'last': 136, 'final': 137, 'kid': 138, 'almost': 139, 'put': 140, 'least': 141, 'sure': 142, 'done': 143, 'whole': 144, 'place': 145, 'complet': 146, 'kind': 147, 'expect': 148, 'differ': 149, 'shot': 150, 'far': 151, 'mean': 152, 'anyth': 153, 'book': 154, 'laugh': 155, 'might': 156, 'name': 157, 'sinc': 158, 'begin': 159, '2': 160, 'probabl': 161, 'woman': 162, 'help': 163, 'entertain': 164, 'let': 165, 'screen': 166, 'call': 167, 'tv': 168, 'moment': 169, 'away': 170, 'read': 171, 'yet': 172, 'rather': 173, 'worst': 174, 'run': 175, 'fun': 176, 'lead': 177, 'hard': 178, 'audienc': 179, 'idea': 180, 'anyon': 181, 'episod': 182, 'american': 183, 'found': 184, 'appear': 185, 'bore': 186, 'especi': 187, 'although': 188, 'hope': 189, 'keep': 190, 'cours': 191, 'anim': 192, 'job': 193, 'goe': 194, 'move': 195, 'sens': 196, 'dvd': 197, 'version': 198, 'war': 199, 'money': 200, 'someon': 201, 'mind': 202, 'mayb': 203, 'problem': 204, 'true': 205, 'hous': 206, 'everyth': 207, 'nice': 208, 'second': 209, 'rate': 210, 'three': 211, 'night': 212, 'follow': 213, 'face': 214, 'recommend': 215, 'main': 216, 'product': 217, 'worth': 218, 'leav': 219, 'human': 220, 'special': 221, 'excel': 222, 'togeth': 223, 'wast': 224, 'sound': 225, 'everyon': 226, 'john': 227, 'hand': 228, '1': 229, 'father': 230, 'later': 231, 'eye': 232, 'said': 233, 'view': 234, 'instead': 235, 'review': 236, 'boy': 237, 'high': 238, 'hour': 239, 'miss': 240, 'talk': 241, 'classic': 242, 'wife': 243, 'understand': 244, 'left': 245, 'care': 246, 'black': 247, 'death': 248, 'open': 249, 'murder': 250, 'write': 251, 'half': 252, 'head': 253, 'rememb': 254, 'chang': 255, 'viewer': 256, 'fight': 257, 'gener': 258, 'surpris': 259, 'includ': 260, 'short': 261, 'die': 262, 'fall': 263, 'less': 264, 'els': 265, 'entir': 266, 'piec': 267, 'involv': 268, 'pictur': 269, 'simpli': 270, 'top': 271, 'power': 272, 'home': 273, 'total': 274, 'usual': 275, 'budget': 276, 'attempt': 277, 'suppos': 278, 'releas': 279, 'hollywood': 280, 'terribl': 281, 'song': 282, 'men': 283, 'possibl': 284, 'featur': 285, 'portray': 286, 'disappoint': 287, 'poor': 288, '3': 289, 'coupl': 290, 'stupid': 291, 'camera': 292, 'dead': 293, 'wrong': 294, 'produc': 295, 'low': 296, 'video': 297, 'either': 298, 'aw': 299, 'definit': 300, 'except': 301, 'rest': 302, 'given': 303, 'absolut': 304, 'women': 305, 'lack': 306, 'word': 307, 'writer': 308, 'titl': 309, 'talent': 310, 'decid': 311, 'full': 312, 'perfect': 313, 'along': 314, 'style': 315, 'close': 316, 'truli': 317, 'school': 318, 'emot': 319, 'save': 320, 'age': 321, 'sex': 322, 'next': 323, 'bring': 324, 'mr': 325, 'case': 326, 'killer': 327, 'heart': 328, 'comment': 329, 'sort': 330, 'creat': 331, 'perhap': 332, 'came': 333, 'brother': 334, 'sever': 335, 'joke': 336, 'art': 337, 'dialogu': 338, 'game': 339, 'small': 340, 'base': 341, 'flick': 342, 'written': 343, 'sequenc': 344, 'meet': 345, 'earli': 346, 'often': 347, 'other': 348, 'mother': 349, 'develop': 350, 'humor': 351, 'actress': 352, 'consid': 353, 'dark': 354, 'guess': 355, 'amaz': 356, 'unfortun': 357, 'light': 358, 'lost': 359, 'exampl': 360, 'cinema': 361, 'drama': 362, 'white': 363, 'ye': 364, 'experi': 365, 'imagin': 366, 'mention': 367, 'stop': 368, 'natur': 369, 'forc': 370, 'manag': 371, 'felt': 372, 'present': 373, 'cut': 374, 'children': 375, 'fail': 376, 'son': 377, 'car': 378, 'support': 379, 'qualiti': 380, 'ask': 381, 'hit': 382, 'side': 383, 'voic': 384, 'extrem': 385, 'impress': 386, 'evil': 387, 'wors': 388, 'went': 389, 'stand': 390, 'certainli': 391, 'basic': 392, 'oh': 393, 'overal': 394, 'favorit': 395, 'horribl': 396, 'mysteri': 397, 'number': 398, 'type': 399, 'danc': 400, 'wait': 401, 'hero': 402, '5': 403, 'alreadi': 404, 'learn': 405, 'matter': 406, '4': 407, 'michael': 408, 'genr': 409, 'fine': 410, 'despit': 411, 'throughout': 412, 'walk': 413, 'success': 414, 'histori': 415, 'question': 416, 'zombi': 417, 'town': 418, 'realiz': 419, 'relationship': 420, 'child': 421, 'past': 422, 'daughter': 423, 'late': 424, 'b': 425, 'wish': 426, 'hate': 427, 'credit': 428, 'event': 429, 'theme': 430, 'touch': 431, 'citi': 432, 'today': 433, 'sometim': 434, 'behind': 435, 'god': 436, 'twist': 437, 'sit': 438, 'stay': 439, 'deal': 440, 'annoy': 441, 'abl': 442, 'rent': 443, 'pleas': 444, 'edit': 445, 'blood': 446, 'deserv': 447, 'comic': 448, 'anyway': 449, 'appar': 450, 'soon': 451, 'gave': 452, 'etc': 453, 'level': 454, 'slow': 455, 'chanc': 456, 'score': 457, 'bodi': 458, 'brilliant': 459, 'incred': 460, 'figur': 461, 'situat': 462, 'major': 463, 'self': 464, 'stuff': 465, 'decent': 466, 'element': 467, 'dream': 468, 'return': 469, 'obvious': 470, 'continu': 471, 'order': 472, 'pace': 473, 'ridicul': 474, 'happi': 475, 'highli': 476, 'group': 477, 'add': 478, 'thank': 479, 'ladi': 480, 'novel': 481, 'speak': 482, 'pain': 483, 'career': 484, 'shoot': 485, 'strang': 486, 'heard': 487, 'sad': 488, 'husband': 489, 'polic': 490, 'import': 491, 'break': 492, 'took': 493, 'cannot': 494, 'strong': 495, 'robert': 496, 'predict': 497, 'violenc': 498, 'hilari': 499, 'recent': 500, 'countri': 501, 'known': 502, 'particularli': 503, 'pick': 504, 'documentari': 505, 'season': 506, 'critic': 507, 'jame': 508, 'compar': 509, 'alon': 510, 'obviou': 511, 'told': 512, 'state': 513, 'rock': 514, 'visual': 515, 'offer': 516, 'theater': 517, 'exist': 518, 'opinion': 519, 'gore': 520, 'crap': 521, 'hold': 522, 'result': 523, 'room': 524, 'hear': 525, 'realiti': 526, 'effort': 527, 'clich': 528, 'thriller': 529, 'caus': 530, 'serious': 531, 'sequel': 532, 'explain': 533, 'king': 534, 'local': 535, 'ago': 536, 'none': 537, 'hell': 538, 'note': 539, 'allow': 540, 'sister': 541, 'david': 542, 'simpl': 543, 'femal': 544, 'deliv': 545, 'ok': 546, 'convinc': 547, 'class': 548, 'check': 549, 'suspens': 550, 'win': 551, 'oscar': 552, 'buy': 553, 'huge': 554, 'valu': 555, 'sexual': 556, 'scari': 557, 'cool': 558, 'similar': 559, 'excit': 560, 'exactli': 561, 'provid': 562, 'apart': 563, 'avoid': 564, 'shown': 565, 'seriou': 566, 'english': 567, 'taken': 568, 'whose': 569, 'cinematographi': 570, 'shock': 571, 'polit': 572, 'spoiler': 573, 'offic': 574, 'across': 575, 'middl': 576, 'pass': 577, 'street': 578, 'messag': 579, 'somewhat': 580, 'silli': 581, 'charm': 582, 'modern': 583, 'confus': 584, 'filmmak': 585, 'form': 586, 'tale': 587, 'singl': 588, 'jack': 589, 'mostli': 590, 'william': 591, 'carri': 592, 'attent': 593, 'sing': 594, 'subject': 595, 'five': 596, 'richard': 597, 'prove': 598, 'stage': 599, 'team': 600, 'unlik': 601, 'cop': 602, 'georg': 603, 'televis': 604, 'monster': 605, 'earth': 606, 'cover': 607, 'villain': 608, 'pay': 609, 'marri': 610, 'toward': 611, 'build': 612, 'pull': 613, 'parent': 614, 'due': 615, 'fill': 616, 'respect': 617, 'dialog': 618, 'four': 619, 'remind': 620, 'futur': 621, 'weak': 622, 'typic': 623, '7': 624, 'cheap': 625, 'intellig': 626, 'british': 627, 'atmospher': 628, '80': 629, 'clearli': 630, 'non': 631, 'paul': 632, 'dog': 633, 'artist': 634, 'knew': 635, '8': 636, 'fast': 637, 'crime': 638, 'easili': 639, 'escap': 640, 'doubt': 641, 'adult': 642, 'detail': 643, 'date': 644, 'member': 645, 'fire': 646, 'romant': 647, 'drive': 648, 'gun': 649, 'straight': 650, 'fit': 651, 'beyond': 652, 'attack': 653, 'imag': 654, 'upon': 655, 'posit': 656, 'whether': 657, 'peter': 658, 'fantast': 659, 'captur': 660, 'aspect': 661, 'appreci': 662, 'ten': 663, 'plan': 664, 'discov': 665, 'remain': 666, 'near': 667, 'period': 668, 'realist': 669, 'air': 670, 'mark': 671, 'red': 672, 'dull': 673, 'adapt': 674, 'within': 675, 'lose': 676, 'spend': 677, 'materi': 678, 'color': 679, 'chase': 680, 'mari': 681, 'storylin': 682, 'forget': 683, 'bunch': 684, 'clear': 685, 'lee': 686, 'victim': 687, 'nearli': 688, 'box': 689, 'york': 690, 'inspir': 691, 'match': 692, 'finish': 693, 'mess': 694, 'standard': 695, 'easi': 696, 'truth': 697, 'busi': 698, 'suffer': 699, 'space': 700, 'dramat': 701, 'bill': 702, 'western': 703, 'e': 704, 'list': 705, 'battl': 706, 'notic': 707, 'de': 708, 'french': 709, 'ad': 710, '9': 711, 'tom': 712, 'larg': 713, 'among': 714, 'eventu': 715, 'accept': 716, 'train': 717, 'agre': 718, 'soundtrack': 719, 'spirit': 720, 'third': 721, 'teenag': 722, 'adventur': 723, 'soldier': 724, 'famou': 725, 'suggest': 726, 'drug': 727, 'sorri': 728, 'babi': 729, 'cri': 730, 'normal': 731, 'ultim': 732, 'troubl': 733, 'contain': 734, 'certain': 735, 'cultur': 736, 'romanc': 737, 'rare': 738, 'lame': 739, 'somehow': 740, 'mix': 741, 'disney': 742, 'gone': 743, 'cartoon': 744, 'student': 745, 'fear': 746, 'reveal': 747, 'suck': 748, 'kept': 749, 'attract': 750, 'appeal': 751, 'premis': 752, 'greatest': 753, 'design': 754, 'secret': 755, 'shame': 756, 'throw': 757, 'scare': 758, 'copi': 759, 'wit': 760, 'america': 761, 'admit': 762, 'particular': 763, 'brought': 764, 'relat': 765, 'screenplay': 766, 'whatev': 767, 'pure': 768, '70': 769, 'harri': 770, 'averag': 771, 'master': 772, 'describ': 773, 'treat': 774, 'male': 775, '20': 776, 'issu': 777, 'fantasi': 778, 'warn': 779, 'inde': 780, 'forward': 781, 'background': 782, 'free': 783, 'project': 784, 'memor': 785, 'japanes': 786, 'poorli': 787, 'award': 788, 'locat': 789, 'potenti': 790, 'amus': 791, 'struggl': 792, 'weird': 793, 'magic': 794, 'societi': 795, 'okay': 796, 'imdb': 797, 'doctor': 798, 'accent': 799, 'hot': 800, 'water': 801, 'express': 802, 'alien': 803, '30': 804, 'dr': 805, 'odd': 806, 'choic': 807, 'crazi': 808, 'studio': 809, 'fiction': 810, 'becam': 811, 'control': 812, 'masterpiec': 813, 'difficult': 814, 'fli': 815, 'joe': 816, 'scream': 817, 'costum': 818, 'lover': 819, 'refer': 820, 'uniqu': 821, 'remak': 822, 'vampir': 823, 'girlfriend': 824, 'prison': 825, 'execut': 826, 'wear': 827, 'jump': 828, 'unless': 829, 'wood': 830, 'creepi': 831, 'cheesi': 832, 'superb': 833, 'otherwis': 834, 'parti': 835, 'roll': 836, 'ghost': 837, 'mad': 838, 'public': 839, 'depict': 840, 'badli': 841, 'week': 842, 'moral': 843, 'earlier': 844, 'jane': 845, 'dumb': 846, 'fi': 847, 'grow': 848, 'flaw': 849, 'sci': 850, 'deep': 851, 'cat': 852, 'maker': 853, 'connect': 854, 'older': 855, 'footag': 856, 'bother': 857, 'plenti': 858, 'outsid': 859, 'stick': 860, 'gay': 861, 'catch': 862, 'plu': 863, 'co': 864, 'popular': 865, 'equal': 866, 'social': 867, 'quickli': 868, 'disturb': 869, 'perfectli': 870, 'dress': 871, '90': 872, 'era': 873, 'mistak': 874, 'lie': 875, 'ride': 876, 'previou': 877, 'combin': 878, 'concept': 879, 'band': 880, 'rich': 881, 'answer': 882, 'surviv': 883, 'front': 884, 'sweet': 885, 'christma': 886, 'insid': 887, 'concern': 888, 'bare': 889, 'eat': 890, 'listen': 891, 'beat': 892, 'ben': 893, 'c': 894, 'serv': 895, 'term': 896, 'la': 897, 'meant': 898, 'german': 899, 'stereotyp': 900, 'hardli': 901, 'law': 902, 'innoc': 903, 'desper': 904, 'memori': 905, 'promis': 906, 'cute': 907, 'intent': 908, 'inform': 909, 'steal': 910, 'variou': 911, 'brain': 912, 'post': 913, 'tone': 914, 'island': 915, 'amount': 916, 'track': 917, 'nuditi': 918, 'compani': 919, 'store': 920, 'claim': 921, 'hair': 922, '50': 923, 'flat': 924, 'univers': 925, 'land': 926, 'kick': 927, 'fairli': 928, 'danger': 929, 'scott': 930, 'player': 931, 'plain': 932, 'step': 933, 'crew': 934, 'toni': 935, 'share': 936, 'tast': 937, 'centuri': 938, 'achiev': 939, 'engag': 940, 'cold': 941, 'travel': 942, 'suit': 943, 'record': 944, 'rip': 945, 'manner': 946, 'sadli': 947, 'spot': 948, 'tension': 949, 'wrote': 950, 'fascin': 951, 'intens': 952, 'familiar': 953, 'depth': 954, 'burn': 955, 'remark': 956, 'histor': 957, 'destroy': 958, 'sleep': 959, 'purpos': 960, 'languag': 961, 'ruin': 962, 'ignor': 963, 'delight': 964, 'italian': 965, 'unbeliev': 966, 'abil': 967, 'collect': 968, 'soul': 969, 'clever': 970, 'detect': 971, 'violent': 972, 'rape': 973, 'reach': 974, 'door': 975, 'liter': 976, 'scienc': 977, 'trash': 978, 'reveng': 979, 'commun': 980, 'caught': 981, 'creatur': 982, 'trip': 983, 'approach': 984, 'fashion': 985, 'intrigu': 986, 'paint': 987, 'skill': 988, 'introduc': 989, 'channel': 990, 'complex': 991, 'camp': 992, 'christian': 993, 'extra': 994, 'hole': 995, 'limit': 996, 'immedi': 997, 'ann': 998, 'mental': 999, '6': 1000, 'million': 1001, 'mere': 1002, 'slightli': 1003, 'comput': 1004, 'slasher': 1005, 'conclus': 1006, 'imposs': 1007, 'suddenli': 1008, 'teen': 1009, 'crimin': 1010, 'neither': 1011, 'physic': 1012, 'nation': 1013, 'spent': 1014, 'respons': 1015, 'planet': 1016, 'fake': 1017, 'receiv': 1018, 'blue': 1019, 'sick': 1020, 'bizarr': 1021, 'embarrass': 1022, 'indian': 1023, '15': 1024, 'ring': 1025, 'pop': 1026, 'drop': 1027, 'drag': 1028, 'haunt': 1029, 'suspect': 1030, 'pointless': 1031, 'edg': 1032, 'search': 1033, 'handl': 1034, 'biggest': 1035, 'common': 1036, 'hurt': 1037, 'faith': 1038, 'arriv': 1039, 'technic': 1040, 'angel': 1041, 'genuin': 1042, 'dad': 1043, 'solid': 1044, 'f': 1045, 'awesom': 1046, 'colleg': 1047, 'van': 1048, 'focu': 1049, 'former': 1050, 'count': 1051, 'heavi': 1052, 'tear': 1053, 'rais': 1054, 'wall': 1055, 'younger': 1056, 'visit': 1057, 'laughabl': 1058, 'sign': 1059, 'fair': 1060, 'excus': 1061, 'cult': 1062, 'key': 1063, 'tough': 1064, 'motion': 1065, 'super': 1066, 'desir': 1067, 'addit': 1068, 'stun': 1069, 'exploit': 1070, 'cloth': 1071, 'tortur': 1072, 'smith': 1073, 'race': 1074, 'davi': 1075, 'cross': 1076, 'author': 1077, 'jim': 1078, 'minor': 1079, 'consist': 1080, 'focus': 1081, 'compel': 1082, 'commit': 1083, 'chemistri': 1084, 'pathet': 1085, 'park': 1086, 'obsess': 1087, 'frank': 1088, 'tradit': 1089, 'grade': 1090, 'asid': 1091, '60': 1092, 'brutal': 1093, 'somewher': 1094, 'steve': 1095, 'rule': 1096, 'explor': 1097, 'opportun': 1098, 'u': 1099, 'grant': 1100, 'depress': 1101, 'honest': 1102, 'besid': 1103, 'dub': 1104, 'anti': 1105, 'intend': 1106, 'trailer': 1107, 'bar': 1108, 'scientist': 1109, 'longer': 1110, 'regard': 1111, 'west': 1112, 'decad': 1113, 'judg': 1114, 'silent': 1115, 'armi': 1116, 'creativ': 1117, 'wild': 1118, 'stewart': 1119, 'south': 1120, 'g': 1121, 'draw': 1122, 'road': 1123, 'govern': 1124, 'ex': 1125, 'boss': 1126, 'practic': 1127, 'gang': 1128, 'motiv': 1129, 'club': 1130, 'surprisingli': 1131, 'festiv': 1132, 'london': 1133, 'redeem': 1134, 'green': 1135, 'page': 1136, 'display': 1137, 'machin': 1138, 'militari': 1139, 'idiot': 1140, 'aliv': 1141, 'repeat': 1142, 'thrill': 1143, '100': 1144, 'folk': 1145, 'nobodi': 1146, 'yeah': 1147, '40': 1148, 'garbag': 1149, 'journey': 1150, 'tire': 1151, 'ground': 1152, 'smile': 1153, 'mood': 1154, 'bought': 1155, 'cost': 1156, 'stone': 1157, 'sam': 1158, 'mouth': 1159, 'noir': 1160, 'terrif': 1161, 'agent': 1162, 'requir': 1163, 'utterli': 1164, 'area': 1165, 'sexi': 1166, 'honestli': 1167, 'geniu': 1168, 'report': 1169, 'glad': 1170, 'humour': 1171, 'investig': 1172, 'enter': 1173, 'serial': 1174, 'occasion': 1175, 'passion': 1176, 'narr': 1177, 'climax': 1178, 'marriag': 1179, 'industri': 1180, 'studi': 1181, 'nowher': 1182, 'demon': 1183, 'center': 1184, 'charli': 1185, 'ship': 1186, 'bear': 1187, 'loos': 1188, 'hors': 1189, 'wow': 1190, 'hang': 1191, 'graphic': 1192, 'giant': 1193, 'admir': 1194, 'send': 1195, 'loud': 1196, 'damn': 1197, 'rel': 1198, 'profession': 1199, 'nake': 1200, 'subtl': 1201, 'blow': 1202, 'bottom': 1203, 'insult': 1204, 'batman': 1205, 'boyfriend': 1206, 'kelli': 1207, 'r': 1208, 'doubl': 1209, 'initi': 1210, 'frame': 1211, 'gem': 1212, 'opera': 1213, 'drawn': 1214, 'church': 1215, 'challeng': 1216, 'affect': 1217, 'cinemat': 1218, 'j': 1219, 'l': 1220, 'evid': 1221, 'fulli': 1222, 'nightmar': 1223, 'seek': 1224, 'conflict': 1225, 'essenti': 1226, 'arm': 1227, 'wind': 1228, 'christoph': 1229, 'henri': 1230, 'grace': 1231, 'assum': 1232, 'narrat': 1233, 'witch': 1234, 'hunt': 1235, 'push': 1236, 'chri': 1237, 'wise': 1238, 'month': 1239, 'nomin': 1240, 'repres': 1241, 'hide': 1242, 'sceneri': 1243, 'affair': 1244, 'avail': 1245, 'bond': 1246, 'smart': 1247, 'justic': 1248, 'thu': 1249, 'outstand': 1250, 'interview': 1251, 'flashback': 1252, 'presenc': 1253, 'satisfi': 1254, 'constantli': 1255, 'central': 1256, 'bed': 1257, 'content': 1258, 'iron': 1259, 'sell': 1260, 'everybodi': 1261, 'gag': 1262, 'slowli': 1263, 'hotel': 1264, 'hire': 1265, 'system': 1266, 'charl': 1267, 'hey': 1268, 'thrown': 1269, 'individu': 1270, 'adam': 1271, 'mediocr': 1272, 'jone': 1273, 'allen': 1274, 'billi': 1275, 'lesson': 1276, 'ray': 1277, 'photographi': 1278, 'cameo': 1279, 'pari': 1280, 'fellow': 1281, 'strike': 1282, 'rise': 1283, 'absurd': 1284, 'brief': 1285, 'independ': 1286, 'neg': 1287, 'phone': 1288, 'impact': 1289, 'model': 1290, 'born': 1291, 'ill': 1292, 'fresh': 1293, 'spoil': 1294, 'angl': 1295, 'abus': 1296, 'likabl': 1297, 'discuss': 1298, 'hill': 1299, 'ahead': 1300, 'sight': 1301, 'photograph': 1302, 'sent': 1303, 'occur': 1304, 'logic': 1305, 'blame': 1306, 'shine': 1307, 'mainli': 1308, 'bruce': 1309, 'forev': 1310, 'commerci': 1311, 'skip': 1312, 'teacher': 1313, 'surround': 1314, 'held': 1315, 'segment': 1316, 'zero': 1317, 'blond': 1318, 'resembl': 1319, 'trap': 1320, 'satir': 1321, 'summer': 1322, 'fool': 1323, 'six': 1324, 'queen': 1325, 'ball': 1326, 'tragedi': 1327, 'sub': 1328, 'twice': 1329, 'reaction': 1330, 'pack': 1331, 'bomb': 1332, 'hospit': 1333, 'protagonist': 1334, 'will': 1335, 'sport': 1336, 'mile': 1337, 'mom': 1338, 'jerri': 1339, 'drink': 1340, 'trust': 1341, 'vote': 1342, 'encount': 1343, 'plane': 1344, 'al': 1345, 'program': 1346, 'current': 1347, 'station': 1348, 'celebr': 1349, 'choos': 1350, 'martin': 1351, 'join': 1352, 'tragic': 1353, 'field': 1354, 'round': 1355, 'lord': 1356, 'favourit': 1357, 'robot': 1358, 'jean': 1359, 'vision': 1360, 'tie': 1361, 'arthur': 1362, 'roger': 1363, 'random': 1364, 'fortun': 1365, 'dread': 1366, 'psycholog': 1367, 'intern': 1368, 'improv': 1369, 'epic': 1370, 'nonsens': 1371, 'prefer': 1372, 'formula': 1373, 'pleasur': 1374, 'legend': 1375, 'highlight': 1376, 'dollar': 1377, 'tape': 1378, '11': 1379, 'object': 1380, 'wide': 1381, 'porn': 1382, 'thin': 1383, 'fox': 1384, 'gorgeou': 1385, 'influenc': 1386, 'ugli': 1387, 'buddi': 1388, 'ii': 1389, 'prepar': 1390, 'nasti': 1391, 'progress': 1392, 'reflect': 1393, 'supposedli': 1394, 'warm': 1395, 'worthi': 1396, 'youth': 1397, 'unusu': 1398, 'latter': 1399, 'length': 1400, 'crash': 1401, 'seven': 1402, 'childhood': 1403, 'shop': 1404, 'superior': 1405, 'theatr': 1406, 'remot': 1407, 'funniest': 1408, 'paid': 1409, 'pilot': 1410, 'disgust': 1411, 'trick': 1412, 'convers': 1413, 'castl': 1414, 'fell': 1415, 'establish': 1416, 'disast': 1417, 'rob': 1418, 'gangster': 1419, 'disappear': 1420, 'ident': 1421, 'suicid': 1422, 'heaven': 1423, 'mine': 1424, 'forgotten': 1425, 'heroin': 1426, 'tend': 1427, 'decis': 1428, 'singer': 1429, 'mask': 1430, 'brian': 1431, 'partner': 1432, 'desert': 1433, 'recogn': 1434, 'alan': 1435, 'stuck': 1436, 'p': 1437, 'thoroughli': 1438, 'ms': 1439, 'sky': 1440, 'replac': 1441, 'accur': 1442, 'market': 1443, 'danni': 1444, 'eddi': 1445, 'seemingli': 1446, 'clue': 1447, 'commentari': 1448, 'andi': 1449, 'uncl': 1450, 'jackson': 1451, 'devil': 1452, 'refus': 1453, 'that': 1454, 'therefor': 1455, 'pair': 1456, 'fate': 1457, 'fault': 1458, 'unit': 1459, 'ed': 1460, 'accid': 1461, 'river': 1462, 'tune': 1463, 'afraid': 1464, 'stephen': 1465, 'clean': 1466, 'hidden': 1467, 'russian': 1468, 'readi': 1469, 'instanc': 1470, 'test': 1471, 'convey': 1472, 'quick': 1473, 'captain': 1474, 'irrit': 1475, 'european': 1476, 'daniel': 1477, 'insan': 1478, 'frustrat': 1479, 'wed': 1480, 'rescu': 1481, 'food': 1482, 'chines': 1483, '1950': 1484, 'dirti': 1485, 'lock': 1486, 'angri': 1487, 'joy': 1488, 'steven': 1489, 'price': 1490, 'bland': 1491, 'cage': 1492, 'rang': 1493, 'anymor': 1494, 'wooden': 1495, 'n': 1496, 'jason': 1497, 'news': 1498, 'rush': 1499, 'board': 1500, 'worri': 1501, 'led': 1502, 'martial': 1503, 'twenti': 1504, '12': 1505, 'hunter': 1506, 'symbol': 1507, 'transform': 1508, 'cgi': 1509, 'johnni': 1510, 'onto': 1511, 'x': 1512, 'sentiment': 1513, 'piti': 1514, 'invent': 1515, 'attitud': 1516, 'process': 1517, 'explan': 1518, 'owner': 1519, 'awar': 1520, 'aim': 1521, 'energi': 1522, 'necessari': 1523, 'favor': 1524, 'floor': 1525, 'target': 1526, 'religi': 1527, 'opposit': 1528, 'chick': 1529, 'blind': 1530, 'insight': 1531, 'window': 1532, 'movement': 1533, 'research': 1534, 'deepli': 1535, 'possess': 1536, 'comparison': 1537, 'mountain': 1538, 'comed': 1539, 'rain': 1540, 'grand': 1541, 'whatsoev': 1542, 'mid': 1543, 'bank': 1544, 'began': 1545, 'shadow': 1546, 'princ': 1547, 'parodi': 1548, 'friendship': 1549, 'weapon': 1550, 'taylor': 1551, 'credibl': 1552, 'pre': 1553, 'dougla': 1554, 'teach': 1555, 'flesh': 1556, 'terror': 1557, 'bloodi': 1558, 'hint': 1559, 'protect': 1560, 'marvel': 1561, 'drunk': 1562, 'load': 1563, 'leader': 1564, 'watchabl': 1565, 'accord': 1566, 'anybodi': 1567, 'superman': 1568, 'brown': 1569, 'freddi': 1570, 'hitler': 1571, 'seat': 1572, 'tim': 1573, 'jeff': 1574, 'appropri': 1575, 'keaton': 1576, 'knock': 1577, 'charg': 1578, 'unknown': 1579, 'villag': 1580, 'unnecessari': 1581, 'enemi': 1582, 'empti': 1583, 'media': 1584, 'england': 1585, 'utter': 1586, 'strength': 1587, 'dare': 1588, 'craft': 1589, 'wave': 1590, 'buck': 1591, 'perspect': 1592, 'kiss': 1593, 'contrast': 1594, 'correct': 1595, 'ford': 1596, 'nativ': 1597, 'knowledg': 1598, 'anywher': 1599, 'distract': 1600, 'nazi': 1601, 'chill': 1602, 'magnific': 1603, 'speed': 1604, 'soap': 1605, '1980': 1606, 'fred': 1607, 'breath': 1608, 'mission': 1609, 'ice': 1610, 'crowd': 1611, 'jr': 1612, 'joan': 1613, 'moon': 1614, 'kate': 1615, '000': 1616, 'frighten': 1617, 'soft': 1618, 'hundr': 1619, 'dick': 1620, 'dan': 1621, 'nick': 1622, 'somebodi': 1623, 'radio': 1624, 'dozen': 1625, 'simon': 1626, 'academi': 1627, 'andrew': 1628, 'shakespear': 1629, 'thousand': 1630, 'loss': 1631, 'vehicl': 1632, 'quot': 1633, 'root': 1634, 'account': 1635, 'sum': 1636, 'behavior': 1637, 'leg': 1638, 'convent': 1639, '1970': 1640, 'gold': 1641, 'regular': 1642, 'worker': 1643, 'compet': 1644, 'demand': 1645, 'pretenti': 1646, 'candi': 1647, 'privat': 1648, 'explos': 1649, 'lynch': 1650, 'notabl': 1651, 'interpret': 1652, 'japan': 1653, 'stretch': 1654, 'debut': 1655, 'tarzan': 1656, 'constant': 1657, 'prais': 1658, 'sea': 1659, 'revolv': 1660, 'translat': 1661, 'spi': 1662, 'failur': 1663, 'technolog': 1664, 'ass': 1665, 'quiet': 1666, 'jesu': 1667, 'threaten': 1668, 'franc': 1669, 'sat': 1670, 'met': 1671, 'punch': 1672, 'higher': 1673, 'kevin': 1674, 'aid': 1675, 'toy': 1676, 'mike': 1677, 'interact': 1678, 'abandon': 1679, 'vh': 1680, 'separ': 1681, 'command': 1682, 'confront': 1683, 'bet': 1684, 'recal': 1685, 'belong': 1686, 'gotten': 1687, 'stunt': 1688, 'site': 1689, 'servic': 1690, 'techniqu': 1691, 'cabl': 1692, 'freak': 1693, 'foot': 1694, 'bug': 1695, 'bright': 1696, 'capabl': 1697, 'fu': 1698, 'african': 1699, 'jimmi': 1700, 'fat': 1701, 'succeed': 1702, 'clark': 1703, 'stock': 1704, 'boat': 1705, 'presid': 1706, 'structur': 1707, 'gene': 1708, 'spanish': 1709, 'kidnap': 1710, 'paper': 1711, 'belief': 1712, 'whilst': 1713, 'factor': 1714, 'attend': 1715, 'realism': 1716, 'tree': 1717, 'witti': 1718, 'educ': 1719, 'realis': 1720, 'bob': 1721, 'complic': 1722, 'finest': 1723, 'assist': 1724, 'broken': 1725, 'santa': 1726, 'depart': 1727, 'determin': 1728, 'smoke': 1729, 'up': 1730, 'observ': 1731, 'v': 1732, 'fame': 1733, 'lewi': 1734, 'domin': 1735, 'hat': 1736, 'rubbish': 1737, 'routin': 1738, 'oper': 1739, 'hook': 1740, 'kinda': 1741, 'advanc': 1742, 'lone': 1743, 'foreign': 1744, 'morgan': 1745, 'safe': 1746, 'numer': 1747, 'rank': 1748, 'rose': 1749, 'shape': 1750, 'civil': 1751, 'washington': 1752, 'shallow': 1753, 'werewolf': 1754, 'vs': 1755, 'gari': 1756, 'morn': 1757, 'winner': 1758, 'ordinari': 1759, 'accomplish': 1760, 'kong': 1761, 'whenev': 1762, 'grab': 1763, 'virtual': 1764, 'peac': 1765, 'offens': 1766, 'h': 1767, 'luck': 1768, 'activ': 1769, 'complain': 1770, 'bigger': 1771, 'welcom': 1772, 'unfunni': 1773, 'contriv': 1774, 'patient': 1775, 'trek': 1776, 'con': 1777, 'dimension': 1778, 'pretend': 1779, 'flash': 1780, 'cain': 1781, 'eric': 1782, 'dri': 1783, 'wake': 1784, 'code': 1785, 'lesbian': 1786, 'dancer': 1787, 'corrupt': 1788, 'guard': 1789, 'manipul': 1790, 'statu': 1791, 'albert': 1792, 'awkward': 1793, 'signific': 1794, 'sourc': 1795, 'gain': 1796, 'context': 1797, 'speech': 1798, 'sean': 1799, 'psycho': 1800, 'clip': 1801, 'corni': 1802, 'anthoni': 1803, '13': 1804, 'theatric': 1805, 'reli': 1806, 'w': 1807, 'religion': 1808, 'priest': 1809, 'curiou': 1810, 'advic': 1811, 'flow': 1812, 'addict': 1813, 'asian': 1814, 'specif': 1815, 'skin': 1816, 'jennif': 1817, 'secur': 1818, 'howard': 1819, 'comfort': 1820, 'promot': 1821, 'organ': 1822, 'golden': 1823, 'core': 1824, 'luke': 1825, 'lucki': 1826, 'cash': 1827, 'cheat': 1828, 'lower': 1829, 'dislik': 1830, 'associ': 1831, 'contribut': 1832, 'balanc': 1833, 'devic': 1834, 'frankli': 1835, 'wing': 1836, 'degre': 1837, 'frequent': 1838, 'spell': 1839, 'regret': 1840, 'forgiv': 1841, 'lake': 1842, 'sake': 1843, 'print': 1844, 'mass': 1845, 'thoma': 1846, 'betti': 1847, 'crack': 1848, 'unexpect': 1849, 'gordon': 1850, 'invit': 1851, 'categori': 1852, 'grown': 1853, 'unfold': 1854, 'amateur': 1855, 'construct': 1856, 'depend': 1857, 'walter': 1858, 'honor': 1859, 'condit': 1860, 'grew': 1861, 'intellectu': 1862, 'matur': 1863, 'anna': 1864, 'sole': 1865, 'sudden': 1866, 'veteran': 1867, 'mirror': 1868, 'spectacular': 1869, 'experienc': 1870, 'gift': 1871, 'liner': 1872, 'freedom': 1873, 'grip': 1874, 'demonstr': 1875, 'robin': 1876, 'overli': 1877, 'meanwhil': 1878, 'card': 1879, 'colour': 1880, 'subtitl': 1881, 'oliv': 1882, 'brilliantli': 1883, 'circumst': 1884, 'theori': 1885, 'drew': 1886, 'crappi': 1887, 'unabl': 1888, 'sheriff': 1889, 'section': 1890, 'cook': 1891, 'path': 1892, 'altern': 1893, 'laughter': 1894, 'parker': 1895, 'matt': 1896, 'sheer': 1897, 'pile': 1898, 'relief': 1899, 'accident': 1900, 'wander': 1901, 'defin': 1902, 'hall': 1903, 'lawyer': 1904, 'treatment': 1905, 'sinatra': 1906, 'captiv': 1907, 'dragon': 1908, 'hank': 1909, 'gratuit': 1910, 'moor': 1911, 'halloween': 1912, 'wound': 1913, 'cowboy': 1914, 'k': 1915, 'kung': 1916, 'barbara': 1917, 'broadway': 1918, 'wayn': 1919, 'jacki': 1920, 'unintent': 1921, 'spoof': 1922, 'canadian': 1923, 'surreal': 1924, 'winter': 1925, 'statement': 1926, 'fare': 1927, 'gonna': 1928, 'cheer': 1929, 'fish': 1930, 'treasur': 1931, 'compos': 1932, 'sensit': 1933, 'victor': 1934, 'emerg': 1935, 'woodi': 1936, 'unrealist': 1937, 'driven': 1938, 'ran': 1939, 'neighbor': 1940, 'sympathet': 1941, 'overlook': 1942, 'glass': 1943, 'authent': 1944, 'topic': 1945, 'expos': 1946, 'menac': 1947, 'chief': 1948, 'handsom': 1949, 'michel': 1950, 'gross': 1951, 'ancient': 1952, 'russel': 1953, 'comedian': 1954, 'contemporari': 1955, 'stranger': 1956, 'cinderella': 1957, 'built': 1958, 'feet': 1959, 'pleasant': 1960, 'nevertheless': 1961, 'network': 1962, 'consider': 1963, 'gori': 1964, 'letter': 1965, 'earn': 1966, 'blockbust': 1967, 'endless': 1968, 'underr': 1969, 'miser': 1970, 'solv': 1971, 'switch': 1972, 'brook': 1973, 'bullet': 1974, 'convict': 1975, 'virgin': 1976, 'joseph': 1977, 'edward': 1978, 'victoria': 1979, 'chosen': 1980, 'cynic': 1981, 'scenario': 1982, 'scale': 1983, 'alex': 1984, '0': 1985, 'curs': 1986, 'gut': 1987, 'outrag': 1988, 'sword': 1989, 'com': 1990, 'proper': 1991, 'juli': 1992, 'screenwrit': 1993, 'uk': 1994, 'monkey': 1995, 'wrap': 1996, 'driver': 1997, 'substanc': 1998, 'court': 1999, 'remov': 2000, 'indic': 2001, 'par': 2002, 'bird': 2003, 'rental': 2004, 'consequ': 2005, 'loser': 2006, 'inevit': 2007, 'nanci': 2008, 'advertis': 2009, 'grave': 2010, 'naiv': 2011, 'roy': 2012, 'le': 2013, 'fatal': 2014, 'invis': 2015, 'bridg': 2016, 'slap': 2017, 'brave': 2018, 'germani': 2019, 'loui': 2020, 'footbal': 2021, 'anger': 2022, 'provok': 2023, 'ador': 2024, 'anderson': 2025, 'alcohol': 2026, 'chan': 2027, 'ryan': 2028, 'stumbl': 2029, 'willi': 2030, 'professor': 2031, 'patrick': 2032, '1930': 2033, 'bat': 2034, 'assassin': 2035, 'sharp': 2036, 'australian': 2037, 'refresh': 2038, 'amateurish': 2039, 'liber': 2040, 'strongli': 2041, 'trilog': 2042, 'ape': 2043, 'eight': 2044, 'saturday': 2045, 'heck': 2046, 'deni': 2047, 'cell': 2048, 'lousi': 2049, 'sin': 2050, 'justifi': 2051, 'san': 2052, 'resid': 2053, 'vagu': 2054, 'indi': 2055, 'reput': 2056, 'sympathi': 2057, 'creator': 2058, 'defeat': 2059, 'terrifi': 2060, 'mini': 2061, 'tediou': 2062, 'endur': 2063, 'task': 2064, 'expert': 2065, 'tabl': 2066, 'prevent': 2067, 'trial': 2068, 'employ': 2069, 'rival': 2070, 'basebal': 2071, 'offend': 2072, 'imit': 2073, 'che': 2074, 'complaint': 2075, 'europ': 2076, 'weekend': 2077, 'pitch': 2078, 'max': 2079, 'fairi': 2080, 'dig': 2081, 'beach': 2082, 'risk': 2083, 'format': 2084, 'murphi': 2085, 'purchas': 2086, 'reminisc': 2087, 'bite': 2088, 'hype': 2089, 'glimps': 2090, 'nois': 2091, 'titan': 2092, 'harsh': 2093, 'powel': 2094, 'tini': 2095, 'till': 2096, 'prime': 2097, 'north': 2098, 'strip': 2099, 'asleep': 2100, '14': 2101, 'fals': 2102, 'revel': 2103, 'descript': 2104, 'texa': 2105, 'africa': 2106, 'destruct': 2107, 'excess': 2108, 'uninterest': 2109, 'sitcom': 2110, 'surfac': 2111, 'arrest': 2112, 'semi': 2113, 'spin': 2114, 'inner': 2115, 'makeup': 2116, 'twin': 2117, 'dinosaur': 2118, 'maintain': 2119, 'argu': 2120, 'hitchcock': 2121, 'massiv': 2122, 'controversi': 2123, 'ludicr': 2124, 'kim': 2125, 'stare': 2126, 'ideal': 2127, 'insist': 2128, 'reject': 2129, 'melodrama': 2130, 'expens': 2131, 'host': 2132, 'ala': 2133, 'subplot': 2134, 'forest': 2135, 'supernatur': 2136, 'ga': 2137, 'erot': 2138, 'atroci': 2139, 'nail': 2140, 'press': 2141, 'columbo': 2142, 'identifi': 2143, 'notch': 2144, 'dude': 2145, 'cant': 2146, 'presum': 2147, 'forgett': 2148, 'guest': 2149, 'plagu': 2150, 'crude': 2151, 'character': 2152, 'closer': 2153, 'method': 2154, 'landscap': 2155, 'lion': 2156, 'foster': 2157, 'beast': 2158, 'ear': 2159, 'border': 2160, 'princess': 2161, 'aunt': 2162, 'pacino': 2163, 'urban': 2164, 'birth': 2165, 'previous': 2166, 'storytel': 2167, 'bound': 2168, 'jungl': 2169, 'damag': 2170, 'accus': 2171, 'doll': 2172, 'chose': 2173, 'jess': 2174, 'guid': 2175, 'propaganda': 2176, 'thirti': 2177, 'nude': 2178, 'emma': 2179, 'mate': 2180, '25': 2181, 'warrior': 2182, 'whoever': 2183, 'pet': 2184, 'mainstream': 2185, 'size': 2186, 'cooper': 2187, 'gritti': 2188, 'deadli': 2189, 'latest': 2190, 'upset': 2191, 'friday': 2192, 'poster': 2193, 'merit': 2194, 'exact': 2195, 'wilson': 2196, 'contact': 2197, 'contest': 2198, 'ton': 2199, 'buff': 2200, 'rough': 2201, 'popul': 2202, 'settl': 2203, 'sun': 2204, 'corps': 2205, 'citizen': 2206, 'warner': 2207, 'blend': 2208, '1990': 2209, 'overcom': 2210, 'select': 2211, 'environ': 2212, 'bu': 2213, 'metal': 2214, 'widow': 2215, 'rat': 2216, 'mgm': 2217, 'alic': 2218, 'pitt': 2219, 'guilti': 2220, 'lift': 2221, 'revolut': 2222, 'link': 2223, 'ted': 2224, 'particip': 2225, 'exagger': 2226, 'afternoon': 2227, 'matrix': 2228, 'johnson': 2229, 'moron': 2230, 'corpor': 2231, 'accompani': 2232, '1960': 2233, 'prostitut': 2234, 'corner': 2235, 'sincer': 2236, 'clair': 2237, 'multipl': 2238, 'friendli': 2239, 'doom': 2240, 'holm': 2241, 'instal': 2242, 'hood': 2243, 'leagu': 2244, 'hip': 2245, 'sunday': 2246, 'advis': 2247, 'string': 2248, 'examin': 2249, 'aka': 2250, 'irish': 2251, 'lugosi': 2252, 'defend': 2253, 'junk': 2254, 'grim': 2255, 'blah': 2256, 'campi': 2257, 'tight': 2258, 'confid': 2259, 'shake': 2260, 'shut': 2261, 'pro': 2262, 'varieti': 2263, 'rachel': 2264, 'icon': 2265, 'sullivan': 2266, 'mexican': 2267, 'medic': 2268, 'goal': 2269, 'jaw': 2270, 'attach': 2271, 'denni': 2272, 'directli': 2273, 'breast': 2274, 'duke': 2275, 'dean': 2276, 'terrorist': 2277, 'truck': 2278, 'courag': 2279, 'vietnam': 2280, 'sentenc': 2281, 'legendari': 2282, 'sarah': 2283, 'prior': 2284, 'bourn': 2285, 'proceed': 2286, 'yell': 2287, 'split': 2288, 'donald': 2289, 'entri': 2290, 'un': 2291, 'nose': 2292, 'hong': 2293, 'behav': 2294, 'lifetim': 2295, 'forth': 2296, 'unconvinc': 2297, 'stolen': 2298, 'buri': 2299, 'jerk': 2300, 'borrow': 2301, 'everywher': 2302, 'confess': 2303, 'swim': 2304, 'concentr': 2305, 'gather': 2306, 'crush': 2307, 'california': 2308, 'deliveri': 2309, 'lip': 2310, 'spite': 2311, 'turkey': 2312, 'julia': 2313, 'pan': 2314, 'hoffman': 2315, 'reward': 2316, 'downright': 2317, 'freeman': 2318, 'flight': 2319, 'offici': 2320, 'proud': 2321, 'china': 2322, 'quest': 2323, 'betray': 2324, 'inept': 2325, 'jail': 2326, 'notori': 2327, 'jon': 2328, 'sink': 2329, 'encourag': 2330, 'fade': 2331, 'fabul': 2332, 'sir': 2333, 'lazi': 2334, 'worthwhil': 2335, 'cousin': 2336, 'shower': 2337, 'storm': 2338, 'bag': 2339, 'survivor': 2340, 'relev': 2341, 'bell': 2342, 'branagh': 2343, 'lisa': 2344, 'teeth': 2345, 'susan': 2346, 'retard': 2347, 'imageri': 2348, 'tremend': 2349, 'hugh': 2350, 'facial': 2351, 'trade': 2352, 'finger': 2353, 'alright': 2354, 'quirki': 2355, 'mexico': 2356, 'bride': 2357, 'toler': 2358, 'summari': 2359, 'shark': 2360, 'stab': 2361, 'blown': 2362, 'bitter': 2363, 'hyster': 2364, 'ha': 2365, 'pose': 2366, 'von': 2367, 'afterward': 2368, 'christ': 2369, 'address': 2370, 'scheme': 2371, 'bone': 2372, 'larri': 2373, 'cruel': 2374, 'ron': 2375, 'ned': 2376, 'tour': 2377, 'swear': 2378, 'feed': 2379, 'thumb': 2380, 'pursu': 2381, 'beg': 2382, 'snake': 2383, 'traci': 2384, 'distinct': 2385, 'screw': 2386, 'occas': 2387, 'raw': 2388, 'photo': 2389, 'stomach': 2390, 'mechan': 2391, 'chair': 2392, 'obscur': 2393, 'resist': 2394, 'chain': 2395, 'gruesom': 2396, 'render': 2397, 'argument': 2398, 'cabin': 2399, 'heavili': 2400, 'southern': 2401, 'necessarili': 2402, 'holiday': 2403, 'sidney': 2404, 'hardi': 2405, 'racist': 2406, 'philip': 2407, 'understood': 2408, 'satan': 2409, 'india': 2410, 'indulg': 2411, 'pregnant': 2412, 'fourth': 2413, 'midnight': 2414, 'obnoxi': 2415, 'outfit': 2416, 'stalk': 2417, 'integr': 2418, 'tongu': 2419, 'lay': 2420, 'forgot': 2421, 'belov': 2422, 'slapstick': 2423, 'inhabit': 2424, 'deeper': 2425, 'carol': 2426, 'magazin': 2427, '17': 2428, 'ticket': 2429, 'garden': 2430, 'restor': 2431, 'incid': 2432, 'lincoln': 2433, 'shoe': 2434, 'brad': 2435, 'devot': 2436, 'guarante': 2437, 'underground': 2438, 'benefit': 2439, 'divorc': 2440, 'elizabeth': 2441, 'disbelief': 2442, 'maria': 2443, 'anticip': 2444, 'lili': 2445, 'sandler': 2446, 'princip': 2447, 'greater': 2448, 'mildli': 2449, 'capit': 2450, 'creation': 2451, 'explod': 2452, 'bbc': 2453, 'cring': 2454, 'slave': 2455, 'amazingli': 2456, 'funnier': 2457, 'introduct': 2458, 'lesli': 2459, 'extraordinari': 2460, 'halfway': 2461, 'tap': 2462, 'punish': 2463, 'text': 2464, 'wreck': 2465, 'transfer': 2466, 'overwhelm': 2467, 'advantag': 2468, 'enhanc': 2469, 'extent': 2470, 'east': 2471, 'dynam': 2472, 'jessica': 2473, 'lo': 2474, 'plant': 2475, 'deliber': 2476, 'error': 2477, 'preview': 2478, 'lane': 2479, 'horrif': 2480, 'miller': 2481, 'miscast': 2482, 'appli': 2483, 'sophist': 2484, 'homosexu': 2485, 'vincent': 2486, 'vacat': 2487, 'basi': 2488, 'ensu': 2489, '2000': 2490, 'mansion': 2491, 'steel': 2492, 'measur': 2493, 'uncomfort': 2494, 'reed': 2495, 'spoken': 2496, 'extend': 2497, 'bollywood': 2498, 'elev': 2499, 'via': 2500, 'sleazi': 2501, 'overact': 2502, 'cathol': 2503, 'breathtak': 2504, 'stanley': 2505, 'hippi': 2506, 'mous': 2507, 'fix': 2508, 'goofi': 2509, 'savag': 2510, 'melt': 2511, 'beer': 2512, 'dentist': 2513, 'blair': 2514, 'conceiv': 2515, 'assign': 2516, 'daili': 2517, 'alter': 2518, 'burt': 2519, 'nowaday': 2520, 'succe': 2521, 'subsequ': 2522, 'properli': 2523, 'carpent': 2524, 'everyday': 2525, 'inspector': 2526, 'oppos': 2527, 'sacrific': 2528, 'neck': 2529, 'laura': 2530, 'block': 2531, 'circl': 2532, 'massacr': 2533, 'mob': 2534, 'concert': 2535, 'pool': 2536, 'lesser': 2537, 'portrait': 2538, 'fallen': 2539, 'christi': 2540, 'fay': 2541, 'access': 2542, 'grey': 2543, 'seagal': 2544, 'chees': 2545, 'competit': 2546, 'isol': 2547, 'usa': 2548, 'react': 2549, 'relax': 2550, 'sinist': 2551, 'jewish': 2552, 'jake': 2553, 'nonetheless': 2554, 'chop': 2555, 'nine': 2556, 'appal': 2557, 'creep': 2558, 'spiritu': 2559, 'suitabl': 2560, '2006': 2561, 'immens': 2562, 'stink': 2563, 'lyric': 2564, 'ironi': 2565, 'adopt': 2566, 'franchis': 2567, 'retir': 2568, 'navi': 2569, 'sold': 2570, 'shirt': 2571, 'user': 2572, 'showcas': 2573, 'nut': 2574, 'spring': 2575, 'luci': 2576, 'reduc': 2577, 'needless': 2578, 'rage': 2579, 'zone': 2580, 'uninspir': 2581, 'nurs': 2582, 'digit': 2583, 'asham': 2584, 'jay': 2585, 'bulli': 2586, 'bath': 2587, 'per': 2588, 'stanwyck': 2589, 'laid': 2590, '1940': 2591, 'upper': 2592, 'oddli': 2593, 'broadcast': 2594, 'amongst': 2595, 'illustr': 2596, '2001': 2597, 'sutherland': 2598, 'aspir': 2599, 'throat': 2600, 'stylish': 2601, 'baker': 2602, 'fulfil': 2603, 'brando': 2604, 'disguis': 2605, 'pound': 2606, 'thief': 2607, 'impli': 2608, 'pride': 2609, 'wanna': 2610, 'em': 2611, 'wwii': 2612, 'neighborhood': 2613, '18': 2614, 'endear': 2615, 'nobl': 2616, '16': 2617, 'shift': 2618, 'diseas': 2619, 'tens': 2620, 'coher': 2621, 'shoulder': 2622, 'prop': 2623, 'bett': 2624, 'cinematograph': 2625, 'albeit': 2626, 'dinner': 2627, 'rochest': 2628, 'dawn': 2629, 'bo': 2630, 'distribut': 2631, 'function': 2632, 'forti': 2633, 'silenc': 2634, 'wash': 2635, 'poignant': 2636, 'shout': 2637, 'contract': 2638, 'knife': 2639, 'rebel': 2640, 'snow': 2641, 'matthau': 2642, 'surf': 2643, 'silver': 2644, 'cannib': 2645, 'internet': 2646, 'chuck': 2647, 'henc': 2648, 'derek': 2649, 'proof': 2650, 'heat': 2651, 'reunion': 2652, 'instinct': 2653, 'horrend': 2654, 'duti': 2655, 'mindless': 2656, 'cancel': 2657, 'elvira': 2658, 'height': 2659, 'eeri': 2660, 'widmark': 2661, 'etern': 2662, 'premier': 2663, 'greatli': 2664, 'pie': 2665, 'mill': 2666, 'incoher': 2667, 'innov': 2668, 'glori': 2669, 'neat': 2670, 'torn': 2671, 'elvi': 2672, 'alik': 2673, 'repetit': 2674, 'musician': 2675, 'absorb': 2676, 'spielberg': 2677, 'trite': 2678, 'horrifi': 2679, 'homag': 2680, 'precis': 2681, 'nelson': 2682, 'wealthi': 2683, 'infam': 2684, 'lovabl': 2685, 'redempt': 2686, 'itali': 2687, 'diamond': 2688, 'burton': 2689, 'bang': 2690, 'britain': 2691, 'racism': 2692, 'crisi': 2693, 'fbi': 2694, 'announc': 2695, 'blank': 2696, 'ensembl': 2697, 'dedic': 2698, 'resolut': 2699, 'hammer': 2700, 'flop': 2701, 'parallel': 2702, 'helen': 2703, 'pat': 2704, 'chaplin': 2705, 'streisand': 2706, 'happili': 2707, 'wilder': 2708, 'carter': 2709, 'cube': 2710, 'st': 2711, 'triumph': 2712, 'broke': 2713, 'factori': 2714, 'oil': 2715, 'conclud': 2716, 'mar': 2717, 'plastic': 2718, 'disagre': 2719, 'climb': 2720, 'fighter': 2721, 'chuckl': 2722, 'weight': 2723, 'march': 2724, 'rocket': 2725, 'vega': 2726, 'own': 2727, 'bush': 2728, 'row': 2729, 'dane': 2730, 'meaning': 2731, 'sensibl': 2732, 'unforgett': 2733, 'thug': 2734, 'lust': 2735, 'wherea': 2736, 'enorm': 2737, 'spare': 2738, 'dump': 2739, 'kurt': 2740, 'luca': 2741, 'boot': 2742, 'mst3k': 2743, 'fifti': 2744, 'arnold': 2745, 'dear': 2746, 'adequ': 2747, 'bobbi': 2748, 'rap': 2749, 'engin': 2750, 'stress': 2751, 'brand': 2752, 'difficulti': 2753, 'threat': 2754, 'butt': 2755, 'caricatur': 2756, 'karloff': 2757, 'fest': 2758, 'ego': 2759, 'hamlet': 2760, 'ralph': 2761, 'swing': 2762, 'elabor': 2763, 'flynn': 2764, 'homeless': 2765, 'journalist': 2766, 'arrog': 2767, 'secretari': 2768, 'polish': 2769, 'barri': 2770, 'induc': 2771, 'puppet': 2772, 'simpson': 2773, 'conspiraci': 2774, 'unbear': 2775, 'grate': 2776, 'tool': 2777, 'float': 2778, 'arrang': 2779, 'resort': 2780, 'spike': 2781, 'fanci': 2782, 'basement': 2783, 'boll': 2784, 'phillip': 2785, 'choreograph': 2786, 'exercis': 2787, 'pig': 2788, 'tribut': 2789, 'guilt': 2790, 'muppet': 2791, 'cruis': 2792, 'ward': 2793, 'stan': 2794, 'fianc': 2795, 'tower': 2796, 'layer': 2797, 'file': 2798, 'document': 2799, 'medium': 2800, 'puzzl': 2801, 'slip': 2802, 'toilet': 2803, 'ham': 2804, 'scarecrow': 2805, 'korean': 2806, 'babe': 2807, 'editor': 2808, 'item': 2809, '24': 2810, 'minim': 2811, 'assur': 2812, 'spark': 2813, 'librari': 2814, 'territori': 2815, 'larger': 2816, 'transit': 2817, 'denzel': 2818, 'portion': 2819, 'philosoph': 2820, 'orient': 2821, 'superfici': 2822, 'doc': 2823, 'glover': 2824, 'inexplic': 2825, 'slaughter': 2826, 'catherin': 2827, 'persona': 2828, 'boredom': 2829, 'financi': 2830, 'dorothi': 2831, 'jeremi': 2832, 'owe': 2833, 'walken': 2834, 'curti': 2835, 'jet': 2836, 'ban': 2837, 'shi': 2838, 'sneak': 2839, 'pg': 2840, 'wolf': 2841, 'hudson': 2842, 'backdrop': 2843, 'profound': 2844, 'eleph': 2845, 'multi': 2846, 'metaphor': 2847, 'ambigu': 2848, 'whale': 2849, 'cusack': 2850, 'implaus': 2851, 'rave': 2852, 'stiff': 2853, 'notion': 2854, 'union': 2855, 'hack': 2856, 'elsewher': 2857, '2005': 2858, 'ultra': 2859, 'gadget': 2860, 'viru': 2861, 'birthday': 2862, 'squar': 2863, 'canada': 2864, 'pad': 2865, 'distanc': 2866, 'afford': 2867, 'hawk': 2868, 'lloyd': 2869, 'superhero': 2870, 'slight': 2871, 'urg': 2872, '1st': 2873, 'deriv': 2874, 'eastwood': 2875, 'bibl': 2876, 'reader': 2877, 'newspap': 2878, 'disc': 2879, 'poison': 2880, 'eva': 2881, 'health': 2882, 'restaur': 2883, 'cure': 2884, 'huh': 2885, 'skit': 2886, 'button': 2887, 'drown': 2888, 'sadist': 2889, 'charisma': 2890, 'spread': 2891, 'montag': 2892, 'essenc': 2893, 'heston': 2894, 'peak': 2895, 'dealt': 2896, 'scoobi': 2897, 'muslim': 2898, 'fetch': 2899, 'gradual': 2900, 'invest': 2901, 'companion': 2902, 'maniac': 2903, 'estat': 2904, 'lab': 2905, 'godfath': 2906, 'subtleti': 2907, 'tea': 2908, 'servant': 2909, 'ritter': 2910, 'gothic': 2911, 'cup': 2912, 'alli': 2913, 'countless': 2914, 'miik': 2915, 'kane': 2916, 'charismat': 2917, 'briefli': 2918, 'heroic': 2919, 'salli': 2920, 'iii': 2921, 'electr': 2922, 'elect': 2923, 'admittedli': 2924, 'grandmoth': 2925, 'reel': 2926, 'wannab': 2927, 'ingredi': 2928, 'bud': 2929, 'toss': 2930, 'cole': 2931, 'resourc': 2932, 'tender': 2933, 'nuanc': 2934, 'neil': 2935, 'punk': 2936, 'mild': 2937, 'mafia': 2938, 'stronger': 2939, 'kubrick': 2940, 'stood': 2941, 'carrey': 2942, 'pit': 2943, 'gate': 2944, 'reev': 2945, 'pauli': 2946, 'shall': 2947, 'dawson': 2948, 'label': 2949, 'poverti': 2950, 'updat': 2951, 'cardboard': 2952, 'terri': 2953, 'smash': 2954, 'ian': 2955, 'smooth': 2956, 'tag': 2957, 'easier': 2958, 'cox': 2959, 'astair': 2960, 'outcom': 2961, 'useless': 2962, 'assault': 2963, 'fond': 2964, 'burst': 2965, 'bakshi': 2966, 'melodramat': 2967, 'fist': 2968, 'sketch': 2969, 'increasingli': 2970, 'divers': 2971, 'resolv': 2972, '2002': 2973, 'vari': 2974, 'vulner': 2975, 'coincid': 2976, 'qualifi': 2977, 'rex': 2978, 'samurai': 2979, 'exchang': 2980, 'blast': 2981, 'reynold': 2982, 'insert': 2983, 'luckili': 2984, 'be': 2985, 'tame': 2986, 'templ': 2987, 'scratch': 2988, 'conveni': 2989, 'suspend': 2990, 'brillianc': 2991, 'pin': 2992, 'strictli': 2993, 'nuclear': 2994, 'seventi': 2995, 'gotta': 2996, 'matthew': 2997, 'coach': 2998, 'ambiti': 2999, 'soprano': 3000, 'meat': 3001, 'farm': 3002, 'fisher': 3003, 'walker': 3004, 'hamilton': 3005, 'jami': 3006, 'closet': 3007, 'eccentr': 3008, 'kudo': 3009, 'timeless': 3010, 'discoveri': 3011, 'instantli': 3012, 'grasp': 3013, 'convolut': 3014, 'revers': 3015, 'recreat': 3016, 'clock': 3017, 'worthless': 3018, 'empir': 3019, 'spooki': 3020, 'joey': 3021, 'ninja': 3022, 'monk': 3023, 'struck': 3024, 'butcher': 3025, 'cave': 3026, 'brosnan': 3027, 'wipe': 3028, 'norman': 3029, 'evok': 3030, 'fifteen': 3031, 'sloppi': 3032, 'gray': 3033, 'selfish': 3034, 'eighti': 3035, 'clown': 3036, 'bleak': 3037, 'sidekick': 3038, 'mitchel': 3039, 'cliff': 3040, 'importantli': 3041, 'pal': 3042, 'inconsist': 3043, 'partli': 3044, 'miracl': 3045, 'declar': 3046, 'seller': 3047, 'communist': 3048, 'websit': 3049, 'debat': 3050, 'seed': 3051, 'farc': 3052, 'cheek': 3053, 'psychiatrist': 3054, 'destin': 3055, 'chew': 3056, 'enthusiast': 3057, 'aforement': 3058, '45': 3059, 'flawless': 3060, 'piano': 3061, 'ho': 3062, 'australia': 3063, 'lifestyl': 3064, 'superbl': 3065, 'stoog': 3066, 'regardless': 3067, 'akshay': 3068, 'wick': 3069, 'pressur': 3070, 'anni': 3071, 'dash': 3072, 'kitchen': 3073, 'soviet': 3074, 'drivel': 3075, 'wrestl': 3076, 'directori': 3077, 'emili': 3078, 'bash': 3079, 'abc': 3080, 'incompet': 3081, 'dire': 3082, 'slice': 3083, 'splatter': 3084, 'boil': 3085, 'distant': 3086, 'doo': 3087, 'duo': 3088, 'ken': 3089, 'dave': 3090, 'increas': 3091, 'helicopt': 3092, 'jar': 3093, 'lou': 3094, 'glow': 3095, 'mann': 3096, 'prize': 3097, 'judi': 3098, 'suppli': 3099, 'flower': 3100, 'blob': 3101, 'seduc': 3102, 'cia': 3103, 'chapter': 3104, 'beaten': 3105, 'recov': 3106, 'curios': 3107, 'artifici': 3108, 'pleasantli': 3109, 'cameron': 3110, 'cagney': 3111, 'glenn': 3112, 'eleg': 3113, 'goldberg': 3114, 'splendid': 3115, 'psychot': 3116, 'craven': 3117, 'francisco': 3118, 'ranger': 3119, 'combat': 3120, 'turner': 3121, 'favour': 3122, 'perri': 3123, 'panic': 3124, 'craig': 3125, 'ellen': 3126, 'drunken': 3127, 'laurel': 3128, 'hop': 3129, 'web': 3130, 'greek': 3131, 'graduat': 3132, 'alexand': 3133, 'shortli': 3134, 'ruth': 3135, 'hatr': 3136, '20th': 3137, 'wizard': 3138, 'flip': 3139, 'slightest': 3140, 'rid': 3141, 'fx': 3142, 'philosophi': 3143, 'falk': 3144, 'gentl': 3145, 'min': 3146, 'modesti': 3147, 'gandhi': 3148, 'plausibl': 3149, 'holi': 3150, 'lend': 3151, 'jealou': 3152, 'manhattan': 3153, 'tall': 3154, 'unpleas': 3155, 'fund': 3156, 'ocean': 3157, 'we': 3158, 'preciou': 3159, 'dracula': 3160, 'legal': 3161, 'harm': 3162, 'knight': 3163, 'felix': 3164, 'futurist': 3165, 'childish': 3166, 'reviv': 3167, 'mock': 3168, 'digniti': 3169, 'explicit': 3170, 'bless': 3171, 'overdon': 3172, 'scientif': 3173, 'nod': 3174, 'ami': 3175, 'giallo': 3176, 'tank': 3177, 'thread': 3178, 'forbidden': 3179, 'awaken': 3180, 'unwatch': 3181, 'eve': 3182, 'mel': 3183, 'yesterday': 3184, 'broad': 3185, 'pirat': 3186, 'awe': 3187, 'torment': 3188, '99': 3189, 'elderli': 3190, 'thick': 3191, 'fever': 3192, '2004': 3193, 'nerv': 3194, 'repeatedli': 3195, 'verhoeven': 3196, 'margaret': 3197, 'rivet': 3198, 'eas': 3199, 'ah': 3200, 'launch': 3201, 'uniform': 3202, 'ambit': 3203, 'absenc': 3204, 'publish': 3205, 'timothi': 3206, 'royal': 3207, 'bin': 3208, 'lean': 3209, 'roman': 3210, 'stiller': 3211, 'kay': 3212, 'politician': 3213, 'custom': 3214, 'griffith': 3215, 'acclaim': 3216, 'romero': 3217, 'automat': 3218, 'darker': 3219, 'foul': 3220, 'transport': 3221, 'tomato': 3222, 'bathroom': 3223, 'stinker': 3224, 'antic': 3225, 'warren': 3226, 'pulp': 3227, 'phrase': 3228, 'homicid': 3229, 'wallac': 3230, 'gabriel': 3231, 'pierc': 3232, 'crook': 3233, 'sunshin': 3234, 'termin': 3235, 'purpl': 3236, 'li': 3237, 'pray': 3238, 'choreographi': 3239, 'hollow': 3240, 'awak': 3241, 'revolutionari': 3242, 'evolv': 3243, 'horrid': 3244, 'karen': 3245, 'viciou': 3246, 'eyr': 3247, 'marin': 3248, 'ought': 3249, 'saint': 3250, 'kenneth': 3251, 'sixti': 3252, 'q': 3253, 'rambo': 3254, 'juvenil': 3255, 'contrari': 3256, 'packag': 3257, 'album': 3258, 'coloni': 3259, 'brazil': 3260, 'donna': 3261, 'prom': 3262, '2003': 3263, 'ramon': 3264, 'dose': 3265, 'kapoor': 3266, 'candid': 3267, 'conserv': 3268, 'twelv': 3269, 'option': 3270, 'overr': 3271, 'boast': 3272, 'stole': 3273, 'beatti': 3274, 'nerd': 3275, 'ireland': 3276, 'defi': 3277, 'mummi': 3278, 'blade': 3279, 'mildr': 3280, 'protest': 3281, 'natali': 3282, 'collabor': 3283, 'altman': 3284, 'global': 3285, 'funer': 3286, 'detract': 3287, 'jazz': 3288, 'flame': 3289, 'kirk': 3290, 'fulci': 3291, 'confirm': 3292, 'trio': 3293, 'astonish': 3294, 'mystic': 3295, 'tommi': 3296, 'destini': 3297, 'bottl': 3298, 'enterpris': 3299, 'yellow': 3300, 'leap': 3301, 'bull': 3302, 'racial': 3303, 'spit': 3304, 'audio': 3305, 'delici': 3306, 'shade': 3307, 'whip': 3308, 'blake': 3309, 'nicholson': 3310, 'adolesc': 3311, 'neo': 3312, 'meaningless': 3313, 'threw': 3314, 'bedroom': 3315, 'fonda': 3316, 'merci': 3317, 'staff': 3318, 'harder': 3319, 'enchant': 3320, 'pseudo': 3321, 'inherit': 3322, 'vivid': 3323, 'reunit': 3324, 'altogeth': 3325, 'visibl': 3326, 'todd': 3327, 'popcorn': 3328, 'swedish': 3329, 'synopsi': 3330, 'fanat': 3331, 'wire': 3332, 'edi': 3333, 'kennedi': 3334, 'bust': 3335, 'respond': 3336, 'roommat': 3337, 'await': 3338, 'reserv': 3339, 'madonna': 3340, 'voight': 3341, 'leonard': 3342, 'ruthless': 3343, 'lawrenc': 3344, 'uneven': 3345, 'lemmon': 3346, 'suspici': 3347, 'befriend': 3348, 'jew': 3349, 'tip': 3350, 'moodi': 3351, 'decor': 3352, 'exhibit': 3353, 'crocodil': 3354, 'atlanti': 3355, 'dimens': 3356, 'unsettl': 3357, 'carl': 3358, 'clumsi': 3359, 'abysm': 3360, 'garner': 3361, 'holli': 3362, 'voyag': 3363, 'chao': 3364, 'ventur': 3365, 'bargain': 3366, 'clint': 3367, 'rural': 3368, 'incident': 3369, 'centr': 3370, 'bold': 3371, 'audit': 3372, 'palma': 3373, '2007': 3374, 'bradi': 3375, 'echo': 3376, 'elimin': 3377, 'immigr': 3378, 'humili': 3379, 'lit': 3380, 'nearbi': 3381, 'cuba': 3382, 'trail': 3383, 'acknowledg': 3384, 'mall': 3385, 'versu': 3386, 'hart': 3387, 'imperson': 3388, 'cari': 3389, 'daddi': 3390, 'troop': 3391, 'tiger': 3392, 'poetic': 3393, 'neglect': 3394, 'wealth': 3395, 'characterist': 3396, 'timon': 3397, '2nd': 3398, 'ant': 3399, 'cd': 3400, 'saga': 3401, 'pun': 3402, 'prejudic': 3403, 'marshal': 3404, 'collaps': 3405, 'mistaken': 3406, 'homer': 3407, 'repuls': 3408, 'solo': 3409, 'paus': 3410, 'jeffrey': 3411, 'domest': 3412, 'mickey': 3413, 'celluloid': 3414, 'infect': 3415, 'inappropri': 3416, 'hbo': 3417, 'interrupt': 3418, 'milk': 3419, 'gear': 3420, 'coat': 3421, 'inan': 3422, 'sore': 3423, 'apolog': 3424, 'harvey': 3425, 'tribe': 3426, 'leon': 3427, 'pant': 3428, 'assembl': 3429, 'olivi': 3430, 'ginger': 3431, 'cake': 3432, 'promin': 3433, 'coffe': 3434, '1996': 3435, 'undoubtedli': 3436, 'equip': 3437, 'chest': 3438, 'airplan': 3439, 'colonel': 3440, 'trace': 3441, 'exot': 3442, 'colleagu': 3443, 'pot': 3444, 'primari': 3445, 'jenni': 3446, 'institut': 3447, 'devast': 3448, 'florida': 3449, 'highest': 3450, 'retain': 3451, 'maggi': 3452, 'embrac': 3453, 'brooklyn': 3454, 'polanski': 3455, 'pen': 3456, 'humbl': 3457, 'vulgar': 3458, 'solut': 3459, 'consum': 3460, 'furthermor': 3461, 'instant': 3462, 'aveng': 3463, 'dian': 3464, 'ya': 3465, 'bowl': 3466, 'outer': 3467, 'illog': 3468, 'descend': 3469, 'godzilla': 3470, 'dutch': 3471, 'linda': 3472, 'gender': 3473, 'cope': 3474, 'wive': 3475, 'seduct': 3476, 'rick': 3477, 'disabl': 3478, '1999': 3479, 'poke': 3480, 'sale': 3481, 'principl': 3482, 'strain': 3483, 'smaller': 3484, '3rd': 3485, 'hal': 3486, 'glamor': 3487, 'beneath': 3488, 'primarili': 3489, 'secondli': 3490, 'mixtur': 3491, 'bubbl': 3492, 'scope': 3493, 'rabbit': 3494, 'dive': 3495, 'devoid': 3496, 'predecessor': 3497, 'vast': 3498, 'gundam': 3499, 'blatant': 3500, 'cue': 3501, 'lol': 3502, 'dud': 3503, 'inferior': 3504, 'gloriou': 3505, 'yard': 3506, 'streep': 3507, 'simplist': 3508, 'disjoint': 3509, 'hideou': 3510, 'museum': 3511, 'arab': 3512, 'senseless': 3513, 'myer': 3514, 'pearl': 3515, 'alfr': 3516, 'z': 3517, 'breed': 3518, 'shelf': 3519, 'casual': 3520, 'talki': 3521, 'shirley': 3522, 'countrysid': 3523, 'trademark': 3524, 'aggress': 3525, 'domino': 3526, 'alert': 3527, 'invas': 3528, 'april': 3529, 'garbo': 3530, 'et': 3531, 'grinch': 3532, 'applaud': 3533, 'stack': 3534, 'oz': 3535, 'khan': 3536, 'hopeless': 3537, 'uwe': 3538, 'disgrac': 3539, 'vanish': 3540, 'loyal': 3541, 'defens': 3542, 'experiment': 3543, 'slide': 3544, 'robberi': 3545, 'stir': 3546, 'rendit': 3547, 'boom': 3548, 'maci': 3549, 'mail': 3550, 'hardcor': 3551, 'sh': 3552, 'robinson': 3553, 'unhappi': 3554, 'stellar': 3555, 'acid': 3556, 'mayor': 3557, 'obtain': 3558, 'illeg': 3559, 'rifl': 3560, 'blew': 3561, 'wont': 3562, 'amanda': 3563, 'dismiss': 3564, 'diana': 3565, 'soccer': 3566, 'counter': 3567, 'spider': 3568, 'incomprehens': 3569, 'dicken': 3570, 'craze': 3571, 'declin': 3572, 'tenant': 3573, 'span': 3574, 'grandfath': 3575, 'fri': 3576, 'psychic': 3577, 'recruit': 3578, 'emphasi': 3579, 'tempt': 3580, 'scroog': 3581, 'hartley': 3582, 'topless': 3583, 'berlin': 3584, 'revolt': 3585, 'ethnic': 3586, 'porno': 3587, 'bitch': 3588, 'shaw': 3589, 'lumet': 3590, 'shed': 3591, 'sibl': 3592, 'riot': 3593, 'faster': 3594, 'intim': 3595, 'parad': 3596, 'goer': 3597, 'trashi': 3598, 'woo': 3599, 'resurrect': 3600, 'ration': 3601, 'niro': 3602, 'sympath': 3603, 'wet': 3604, 'justin': 3605, 'gap': 3606, 'nephew': 3607, 'wheel': 3608, 'dealer': 3609, 'andr': 3610, 'ensur': 3611, 'slick': 3612, 'honesti': 3613, 'hesit': 3614, 'commend': 3615, 'worm': 3616, 'steam': 3617, 'region': 3618, 'jonathan': 3619, 'choru': 3620, 'weakest': 3621, '00': 3622, 'biographi': 3623, 'partial': 3624, 'hopper': 3625, 'feminist': 3626, 'eager': 3627, 'farmer': 3628, 'unreal': 3629, 'enlighten': 3630, 'mario': 3631, 'ballet': 3632, 'wendi': 3633, 'patriot': 3634, 'immort': 3635, 'lena': 3636, 'rider': 3637, 'repress': 3638, 'properti': 3639, 'charlott': 3640, 'composit': 3641, 'snap': 3642, 'prequel': 3643, 'kingdom': 3644, 'util': 3645, 'safeti': 3646, 'confin': 3647, 'hung': 3648, 'owen': 3649, 'wore': 3650, 'nostalg': 3651, 'franco': 3652, 'leo': 3653, 'victori': 3654, 'macarthur': 3655, 'morri': 3656, 'sappi': 3657, 'sandra': 3658, 'blunt': 3659, 'psychopath': 3660, 'similarli': 3661, 'mutant': 3662, 'vice': 3663, 'skull': 3664, 'del': 3665, 'rocki': 3666, 'nervou': 3667, 'snl': 3668, 'heartbreak': 3669, 'farrel': 3670, 'whoopi': 3671, 'compens': 3672, 'acquir': 3673, 'drain': 3674, 'drum': 3675, 'repli': 3676, 'tad': 3677, 'dalton': 3678, 'despair': 3679, 'bumbl': 3680, 'deed': 3681, 'latin': 3682, 'rope': 3683, 'valuabl': 3684, '1972': 3685, 'compass': 3686, 'miseri': 3687, 'bergman': 3688, 'rambl': 3689, 'pattern': 3690, 'recycl': 3691, 'cg': 3692, 'exit': 3693, 'dust': 3694, 'campbel': 3695, 'bonu': 3696, 'montana': 3697, 'bow': 3698, 'emperor': 3699, 'thru': 3700, 'tail': 3701, 'strand': 3702, 'speci': 3703, 'hyde': 3704, 'kyle': 3705, 'gimmick': 3706, 'pour': 3707, 'wacki': 3708, 'contempl': 3709, 'percept': 3710, 'radic': 3711, 'olli': 3712, 'tonight': 3713, 'bleed': 3714, '35': 3715, 'rapist': 3716, 'slug': 3717, 'oppress': 3718, 'romp': 3719, 'carradin': 3720, 'gal': 3721, 'martian': 3722, 'airport': 3723, 'orson': 3724, 'downhil': 3725, 'mistress': 3726, 'roth': 3727, 'rotten': 3728, 'chess': 3729, 'da': 3730, 'pursuit': 3731, 'arc': 3732, 'tackl': 3733, 'unpredict': 3734, 'banal': 3735, 'arguabl': 3736, 'programm': 3737, 'preach': 3738, 'edgar': 3739, 'stilt': 3740, '1983': 3741, 'taught': 3742, 'shelley': 3743, 'mislead': 3744, 'slash': 3745, 'pervers': 3746, 'champion': 3747, 'dazzl': 3748, 'paltrow': 3749, 'belt': 3750, 'melodi': 3751, 'pervert': 3752, 'tooth': 3753, 'attorney': 3754, 'heal': 3755, 'cleverli': 3756, 'graham': 3757, 'conneri': 3758, 'duval': 3759, 'poem': 3760, 'gambl': 3761, 'closest': 3762, 'sensat': 3763, 'bela': 3764, 'orang': 3765, 'passeng': 3766, 'tiresom': 3767, 'vocal': 3768, 'maid': 3769, 'virginia': 3770, 'raymond': 3771, 'mesmer': 3772, 'uplift': 3773, 'plight': 3774, 'chicken': 3775, 'franki': 3776, 'vengeanc': 3777, 'employe': 3778, 'marti': 3779, 'dixon': 3780, 'rubi': 3781, 'sirk': 3782, 'crystal': 3783, 'engross': 3784, 'clone': 3785, 'abraham': 3786, 'paranoia': 3787, 'quarter': 3788, 'extens': 3789, 'secretli': 3790, 'gerard': 3791, 'tube': 3792, 'volum': 3793, 'giggl': 3794, 'swallow': 3795, 'yawn': 3796, '1968': 3797, 'inject': 3798, 'numb': 3799, 'convincingli': 3800, 'calm': 3801, 'monologu': 3802, 'amitabh': 3803, 'habit': 3804, 'lundgren': 3805, 'climact': 3806, 'pokemon': 3807, 'bay': 3808, 'suffic': 3809, 'iran': 3810, 'mute': 3811, 'profan': 3812, 'outing': 3813, 'whine': 3814, 'scottish': 3815, 'richardson': 3816, 'septemb': 3817, 'profess': 3818, 'earl': 3819, 'plod': 3820, 'taxi': 3821, 'ethan': 3822, 'poetri': 3823, 'backward': 3824, 'nichola': 3825, 'lowest': 3826, 'underst': 3827, 'chicago': 3828, 'bend': 3829, 'franci': 3830, 'im': 3831, 'linger': 3832, 'surpass': 3833, 'fed': 3834, 'frankenstein': 3835, 'dispos': 3836, 'grotesqu': 3837, 'meander': 3838, 'trend': 3839, 'junior': 3840, 'austen': 3841, 'spock': 3842, 'expand': 3843, 'abort': 3844, 'nostalgia': 3845, 'muddl': 3846, 'dysfunct': 3847, 'econom': 3848, 'descent': 3849, 'greedi': 3850, 'cannon': 3851, 'sue': 3852, 'myth': 3853, 'lure': 3854, 'compliment': 3855, 'waitress': 3856, 'rubber': 3857, 'mundan': 3858, 'rant': 3859, 'simplic': 3860, 'household': 3861, 'stallon': 3862, 'literatur': 3863, 'tourist': 3864, 'instrument': 3865, 'eugen': 3866, 'hum': 3867, 'spoke': 3868, 'catchi': 3869, 'der': 3870, 'bacal': 3871, 'hello': 3872, 'mortal': 3873, 'firstli': 3874, 'lang': 3875, 'flee': 3876, 'randi': 3877, 'mankind': 3878, 'phantom': 3879, 'recognis': 3880, 'map': 3881, 'deaf': 3882, 'stale': 3883, 'cent': 3884, 'irrelev': 3885, 'omen': 3886, 'dement': 3887, 'sissi': 3888, 'alongsid': 3889, 'equival': 3890, 'coast': 3891, 'eaten': 3892, 'phoni': 3893, 'louis': 3894, 'dictat': 3895, 'carel': 3896, 'insur': 3897, 'duck': 3898, 'molli': 3899, 'furi': 3900, 'occupi': 3901, 'crucial': 3902, 'recognit': 3903, 'damon': 3904, 'june': 3905, 'onlin': 3906, 'bump': 3907, 'lengthi': 3908, 'freez': 3909, 'twilight': 3910, 'buffalo': 3911, 'daisi': 3912, 'labor': 3913, 'grayson': 3914, 'drake': 3915, 'newli': 3916, 'loyalti': 3917, 'heel': 3918, 'dreari': 3919, 'reign': 3920, 'likewis': 3921, 'cyborg': 3922, 'wisdom': 3923, 'biko': 3924, 'rude': 3925, '1973': 3926, 'ashley': 3927, 'blackmail': 3928, 'bike': 3929, 'antwon': 3930, 'rooney': 3931, 'distinguish': 3932, 'damm': 3933, 'nineti': 3934, 'incorpor': 3935, 'keith': 3936, 'basketbal': 3937, 'butler': 3938, 'approv': 3939, 'startl': 3940, 'vein': 3941, 'worn': 3942, 'provoc': 3943, 'unorigin': 3944, 'attribut': 3945, 'tunnel': 3946, 'prey': 3947, 'emphas': 3948, 'analysi': 3949, 'chronicl': 3950, 'interior': 3951, 'boxer': 3952, 'barrymor': 3953, 'pink': 3954, 'sailor': 3955, 'proce': 3956, 'exposur': 3957, 'ridden': 3958, 'inher': 3959, 'baddi': 3960, 'bunni': 3961, 'millionair': 3962, 'hypnot': 3963, 'unrel': 3964, 'mighti': 3965, 'elm': 3966, 'julian': 3967, 'degrad': 3968, 'othello': 3969, 'er': 3970, 'substitut': 3971, 'indiffer': 3972, 'simmon': 3973, 'drift': 3974, 'meyer': 3975, 'meg': 3976, 'mormon': 3977, 'underli': 3978, 'stalker': 3979, 'fleet': 3980, 'carla': 3981, 'robbin': 3982, 'walsh': 3983, 'belushi': 3984, 'improvis': 3985, 'barrel': 3986, 'undeni': 3987, 'condemn': 3988, 'nicol': 3989, 'predat': 3990, 'firm': 3991, 'roof': 3992, 'reid': 3993, 'warmth': 3994, 'palac': 3995, 'agenda': 3996, 'enthusiasm': 3997, 'edgi': 3998, 'alison': 3999, 'disord': 4000, 'vital': 4001, 'marion': 4002, 'nyc': 4003, 'alarm': 4004, 'exquisit': 4005, 'unawar': 4006, 'watson': 4007, 'errol': 4008, 'priceless': 4009, 'greed': 4010, 'dolph': 4011, '3d': 4012, 'shove': 4013, 'lampoon': 4014, 'mtv': 4015, 'rukh': 4016, 'hay': 4017, 'novak': 4018, 'showdown': 4019, 'glanc': 4020, 'minimum': 4021, 'angela': 4022, 'israel': 4023, 'randomli': 4024, 'championship': 4025, 'testament': 4026, 'petti': 4027, 'ponder': 4028, 'spain': 4029, 'pamela': 4030, 'sergeant': 4031, 'crown': 4032, 'thompson': 4033, '13th': 4034, 'preserv': 4035, 'simultan': 4036, 'session': 4037, 'beatl': 4038, 'iraq': 4039, 'peck': 4040, 'eastern': 4041, 'campaign': 4042, 'profit': 4043, 'what': 4044, 'gestur': 4045, 'coup': 4046, 'cassidi': 4047, 'distort': 4048, 'valentin': 4049, 'drip': 4050, 'nun': 4051, 'orlean': 4052, 'peril': 4053, '1933': 4054, 'unleash': 4055, 'zizek': 4056, 'represent': 4057, 'shootout': 4058, 'valley': 4059, 'stroke': 4060, 'brenda': 4061, 'gentleman': 4062, 'stake': 4063, 'travesti': 4064, 'din': 4065, 'wig': 4066, 'reson': 4067, 'buster': 4068, 'empathi': 4069, 'scotland': 4070, 'quinn': 4071, '1984': 4072, 'kurosawa': 4073, 'realm': 4074, 'mon': 4075, 'han': 4076, 'bro': 4077, 'miyazaki': 4078, 'exposit': 4079, 'calib': 4080, 'climat': 4081, 'cooki': 4082, 'restrain': 4083, 'crow': 4084, 'jan': 4085, 'perpetu': 4086, 'crawl': 4087, 'cream': 4088, 'regist': 4089, 'unimagin': 4090, 'fido': 4091, 'contradict': 4092, 'sabrina': 4093, 'rout': 4094, 'meryl': 4095, 'sucker': 4096, 'painter': 4097, 'femm': 4098, 'stargat': 4099, '1997': 4100, 'josh': 4101, 'shaki': 4102, 'pretens': 4103, 'absent': 4104, 'abomin': 4105, 'delic': 4106, 'sammi': 4107, 'shoddi': 4108, 'monoton': 4109, '1987': 4110, 'businessman': 4111, 'tacki': 4112, 'mclaglen': 4113, 'geek': 4114, 'passabl': 4115, 'darren': 4116, 'greg': 4117, 'warrant': 4118, 'ross': 4119, 'dana': 4120, 'demis': 4121, 'baldwin': 4122, 'distress': 4123, 'derang': 4124, 'wax': 4125, 'unseen': 4126, 'compromis': 4127, 'soderbergh': 4128, 'traumat': 4129, 'cloud': 4130, 'spacey': 4131, 'pole': 4132, 'perceiv': 4133, 'censor': 4134, 'crawford': 4135, 'ustinov': 4136, 'fuller': 4137, 'unsatisfi': 4138, 'unravel': 4139, 'correctli': 4140, 'wholli': 4141, 'antonioni': 4142, 'seal': 4143, 'uncov': 4144, 'furiou': 4145, 'jewel': 4146, 'fog': 4147, 'primit': 4148, '1993': 4149, 'valid': 4150, 'accuraci': 4151, 'nathan': 4152, 'tech': 4153, 'kumar': 4154, 'deniro': 4155, 'fenc': 4156, 'polici': 4157, 'reluct': 4158, 'norm': 4159, 'clash': 4160, 'judgment': 4161, 'dee': 4162, 'exclus': 4163, 'anchor': 4164, 'expedit': 4165, 'deceas': 4166, 'verbal': 4167, 'sid': 4168, 'austin': 4169, 'tarantino': 4170, 'click': 4171, 'fought': 4172, 'malon': 4173, 'patienc': 4174, 'vanc': 4175, 'sand': 4176, 'darn': 4177, 'hallucin': 4178, 'wretch': 4179, 'tax': 4180, 'slam': 4181, 'fabric': 4182, 'behold': 4183, '1995': 4184, 'fart': 4185, 'mode': 4186, 'sustain': 4187, 'joel': 4188, 'sunni': 4189, 'conduct': 4190, 'roller': 4191, 'unfair': 4192, 'pocket': 4193, '1971': 4194, 'murray': 4195, 'ritual': 4196, 'seldom': 4197, 'debt': 4198, 'logan': 4199, 'dreck': 4200, '3000': 4201, 'sheet': 4202, 'bake': 4203, 'trait': 4204, 'temper': 4205, 'enforc': 4206, 'wang': 4207, 'alec': 4208, 'nicola': 4209, '2008': 4210, 'crippl': 4211, 'shanghai': 4212, 'clerk': 4213, 'stark': 4214, 'soup': 4215, 'despis': 4216, 'preposter': 4217, 'sweep': 4218, 'divid': 4219, 'shell': 4220, 'helpless': 4221, 'bridget': 4222, 'stuart': 4223, 'phil': 4224, 'bias': 4225, 'guitar': 4226, 'schedul': 4227, 'squad': 4228, 'rita': 4229, 'runner': 4230, 'isabel': 4231, 'pete': 4232, 'critiqu': 4233, 'fundament': 4234, 'outlin': 4235, 'exhaust': 4236, 'clau': 4237, 'scriptwrit': 4238, 'tactic': 4239, 'conscious': 4240, 'canyon': 4241, 'legaci': 4242, 'technicolor': 4243, 'penni': 4244, 'robber': 4245, 'grief': 4246, 'preston': 4247, 'culmin': 4248, 'marc': 4249, 'restrict': 4250, 'unexpectedli': 4251, 'flair': 4252, 'palanc': 4253, 'inabl': 4254, 'vomit': 4255, 'agenc': 4256, 'sniper': 4257, 'jacket': 4258, 'rehash': 4259, 'alicia': 4260, 'bloom': 4261, 'connor': 4262, 'delv': 4263, 'sentinel': 4264, 'cigarett': 4265, 'newman': 4266, 'russia': 4267, 'liberti': 4268, 'gregori': 4269, 'kansa': 4270, 'invad': 4271, 'rear': 4272, 'lacklust': 4273, 'propos': 4274, 'implic': 4275, 'jodi': 4276, 'downey': 4277, 'alley': 4278, 'boyl': 4279, 'consciou': 4280, 'drove': 4281, 'sugar': 4282, 'passag': 4283, 'bacon': 4284, 'cap': 4285, 'improb': 4286, 'horn': 4287, 'ladder': 4288, 'delet': 4289, 'sharon': 4290, 'rehears': 4291, 'behaviour': 4292, 'pale': 4293, 'rod': 4294, 'feat': 4295, 'tendenc': 4296, 'kolchak': 4297, 'karl': 4298, 'chainsaw': 4299, 'awhil': 4300, '22': 4301, 'arrow': 4302, 'aesthet': 4303, 'wrench': 4304, 'lush': 4305, 'mccoy': 4306, 'rampag': 4307, 'yeti': 4308, 'asylum': 4309, 'foxx': 4310, '1936': 4311, 'tripe': 4312, 'vet': 4313, 'loneli': 4314, 'basing': 4315, '1978': 4316, '19th': 4317, 'hulk': 4318, 'rhythm': 4319, 'underneath': 4320, 'shortcom': 4321, 'sung': 4322, 'lurk': 4323, 'filler': 4324, 'suspicion': 4325, 'prank': 4326, 'el': 4327, 'paramount': 4328, 'minu': 4329, 'spice': 4330, 'coaster': 4331, 'newcom': 4332, 'tasteless': 4333, 'wagner': 4334, 'hungri': 4335, 'weav': 4336, 'hackney': 4337, 'elit': 4338, 'suffici': 4339, 'paradis': 4340, 'conscienc': 4341, '1920': 4342, 'stream': 4343, 'rumor': 4344, 'aristocrat': 4345, 'visitor': 4346, '1988': 4347, 'wildli': 4348, 'financ': 4349, 'amazon': 4350, 'fright': 4351, 'globe': 4352, 'tomorrow': 4353, 'scoop': 4354, 'thunderbird': 4355, 'choppi': 4356, 'rub': 4357, 'heist': 4358, 'smell': 4359, 'penn': 4360, 'recogniz': 4361, 'posey': 4362, 'teas': 4363, '75': 4364, 'curli': 4365, 'impos': 4366, 'cancer': 4367, 'grudg': 4368, 'iv': 4369, '1939': 4370, 'bread': 4371, 'quietli': 4372, 'couch': 4373, 'straightforward': 4374, '1989': 4375, 'inmat': 4376, 'brit': 4377, 'naughti': 4378, 'leigh': 4379, 'beverli': 4380, 'secondari': 4381, 'entranc': 4382, 'lectur': 4383, 'tierney': 4384, 'springer': 4385, 'abrupt': 4386, 'atroc': 4387, 'chamberlain': 4388, 'literari': 4389, 'ram': 4390, 'en': 4391, 'hopkin': 4392, 'dirt': 4393, 'immers': 4394, 'ingeni': 4395, 'counterpart': 4396, 'worship': 4397, 'paxton': 4398, 'chavez': 4399, 'standout': 4400, 'minist': 4401, 'wwe': 4402, 'transcend': 4403, 'misguid': 4404, 'missil': 4405, 'laurenc': 4406, 'sassi': 4407, 'esther': 4408, 'nolan': 4409, 'geni': 4410, 'bernard': 4411, '1986': 4412, 'injuri': 4413, 'yearn': 4414, 'sublim': 4415, 'variat': 4416, 'nemesi': 4417, 'convert': 4418, 'clan': 4419, 'skeptic': 4420, 'cattl': 4421, 'lindsay': 4422, 'entitl': 4423, 'moreov': 4424, 'quaid': 4425, 'morbid': 4426, 'ratso': 4427, 'duel': 4428, 'attenborough': 4429, 'heartfelt': 4430, 'policeman': 4431, 'watcher': 4432, 'enthral': 4433, 'net': 4434, 'ace': 4435, 'unexplain': 4436, 'out': 4437, 'tyler': 4438, 'hk': 4439, 'obstacl': 4440, 'egg': 4441, 'hopelessli': 4442, 'reliabl': 4443, 'setup': 4444, 'dont': 4445, 'spiral': 4446, 'poe': 4447, 'youngest': 4448, 'bye': 4449, 'buzz': 4450, 'grin': 4451, 'rosemari': 4452, '1979': 4453, 'brood': 4454, 'facil': 4455, 'moder': 4456, 'cruelti': 4457, 'carlito': 4458, 'artsi': 4459, 'enabl': 4460, 'vader': 4461, 'graini': 4462, 'diari': 4463, 'steadi': 4464, 'kitti': 4465, 'uncut': 4466, 'kidman': 4467, 'characteris': 4468, 'mytholog': 4469, 'puppi': 4470, 'bean': 4471, 'exterior': 4472, 'acquaint': 4473, 'athlet': 4474, 'brendan': 4475, 'sweat': 4476, '1969': 4477, 'niec': 4478, 'patricia': 4479, 'underworld': 4480, 'martha': 4481, 'hain': 4482, 'clueless': 4483, 'bounc': 4484, 'heap': 4485, 'christin': 4486, 'gina': 4487, 'hammi': 4488, 'fuel': 4489, 'effici': 4490, 'disastr': 4491, 'narrow': 4492, 'weather': 4493, 'oblig': 4494, 'despic': 4495, 'kline': 4496, 'spontan': 4497, 'bronson': 4498, 'decept': 4499, 'bewar': 4500, 'gillian': 4501, 'preming': 4502, 'baffl': 4503, 'trigger': 4504, 'circu': 4505, 'renaiss': 4506, 'preachi': 4507, 'dilemma': 4508, 'biker': 4509, 'candl': 4510, 'sleepwalk': 4511, 'tick': 4512, 'injur': 4513, 'headach': 4514, 'fontain': 4515, 'rome': 4516, 'enlist': 4517, 'lester': 4518, '73': 4519, 'mermaid': 4520, 'insipid': 4521, 'scar': 4522, 'mayhem': 4523, 'housewif': 4524, 'loath': 4525, 'shatter': 4526, 'taboo': 4527, '19': 4528, 'suprem': 4529, 'uh': 4530, 'astound': 4531, 'viewpoint': 4532, 'analyz': 4533, 'hepburn': 4534, 'dandi': 4535, 'loi': 4536, 'virtu': 4537, 'sooner': 4538, 'harmless': 4539, 'outlaw': 4540, 'angst': 4541, 'goof': 4542, 'amor': 4543, 'intric': 4544, 'phenomenon': 4545, 'salt': 4546, 'foolish': 4547, 'immatur': 4548, 'whore': 4549, 'spade': 4550, 'oldest': 4551, 'slimi': 4552, 'hostag': 4553, 'contempt': 4554, 'hokey': 4555, 'dish': 4556, 'boston': 4557, 'sox': 4558, 'claustrophob': 4559, 'stimul': 4560, 'overlong': 4561, 'scorses': 4562, 'filth': 4563, 'camcord': 4564, 'redund': 4565, 'idol': 4566, 'fluff': 4567, 'glorifi': 4568, 'stair': 4569, 'tripl': 4570, 'zoom': 4571, 'ebert': 4572, 'cassavet': 4573, 'guin': 4574, 'ariel': 4575, 'bent': 4576, 'macho': 4577, 'steer': 4578, 'surgeri': 4579, 'dismal': 4580, 'hooker': 4581, 'corbett': 4582, 'gere': 4583, 'corman': 4584, 'conquer': 4585, 'trivia': 4586, 'shred': 4587, 'antagonist': 4588, 'keen': 4589, 'faint': 4590, 'flirt': 4591, '1981': 4592, 'nolt': 4593, 'rhyme': 4594, 'dwarf': 4595, 'zane': 4596, 'mutual': 4597, '1976': 4598, 'muscl': 4599, 'margin': 4600, 'frantic': 4601, 'joker': 4602, 'perman': 4603, 'spinal': 4604, 'cow': 4605, 'mount': 4606, 'widescreen': 4607, 'gasp': 4608, 'strongest': 4609, 'harold': 4610, 'fascist': 4611, 'cohen': 4612, 'down': 4613, 'flashi': 4614, 'radiat': 4615, 'assert': 4616, 'astronaut': 4617, 'transplant': 4618, 'naschi': 4619, 'obligatori': 4620, 'gabl': 4621, 'spree': 4622, 'flag': 4623, 'shield': 4624, 'messi': 4625, 'preced': 4626, 'remad': 4627, 'cush': 4628, 'schlock': 4629, 'beard': 4630, 'alvin': 4631, 'proport': 4632, 'divin': 4633, '28': 4634, 'bitten': 4635, 'brush': 4636, 'fishburn': 4637, 'sensual': 4638, 'ritchi': 4639, 'vaniti': 4640, 'strive': 4641, 'barn': 4642, 'carey': 4643, 'someday': 4644, 'departur': 4645, 'triangl': 4646, 'inflict': 4647, 'bachelor': 4648, 'mobil': 4649, 'info': 4650, 'repris': 4651, 'wield': 4652, 'interestingli': 4653, 'raj': 4654, 'resum': 4655, 'off': 4656, 'persuad': 4657, '95': 4658, 'boob': 4659, 'deer': 4660, 'mol': 4661, 'instruct': 4662, 'danish': 4663, 'discern': 4664, '1945': 4665, 'scandal': 4666, 'archiv': 4667, 'claud': 4668, 'flock': 4669, 'hara': 4670, 'www': 4671, 'neurot': 4672, 'aborigin': 4673, 'artwork': 4674, 'ish': 4675, 'neill': 4676, 'loretta': 4677, 'fragil': 4678, 'luka': 4679, 'hug': 4680, 'dim': 4681, 'traffic': 4682, 'mobster': 4683, 'miracul': 4684, 'jade': 4685, 'parson': 4686, 'rot': 4687, 'cycl': 4688, 'axe': 4689, 'hilar': 4690, 'cliffhang': 4691, 'clad': 4692, 'casino': 4693, 'helm': 4694, 'bate': 4695, 'prophet': 4696, 'pixar': 4697, 'kathryn': 4698, 'carlo': 4699, 'biblic': 4700, 'senior': 4701, 'submit': 4702, 'hapless': 4703, 'melissa': 4704, 'heartwarm': 4705, 'wendigo': 4706, 'harrison': 4707, 'frontier': 4708, 'recit': 4709, 'earnest': 4710, 'colin': 4711, 'banter': 4712, 'undermin': 4713, 'anton': 4714, 'dylan': 4715, 'dame': 4716, 'pacif': 4717, 'timberlak': 4718, 'cb': 4719, 'vibrant': 4720, 'europa': 4721, 'cher': 4722, 'proclaim': 4723, 'pickford': 4724, 'vanessa': 4725, 'winchest': 4726, 'legitim': 4727, 'eli': 4728, 'articl': 4729, 'holocaust': 4730, 'orphan': 4731, 'electron': 4732, 'breakfast': 4733, 'jo': 4734, 'foil': 4735, 'rooki': 4736, 'misfortun': 4737, 'isra': 4738, 'choke': 4739, 'seedi': 4740, 'lui': 4741, 'blatantli': 4742, 'marlon': 4743, 'akin': 4744, 'cerebr': 4745, 'bikini': 4746, 'vile': 4747, 'bondag': 4748, 'toronto': 4749, 'sicken': 4750, 'lucil': 4751, 'flavor': 4752, 'estrang': 4753, 'mason': 4754, 'redneck': 4755, 'token': 4756, 'nope': 4757, 'pc': 4758, 'antholog': 4759, 'jordan': 4760, 'shepherd': 4761, 'aris': 4762, 'wardrob': 4763, 'trier': 4764, 'venom': 4765, 'illus': 4766, 'milo': 4767, 'northern': 4768, 'uma': 4769, 'http': 4770, 'razor': 4771, 'static': 4772, 'feast': 4773, 'alexandr': 4774, 'mathieu': 4775, 'ceremoni': 4776, 'swept': 4777, 'feminin': 4778, 'highway': 4779, 'gilbert': 4780, 'outdat': 4781, 'peer': 4782, 'smack': 4783, 'huston': 4784, 'howl': 4785, 'leather': 4786, 'gunga': 4787, 'disregard': 4788, 'abund': 4789, 'shorter': 4790, 'oppon': 4791, 'frog': 4792, 'knightley': 4793, 'boyer': 4794, 'nightclub': 4795, 'audrey': 4796, 'turd': 4797, 'linear': 4798, 'retriev': 4799, 'wrestler': 4800, 'psych': 4801, 'charlton': 4802, 'comprehend': 4803, 'glare': 4804, 'ideolog': 4805, 'tack': 4806, 'dudley': 4807, 'fifth': 4808, 'magician': 4809, 'cartoonish': 4810, 'affleck': 4811, 'clinic': 4812, 'deem': 4813, 'styliz': 4814, 'evolut': 4815, '1991': 4816, 'compris': 4817, '1994': 4818, 'salman': 4819, 'client': 4820, 'tara': 4821, 'phenomen': 4822, 'chip': 4823, 'toe': 4824, 'whack': 4825, 'energet': 4826, 'snatch': 4827, 'senat': 4828, 'btw': 4829, 'monument': 4830, 'spine': 4831, 'lighter': 4832, 'lifeless': 4833, 'breakdown': 4834, 'durat': 4835, 'corn': 4836, 'lavish': 4837, 'cemeteri': 4838, 'greet': 4839, '4th': 4840, 'sleaz': 4841, 'plate': 4842, 'newer': 4843, 'bastard': 4844, 'conrad': 4845, 'uniformli': 4846, 'mitch': 4847, 'spawn': 4848, 'deliver': 4849, 'potter': 4850, 'goldsworthi': 4851, 'moe': 4852, 'summar': 4853, 'bogu': 4854, 'cuban': 4855, 'collector': 4856, 'einstein': 4857, 'boo': 4858, 'braveheart': 4859, 'evelyn': 4860, 'kazan': 4861, 'eleven': 4862, 'ie': 4863, 'ol': 4864, 'clara': 4865, 'firmli': 4866, '1974': 4867, 'jule': 4868, 'pronounc': 4869, 'embark': 4870, 'outright': 4871, 'luxuri': 4872, 'occup': 4873, 'constitut': 4874, 'kent': 4875, 'lex': 4876, 'randolph': 4877, 'mcqueen': 4878, 'trauma': 4879, 'appl': 4880, 'jedi': 4881, 'wtf': 4882, '1977': 4883, 'historian': 4884, 'fluid': 4885, 'spectacl': 4886, 'undead': 4887, 'belli': 4888, 'judd': 4889, 'creek': 4890, 'alleg': 4891, 'healthi': 4892, 'capot': 4893, 'signal': 4894, 'sorrow': 4895, 'bulk': 4896, 'jam': 4897, 'cecil': 4898, 'undertak': 4899, 'bori': 4900, 'neatli': 4901, 'armstrong': 4902, 'inaccuraci': 4903, 'nina': 4904, 'replay': 4905, 'jare': 4906, 'liu': 4907, 'gilliam': 4908, 'mum': 4909, 'sacrif': 4910, 'lauren': 4911, 'meal': 4912, 'pioneer': 4913, 'conan': 4914, 'galaxi': 4915, 'congratul': 4916, 'bsg': 4917, 'paula': 4918, 'spray': 4919, 'unsuspect': 4920, 'fruit': 4921, 'sidewalk': 4922, 'miniseri': 4923, 'abound': 4924, 'relentless': 4925, 'pepper': 4926, 'roar': 4927, 'groan': 4928, 'knee': 4929, 'poker': 4930, 'miami': 4931, 'ash': 4932, 'carmen': 4933, 'id': 4934, 'curtain': 4935, 'goldblum': 4936, 'inaccur': 4937, 'tokyo': 4938, 'walt': 4939, 'genet': 4940, 'antonio': 4941, 'basket': 4942, 'palm': 4943, 'unattract': 4944, 'rosario': 4945, 'decapit': 4946, '1985': 4947, 'aussi': 4948, 'subtli': 4949, 'propheci': 4950, 'lanc': 4951, 'comb': 4952, 'bait': 4953, 'truman': 4954, 'forgiven': 4955, 'porter': 4956, 'inclus': 4957, 'cape': 4958, 'comprehens': 4959, 'kiddi': 4960, 'blur': 4961, 'vain': 4962, 'vignett': 4963, 'playboy': 4964, 'evan': 4965, 'masterson': 4966, 'spill': 4967, 'verg': 4968, 'bach': 4969, 'handicap': 4970, 'hackman': 4971, 'casper': 4972, 'vastli': 4973, 'asset': 4974, 'weaker': 4975, 'substanti': 4976, 'rapidli': 4977, 'hostil': 4978, 'profil': 4979, 'turtl': 4980, 'motorcycl': 4981, 'incorrect': 4982, 'epitom': 4983, 'growth': 4984, 'modest': 4985, 'bravo': 4986, 'cypher': 4987, 'jill': 4988, 'omin': 4989, 'detach': 4990, 'frontal': 4991, 'sparkl': 4992, 'orchestr': 4993, 'weari': 4994, 'optimist': 4995, 'monti': 4996, 'victorian': 4997, 'sophi': 4998, 'macabr': 4999}\n"
     ]
    }
   ],
   "source": [
    "print(word_dict)"
   ]
  },
  {
   "cell_type": "markdown",
   "metadata": {},
   "source": [
    "The five most common words that I saw were:\n",
    "- movi (clipped version of movie, movies)\n",
    "- film\n",
    "- one\n",
    "- like\n",
    "- time\n",
    "\n",
    "These all seem to make sense, we are talking about movies/films and whether people like them or not. `One` could be a star-rating on \"one of the best movies...\", and `time` could be about the length of the movie in question."
   ]
  },
  {
   "cell_type": "markdown",
   "metadata": {},
   "source": [
    "### Save `word_dict`\n",
    "\n",
    "Later on when we construct an endpoint which processes a submitted review we will need to make use of the `word_dict` which we have created. As such, we will save it to a file now for future use."
   ]
  },
  {
   "cell_type": "code",
   "execution_count": 15,
   "metadata": {},
   "outputs": [],
   "source": [
    "data_dir = '../data/pytorch' # The folder we will use for storing data\n",
    "if not os.path.exists(data_dir): # Make sure that the folder exists\n",
    "    os.makedirs(data_dir)"
   ]
  },
  {
   "cell_type": "code",
   "execution_count": 16,
   "metadata": {},
   "outputs": [],
   "source": [
    "with open(os.path.join(data_dir, 'word_dict.pkl'), \"wb\") as f:\n",
    "    pickle.dump(word_dict, f)"
   ]
  },
  {
   "cell_type": "markdown",
   "metadata": {},
   "source": [
    "### Transform the reviews\n",
    "\n",
    "Now that we have our word dictionary which allows us to transform the words appearing in the reviews into integers, it is time to make use of it and convert our reviews to their integer sequence representation, making sure to pad or truncate to a fixed length, which in our case is `500`."
   ]
  },
  {
   "cell_type": "code",
   "execution_count": 17,
   "metadata": {},
   "outputs": [],
   "source": [
    "def convert_and_pad(word_dict, sentence, pad=500):\n",
    "    NOWORD = 0 # We will use 0 to represent the 'no word' category\n",
    "    INFREQ = 1 # and we use 1 to represent the infrequent words, i.e., words not appearing in word_dict\n",
    "    \n",
    "    working_sentence = [NOWORD] * pad\n",
    "    \n",
    "    for word_index, word in enumerate(sentence[:pad]):\n",
    "        if word in word_dict:\n",
    "            working_sentence[word_index] = word_dict[word]\n",
    "        else:\n",
    "            working_sentence[word_index] = INFREQ\n",
    "            \n",
    "    return working_sentence, min(len(sentence), pad)\n",
    "\n",
    "def convert_and_pad_data(word_dict, data, pad=500):\n",
    "    result = []\n",
    "    lengths = []\n",
    "    \n",
    "    for sentence in data:\n",
    "        converted, leng = convert_and_pad(word_dict, sentence, pad)\n",
    "        result.append(converted)\n",
    "        lengths.append(leng)\n",
    "        \n",
    "    return np.array(result), np.array(lengths)"
   ]
  },
  {
   "cell_type": "code",
   "execution_count": 18,
   "metadata": {},
   "outputs": [],
   "source": [
    "train_X, train_X_len = convert_and_pad_data(word_dict, train_X)\n",
    "test_X, test_X_len = convert_and_pad_data(word_dict, test_X)"
   ]
  },
  {
   "cell_type": "markdown",
   "metadata": {},
   "source": [
    "As a quick check to make sure that things are working as intended, check to see what one of the reviews in the training set looks like after having been processeed."
   ]
  },
  {
   "cell_type": "code",
   "execution_count": 19,
   "metadata": {},
   "outputs": [
    {
     "name": "stdout",
     "output_type": "stream",
     "text": [
      "Length of example padded review: 500\n",
      "\n",
      "Example processed and padded review: \n",
      " [ 218  297 2004    6 1175  527 2116  421   32  143  288   97  445 4356\n",
      "   46   35   34  196   39 1910  225  841 1104   85  476 3416   73  385\n",
      "  130 1848  417  241  165  510  648  400   40    1   24   78 3150  521\n",
      "  396   73   53   19  417   38   21  607  337    7    1  216    1  197\n",
      "   26 4674   85  857    0    0    0    0    0    0    0    0    0    0\n",
      "    0    0    0    0    0    0    0    0    0    0    0    0    0    0\n",
      "    0    0    0    0    0    0    0    0    0    0    0    0    0    0\n",
      "    0    0    0    0    0    0    0    0    0    0    0    0    0    0\n",
      "    0    0    0    0    0    0    0    0    0    0    0    0    0    0\n",
      "    0    0    0    0    0    0    0    0    0    0    0    0    0    0\n",
      "    0    0    0    0    0    0    0    0    0    0    0    0    0    0\n",
      "    0    0    0    0    0    0    0    0    0    0    0    0    0    0\n",
      "    0    0    0    0    0    0    0    0    0    0    0    0    0    0\n",
      "    0    0    0    0    0    0    0    0    0    0    0    0    0    0\n",
      "    0    0    0    0    0    0    0    0    0    0    0    0    0    0\n",
      "    0    0    0    0    0    0    0    0    0    0    0    0    0    0\n",
      "    0    0    0    0    0    0    0    0    0    0    0    0    0    0\n",
      "    0    0    0    0    0    0    0    0    0    0    0    0    0    0\n",
      "    0    0    0    0    0    0    0    0    0    0    0    0    0    0\n",
      "    0    0    0    0    0    0    0    0    0    0    0    0    0    0\n",
      "    0    0    0    0    0    0    0    0    0    0    0    0    0    0\n",
      "    0    0    0    0    0    0    0    0    0    0    0    0    0    0\n",
      "    0    0    0    0    0    0    0    0    0    0    0    0    0    0\n",
      "    0    0    0    0    0    0    0    0    0    0    0    0    0    0\n",
      "    0    0    0    0    0    0    0    0    0    0    0    0    0    0\n",
      "    0    0    0    0    0    0    0    0    0    0    0    0    0    0\n",
      "    0    0    0    0    0    0    0    0    0    0    0    0    0    0\n",
      "    0    0    0    0    0    0    0    0    0    0    0    0    0    0\n",
      "    0    0    0    0    0    0    0    0    0    0    0    0    0    0\n",
      "    0    0    0    0    0    0    0    0    0    0    0    0    0    0\n",
      "    0    0    0    0    0    0    0    0    0    0    0    0    0    0\n",
      "    0    0    0    0    0    0    0    0    0    0    0    0    0    0\n",
      "    0    0    0    0    0    0    0    0    0    0    0    0    0    0\n",
      "    0    0    0    0    0    0    0    0    0    0    0    0    0    0\n",
      "    0    0    0    0    0    0    0    0    0    0    0    0    0    0\n",
      "    0    0    0    0    0    0    0    0    0    0]\n"
     ]
    }
   ],
   "source": [
    "#examine one of the processed reviews to make sure everything is working\n",
    "print('Length of example padded review: {}\\n'.format(len(train_X[0])))\n",
    "print('Example processed and padded review: \\n', train_X[0])"
   ]
  },
  {
   "cell_type": "markdown",
   "metadata": {},
   "source": [
    "## Step 3: Upload the data to S3\n",
    "\n",
    "We will need to upload the training dataset to S3 in order for our training code to access it. For now we will save it locally and we will upload to S3 later on."
   ]
  },
  {
   "cell_type": "code",
   "execution_count": 20,
   "metadata": {},
   "outputs": [],
   "source": [
    "pd.concat([pd.DataFrame(train_y), pd.DataFrame(train_X_len), pd.DataFrame(train_X)], axis=1) \\\n",
    "        .to_csv(os.path.join(data_dir, 'train.csv'), header=False, index=False)"
   ]
  },
  {
   "cell_type": "markdown",
   "metadata": {},
   "source": [
    "### Uploading the training data\n",
    "\n",
    "\n",
    "Next, we need to upload the training data to the SageMaker default S3 bucket so that we can provide access to it while training our model."
   ]
  },
  {
   "cell_type": "code",
   "execution_count": 21,
   "metadata": {},
   "outputs": [],
   "source": [
    "sagemaker_session = sagemaker.Session()\n",
    "\n",
    "bucket = sagemaker_session.default_bucket()\n",
    "prefix = 'sagemaker/sentiment_rnn'\n",
    "\n",
    "role = sagemaker.get_execution_role()"
   ]
  },
  {
   "cell_type": "code",
   "execution_count": 22,
   "metadata": {},
   "outputs": [
    {
     "name": "stderr",
     "output_type": "stream",
     "text": [
      "'upload_data' method will be deprecated in favor of 'S3Uploader' class (https://sagemaker.readthedocs.io/en/stable/s3.html#sagemaker.s3.S3Uploader) in SageMaker Python SDK v2.\n"
     ]
    }
   ],
   "source": [
    "input_data = sagemaker_session.upload_data(path=data_dir, bucket=bucket, key_prefix=prefix)"
   ]
  },
  {
   "cell_type": "markdown",
   "metadata": {},
   "source": [
    "**NOTE:** The cell above uploads the entire contents of our data directory. This includes the `word_dict.pkl` file. This is fortunate as we will need this later on when we create an endpoint that accepts an arbitrary review. For now, we will just take note of the fact that it resides in the data directory (and so also in the S3 training bucket) and that we will need to make sure it gets saved in the model directory."
   ]
  },
  {
   "cell_type": "markdown",
   "metadata": {},
   "source": [
    "## Step 4: Build and Train the PyTorch Model\n",
    "\n",
    "In the SageMaker framework, a model comprises three objects:\n",
    " - Model Artifacts,\n",
    " - Training Code, and\n",
    " - Inference Code,\n",
    " \n",
    "each of which interact with one another. We will start by implementing our own neural network in PyTorch along with a training script. For the purposes of this project we have provided the necessary model object in the `model.py` file, inside of the `train` folder."
   ]
  },
  {
   "cell_type": "code",
   "execution_count": 23,
   "metadata": {},
   "outputs": [
    {
     "name": "stdout",
     "output_type": "stream",
     "text": [
      "\u001b[34mimport\u001b[39;49;00m \u001b[04m\u001b[36mtorch\u001b[39;49;00m\u001b[04m\u001b[36m.\u001b[39;49;00m\u001b[04m\u001b[36mnn\u001b[39;49;00m \u001b[34mas\u001b[39;49;00m \u001b[04m\u001b[36mnn\u001b[39;49;00m\r\n",
      "\r\n",
      "\u001b[34mclass\u001b[39;49;00m \u001b[04m\u001b[32mLSTMClassifier\u001b[39;49;00m(nn.Module):\r\n",
      "    \u001b[33m\"\"\"\u001b[39;49;00m\r\n",
      "\u001b[33m    This is the simple RNN model we will be using to perform Sentiment Analysis.\u001b[39;49;00m\r\n",
      "\u001b[33m    \"\"\"\u001b[39;49;00m\r\n",
      "\r\n",
      "    \u001b[34mdef\u001b[39;49;00m \u001b[32m__init__\u001b[39;49;00m(\u001b[36mself\u001b[39;49;00m, embedding_dim, hidden_dim, vocab_size):\r\n",
      "        \u001b[33m\"\"\"\u001b[39;49;00m\r\n",
      "\u001b[33m        Initialize the model by settingg up the various layers.\u001b[39;49;00m\r\n",
      "\u001b[33m        \"\"\"\u001b[39;49;00m\r\n",
      "        \u001b[36msuper\u001b[39;49;00m(LSTMClassifier, \u001b[36mself\u001b[39;49;00m).\u001b[32m__init__\u001b[39;49;00m()\r\n",
      "\r\n",
      "        \u001b[36mself\u001b[39;49;00m.embedding = nn.Embedding(vocab_size, embedding_dim, padding_idx=\u001b[34m0\u001b[39;49;00m)\r\n",
      "        \u001b[36mself\u001b[39;49;00m.lstm = nn.LSTM(embedding_dim, hidden_dim)\r\n",
      "        \u001b[36mself\u001b[39;49;00m.dense = nn.Linear(in_features=hidden_dim, out_features=\u001b[34m1\u001b[39;49;00m)\r\n",
      "        \u001b[36mself\u001b[39;49;00m.sig = nn.Sigmoid()\r\n",
      "        \r\n",
      "        \u001b[36mself\u001b[39;49;00m.word_dict = \u001b[34mNone\u001b[39;49;00m\r\n",
      "\r\n",
      "    \u001b[34mdef\u001b[39;49;00m \u001b[32mforward\u001b[39;49;00m(\u001b[36mself\u001b[39;49;00m, x):\r\n",
      "        \u001b[33m\"\"\"\u001b[39;49;00m\r\n",
      "\u001b[33m        Perform a forward pass of our model on some input.\u001b[39;49;00m\r\n",
      "\u001b[33m        \"\"\"\u001b[39;49;00m\r\n",
      "        x = x.t()\r\n",
      "        lengths = x[\u001b[34m0\u001b[39;49;00m,:]\r\n",
      "        reviews = x[\u001b[34m1\u001b[39;49;00m:,:]\r\n",
      "        embeds = \u001b[36mself\u001b[39;49;00m.embedding(reviews)\r\n",
      "        lstm_out, _ = \u001b[36mself\u001b[39;49;00m.lstm(embeds)\r\n",
      "        out = \u001b[36mself\u001b[39;49;00m.dense(lstm_out)\r\n",
      "        out = out[lengths - \u001b[34m1\u001b[39;49;00m, \u001b[36mrange\u001b[39;49;00m(\u001b[36mlen\u001b[39;49;00m(lengths))]\r\n",
      "        \u001b[34mreturn\u001b[39;49;00m \u001b[36mself\u001b[39;49;00m.sig(out.squeeze())\r\n"
     ]
    }
   ],
   "source": [
    "!pygmentize train/model.py"
   ]
  },
  {
   "cell_type": "markdown",
   "metadata": {},
   "source": [
    "The important takeaway from the implementation provided is that there are three parameters that we may wish to tweak to improve the performance of our model. These are the embedding dimension, the hidden dimension and the size of the vocabulary. We will likely want to make these parameters configurable in the training script so that if we wish to modify them we do not need to modify the script itself.\n",
    "\n",
    "First we will load a small portion of the training data set to use as a sample. It would be very time consuming to try and train the model completely in the notebook as we do not have access to a gpu and the compute instance that we are using is not particularly powerful. However, we can work on a small bit of the data to get a feel for how our training script is behaving."
   ]
  },
  {
   "cell_type": "code",
   "execution_count": 24,
   "metadata": {},
   "outputs": [],
   "source": [
    "#read in only the first 250 rows\n",
    "train_sample = pd.read_csv(os.path.join(data_dir, 'train.csv'), header=None, names=None, nrows=250)\n",
    "\n",
    "#turn the input pandas dataframe into tensors\n",
    "train_sample_y = torch.from_numpy(train_sample[[0]].values).float().squeeze()\n",
    "train_sample_X = torch.from_numpy(train_sample.drop([0], axis=1).values).long()\n",
    "\n",
    "#build the dataset\n",
    "train_sample_ds = torch.utils.data.TensorDataset(train_sample_X, train_sample_y)\n",
    "\n",
    "#build the dataloader\n",
    "train_sample_dl = torch.utils.data.DataLoader(train_sample_ds, batch_size=50)"
   ]
  },
  {
   "cell_type": "markdown",
   "metadata": {},
   "source": [
    "### Writing the training method\n",
    "\n",
    "Next we need to write the training code itself. This should be very similar to training methods that you have written before to train PyTorch models. We will leave any difficult aspects such as model saving / loading and parameter loading until a little later."
   ]
  },
  {
   "cell_type": "code",
   "execution_count": 25,
   "metadata": {},
   "outputs": [],
   "source": [
    "def train(model, train_loader, epochs, optimizer, loss_fn, device):\n",
    "    for epoch in range(1, epochs + 1):\n",
    "        model.train()\n",
    "        total_loss = 0\n",
    "        \n",
    "        for batch in train_loader:         \n",
    "            batch_X, batch_y = batch\n",
    "            \n",
    "            batch_X = batch_X.to(device)\n",
    "            batch_y = batch_y.to(device)\n",
    "            \n",
    "            #zero out previous gradients\n",
    "            optimizer.zero_grad()\n",
    "    \n",
    "            #pass input and current hidden state to network\n",
    "            output = model(batch_X)\n",
    "    \n",
    "            # perform backpropagation and optimization\n",
    "            #calculate the loss\n",
    "            loss = loss_fn(output, batch_y)\n",
    "    \n",
    "            #backpropagate\n",
    "            loss.backward()\n",
    "    \n",
    "            #take a step towards optimum\n",
    "            optimizer.step()\n",
    "            \n",
    "            total_loss += loss.data.item()\n",
    "        \n",
    "        print(\"Epoch: {}, BCELoss: {}\".format(epoch, total_loss / len(train_loader)))"
   ]
  },
  {
   "cell_type": "markdown",
   "metadata": {},
   "source": [
    "Supposing we have the training method above, we will test that it is working by writing a bit of code in the Notebook that executes our training method on the small sample training set that we loaded earlier. The reason for doing this in the Notebook is so that we have an opportunity to fix any errors that arise early when they are easier to diagnose."
   ]
  },
  {
   "cell_type": "code",
   "execution_count": 26,
   "metadata": {},
   "outputs": [
    {
     "name": "stdout",
     "output_type": "stream",
     "text": [
      "Epoch: 1, BCELoss: 0.6954743266105652\n",
      "Epoch: 2, BCELoss: 0.6872759580612182\n",
      "Epoch: 3, BCELoss: 0.6809420943260193\n",
      "Epoch: 4, BCELoss: 0.6742524862289428\n",
      "Epoch: 5, BCELoss: 0.6664650559425354\n"
     ]
    }
   ],
   "source": [
    "device = torch.device(\"cuda\" if torch.cuda.is_available() else \"cpu\")\n",
    "model = LSTMClassifier(32, 100, 5000).to(device)\n",
    "optimizer = optim.Adam(model.parameters())\n",
    "loss_fn = torch.nn.BCELoss()\n",
    "\n",
    "train(model, train_sample_dl, 5, optimizer, loss_fn, device)"
   ]
  },
  {
   "cell_type": "markdown",
   "metadata": {},
   "source": [
    "In order to construct a PyTorch model using SageMaker we must provide SageMaker with a training script. We may optionally include a directory which will be copied to the container and from which our training code will be run. When the training container is executed it will check the uploaded directory (if there is one) for a `requirements.txt` file and install any required Python libraries, after which the training script will be run."
   ]
  },
  {
   "cell_type": "markdown",
   "metadata": {},
   "source": [
    "### Training the model\n",
    "\n",
    "When a PyTorch model is constructed in SageMaker, an entry point must be specified. This is the Python file which will be executed when the model is trained. Inside of the `train` directory is a file called `train.py` which contains most of the necessary code to train our model. The only thing that is missing is the implementation of the `train()` method which you wrote earlier in this Notebook."
   ]
  },
  {
   "cell_type": "code",
   "execution_count": 27,
   "metadata": {},
   "outputs": [],
   "source": [
    "estimator = PyTorch(entry_point=\"train.py\",\n",
    "                    source_dir=\"train\",\n",
    "                    role=role,\n",
    "                    framework_version='0.4.0',\n",
    "                    train_instance_count=1,\n",
    "                    train_instance_type='ml.p2.xlarge',\n",
    "                    hyperparameters={\n",
    "                        'epochs': 10,\n",
    "                        'hidden_dim': 200,\n",
    "                    })"
   ]
  },
  {
   "cell_type": "code",
   "execution_count": 28,
   "metadata": {},
   "outputs": [
    {
     "name": "stderr",
     "output_type": "stream",
     "text": [
      "'create_image_uri' will be deprecated in favor of 'ImageURIProvider' class in SageMaker Python SDK v2.\n",
      "'s3_input' class will be renamed to 'TrainingInput' in SageMaker Python SDK v2.\n",
      "'create_image_uri' will be deprecated in favor of 'ImageURIProvider' class in SageMaker Python SDK v2.\n"
     ]
    },
    {
     "name": "stdout",
     "output_type": "stream",
     "text": [
      "2020-06-13 19:41:51 Starting - Starting the training job...\n",
      "2020-06-13 19:41:53 Starting - Launching requested ML instances.........\n",
      "2020-06-13 19:43:24 Starting - Preparing the instances for training......\n",
      "2020-06-13 19:44:40 Downloading - Downloading input data...\n",
      "2020-06-13 19:45:19 Training - Downloading the training image...\n",
      "2020-06-13 19:45:46 Training - Training image download completed. Training in progress.\u001b[34mbash: cannot set terminal process group (-1): Inappropriate ioctl for device\u001b[0m\n",
      "\u001b[34mbash: no job control in this shell\u001b[0m\n",
      "\u001b[34m2020-06-13 19:45:47,209 sagemaker-containers INFO     Imported framework sagemaker_pytorch_container.training\u001b[0m\n",
      "\u001b[34m2020-06-13 19:45:47,234 sagemaker_pytorch_container.training INFO     Block until all host DNS lookups succeed.\u001b[0m\n",
      "\u001b[34m2020-06-13 19:45:53,449 sagemaker_pytorch_container.training INFO     Invoking user training script.\u001b[0m\n",
      "\u001b[34m2020-06-13 19:45:53,665 sagemaker-containers INFO     Module train does not provide a setup.py. \u001b[0m\n",
      "\u001b[34mGenerating setup.py\u001b[0m\n",
      "\u001b[34m2020-06-13 19:45:53,666 sagemaker-containers INFO     Generating setup.cfg\u001b[0m\n",
      "\u001b[34m2020-06-13 19:45:53,666 sagemaker-containers INFO     Generating MANIFEST.in\u001b[0m\n",
      "\u001b[34m2020-06-13 19:45:53,666 sagemaker-containers INFO     Installing module with the following command:\u001b[0m\n",
      "\u001b[34m/usr/bin/python -m pip install -U . -r requirements.txt\u001b[0m\n",
      "\u001b[34mProcessing /opt/ml/code\u001b[0m\n",
      "\u001b[34mCollecting pandas (from -r requirements.txt (line 1))\n",
      "  Downloading https://files.pythonhosted.org/packages/74/24/0cdbf8907e1e3bc5a8da03345c23cbed7044330bb8f73bb12e711a640a00/pandas-0.24.2-cp35-cp35m-manylinux1_x86_64.whl (10.0MB)\u001b[0m\n",
      "\u001b[34mCollecting numpy (from -r requirements.txt (line 2))\u001b[0m\n",
      "\u001b[34m  Downloading https://files.pythonhosted.org/packages/b5/36/88723426b4ff576809fec7d73594fe17a35c27f8d01f93637637a29ae25b/numpy-1.18.5-cp35-cp35m-manylinux1_x86_64.whl (19.9MB)\u001b[0m\n",
      "\u001b[34mCollecting nltk (from -r requirements.txt (line 3))\n",
      "  Downloading https://files.pythonhosted.org/packages/92/75/ce35194d8e3022203cca0d2f896dbb88689f9b3fce8e9f9cff942913519d/nltk-3.5.zip (1.4MB)\u001b[0m\n",
      "\u001b[34mCollecting beautifulsoup4 (from -r requirements.txt (line 4))\n",
      "  Downloading https://files.pythonhosted.org/packages/66/25/ff030e2437265616a1e9b25ccc864e0371a0bc3adb7c5a404fd661c6f4f6/beautifulsoup4-4.9.1-py3-none-any.whl (115kB)\u001b[0m\n",
      "\u001b[34mCollecting html5lib (from -r requirements.txt (line 5))\n",
      "  Downloading https://files.pythonhosted.org/packages/a5/62/bbd2be0e7943ec8504b517e62bab011b4946e1258842bc159e5dfde15b96/html5lib-1.0.1-py2.py3-none-any.whl (117kB)\u001b[0m\n",
      "\u001b[34mCollecting pytz>=2011k (from pandas->-r requirements.txt (line 1))\n",
      "  Downloading https://files.pythonhosted.org/packages/4f/a4/879454d49688e2fad93e59d7d4efda580b783c745fd2ec2a3adf87b0808d/pytz-2020.1-py2.py3-none-any.whl (510kB)\u001b[0m\n",
      "\u001b[34mRequirement already satisfied, skipping upgrade: python-dateutil>=2.5.0 in /usr/local/lib/python3.5/dist-packages (from pandas->-r requirements.txt (line 1)) (2.7.5)\u001b[0m\n",
      "\u001b[34mRequirement already satisfied, skipping upgrade: click in /usr/local/lib/python3.5/dist-packages (from nltk->-r requirements.txt (line 3)) (7.0)\u001b[0m\n",
      "\u001b[34mCollecting joblib (from nltk->-r requirements.txt (line 3))\u001b[0m\n",
      "\u001b[34m  Downloading https://files.pythonhosted.org/packages/28/5c/cf6a2b65a321c4a209efcdf64c2689efae2cb62661f8f6f4bb28547cf1bf/joblib-0.14.1-py2.py3-none-any.whl (294kB)\u001b[0m\n",
      "\u001b[34mCollecting regex (from nltk->-r requirements.txt (line 3))\n",
      "  Downloading https://files.pythonhosted.org/packages/b8/7b/01510a6229c2176425bda54d15fba05a4b3df169b87265b008480261d2f9/regex-2020.6.8.tar.gz (690kB)\u001b[0m\n",
      "\u001b[34mCollecting tqdm (from nltk->-r requirements.txt (line 3))\n",
      "  Downloading https://files.pythonhosted.org/packages/f3/76/4697ce203a3d42b2ead61127b35e5fcc26bba9a35c03b32a2bd342a4c869/tqdm-4.46.1-py2.py3-none-any.whl (63kB)\u001b[0m\n",
      "\u001b[34mCollecting soupsieve>1.2 (from beautifulsoup4->-r requirements.txt (line 4))\n",
      "  Downloading https://files.pythonhosted.org/packages/6f/8f/457f4a5390eeae1cc3aeab89deb7724c965be841ffca6cfca9197482e470/soupsieve-2.0.1-py3-none-any.whl\u001b[0m\n",
      "\u001b[34mCollecting webencodings (from html5lib->-r requirements.txt (line 5))\n",
      "  Downloading https://files.pythonhosted.org/packages/f4/24/2a3e3df732393fed8b3ebf2ec078f05546de641fe1b667ee316ec1dcf3b7/webencodings-0.5.1-py2.py3-none-any.whl\u001b[0m\n",
      "\u001b[34mRequirement already satisfied, skipping upgrade: six>=1.9 in /usr/local/lib/python3.5/dist-packages (from html5lib->-r requirements.txt (line 5)) (1.11.0)\u001b[0m\n",
      "\u001b[34mBuilding wheels for collected packages: nltk, train, regex\n",
      "  Running setup.py bdist_wheel for nltk: started\u001b[0m\n",
      "\u001b[34m  Running setup.py bdist_wheel for nltk: finished with status 'done'\n",
      "  Stored in directory: /root/.cache/pip/wheels/ae/8c/3f/b1fe0ba04555b08b57ab52ab7f86023639a526d8bc8d384306\n",
      "  Running setup.py bdist_wheel for train: started\n",
      "  Running setup.py bdist_wheel for train: finished with status 'done'\n",
      "  Stored in directory: /tmp/pip-ephem-wheel-cache-8p8_tj1v/wheels/35/24/16/37574d11bf9bde50616c67372a334f94fa8356bc7164af8ca3\n",
      "  Running setup.py bdist_wheel for regex: started\u001b[0m\n",
      "\u001b[34m  Running setup.py bdist_wheel for regex: finished with status 'done'\n",
      "  Stored in directory: /root/.cache/pip/wheels/9c/e2/cf/246ad8c87bcdf3cba1ec95fa89bc205c9037aa8f4d2e26fdad\u001b[0m\n",
      "\u001b[34mSuccessfully built nltk train regex\u001b[0m\n",
      "\u001b[34mInstalling collected packages: pytz, numpy, pandas, joblib, regex, tqdm, nltk, soupsieve, beautifulsoup4, webencodings, html5lib, train\n",
      "  Found existing installation: numpy 1.15.4\n",
      "    Uninstalling numpy-1.15.4:\u001b[0m\n",
      "\u001b[34m      Successfully uninstalled numpy-1.15.4\u001b[0m\n",
      "\u001b[34mSuccessfully installed beautifulsoup4-4.9.1 html5lib-1.0.1 joblib-0.14.1 nltk-3.5 numpy-1.18.5 pandas-0.24.2 pytz-2020.1 regex-2020.6.8 soupsieve-2.0.1 tqdm-4.46.1 train-1.0.0 webencodings-0.5.1\u001b[0m\n",
      "\u001b[34mYou are using pip version 18.1, however version 20.2b1 is available.\u001b[0m\n",
      "\u001b[34mYou should consider upgrading via the 'pip install --upgrade pip' command.\u001b[0m\n",
      "\u001b[34m2020-06-13 19:46:16,433 sagemaker-containers INFO     Invoking user script\n",
      "\u001b[0m\n",
      "\u001b[34mTraining Env:\n",
      "\u001b[0m\n",
      "\u001b[34m{\n",
      "    \"num_gpus\": 1,\n",
      "    \"input_dir\": \"/opt/ml/input\",\n",
      "    \"user_entry_point\": \"train.py\",\n",
      "    \"channel_input_dirs\": {\n",
      "        \"training\": \"/opt/ml/input/data/training\"\n",
      "    },\n",
      "    \"additional_framework_parameters\": {},\n",
      "    \"resource_config\": {\n",
      "        \"network_interface_name\": \"eth0\",\n",
      "        \"hosts\": [\n",
      "            \"algo-1\"\n",
      "        ],\n",
      "        \"current_host\": \"algo-1\"\n",
      "    },\n",
      "    \"num_cpus\": 4,\n",
      "    \"hyperparameters\": {\n",
      "        \"hidden_dim\": 200,\n",
      "        \"epochs\": 10\n",
      "    },\n",
      "    \"model_dir\": \"/opt/ml/model\",\n",
      "    \"job_name\": \"sagemaker-pytorch-2020-06-13-19-41-51-021\",\n",
      "    \"module_dir\": \"s3://sagemaker-us-east-2-172161010035/sagemaker-pytorch-2020-06-13-19-41-51-021/source/sourcedir.tar.gz\",\n",
      "    \"input_data_config\": {\n",
      "        \"training\": {\n",
      "            \"S3DistributionType\": \"FullyReplicated\",\n",
      "            \"RecordWrapperType\": \"None\",\n",
      "            \"TrainingInputMode\": \"File\"\n",
      "        }\n",
      "    },\n",
      "    \"input_config_dir\": \"/opt/ml/input/config\",\n",
      "    \"output_data_dir\": \"/opt/ml/output/data\",\n",
      "    \"framework_module\": \"sagemaker_pytorch_container.training:main\",\n",
      "    \"output_intermediate_dir\": \"/opt/ml/output/intermediate\",\n",
      "    \"output_dir\": \"/opt/ml/output\",\n",
      "    \"network_interface_name\": \"eth0\",\n",
      "    \"module_name\": \"train\",\n",
      "    \"log_level\": 20,\n",
      "    \"hosts\": [\n",
      "        \"algo-1\"\n",
      "    ],\n",
      "    \"current_host\": \"algo-1\"\u001b[0m\n",
      "\u001b[34m}\n",
      "\u001b[0m\n",
      "\u001b[34mEnvironment variables:\n",
      "\u001b[0m\n",
      "\u001b[34mSM_NETWORK_INTERFACE_NAME=eth0\u001b[0m\n",
      "\u001b[34mSM_USER_ARGS=[\"--epochs\",\"10\",\"--hidden_dim\",\"200\"]\u001b[0m\n",
      "\u001b[34mSM_RESOURCE_CONFIG={\"current_host\":\"algo-1\",\"hosts\":[\"algo-1\"],\"network_interface_name\":\"eth0\"}\u001b[0m\n",
      "\u001b[34mSM_CURRENT_HOST=algo-1\u001b[0m\n",
      "\u001b[34mSM_TRAINING_ENV={\"additional_framework_parameters\":{},\"channel_input_dirs\":{\"training\":\"/opt/ml/input/data/training\"},\"current_host\":\"algo-1\",\"framework_module\":\"sagemaker_pytorch_container.training:main\",\"hosts\":[\"algo-1\"],\"hyperparameters\":{\"epochs\":10,\"hidden_dim\":200},\"input_config_dir\":\"/opt/ml/input/config\",\"input_data_config\":{\"training\":{\"RecordWrapperType\":\"None\",\"S3DistributionType\":\"FullyReplicated\",\"TrainingInputMode\":\"File\"}},\"input_dir\":\"/opt/ml/input\",\"job_name\":\"sagemaker-pytorch-2020-06-13-19-41-51-021\",\"log_level\":20,\"model_dir\":\"/opt/ml/model\",\"module_dir\":\"s3://sagemaker-us-east-2-172161010035/sagemaker-pytorch-2020-06-13-19-41-51-021/source/sourcedir.tar.gz\",\"module_name\":\"train\",\"network_interface_name\":\"eth0\",\"num_cpus\":4,\"num_gpus\":1,\"output_data_dir\":\"/opt/ml/output/data\",\"output_dir\":\"/opt/ml/output\",\"output_intermediate_dir\":\"/opt/ml/output/intermediate\",\"resource_config\":{\"current_host\":\"algo-1\",\"hosts\":[\"algo-1\"],\"network_interface_name\":\"eth0\"},\"user_entry_point\":\"train.py\"}\u001b[0m\n",
      "\u001b[34mSM_FRAMEWORK_MODULE=sagemaker_pytorch_container.training:main\u001b[0m\n",
      "\u001b[34mSM_NUM_CPUS=4\u001b[0m\n",
      "\u001b[34mSM_USER_ENTRY_POINT=train.py\u001b[0m\n",
      "\u001b[34mSM_HP_HIDDEN_DIM=200\u001b[0m\n",
      "\u001b[34mSM_LOG_LEVEL=20\u001b[0m\n",
      "\u001b[34mSM_OUTPUT_INTERMEDIATE_DIR=/opt/ml/output/intermediate\u001b[0m\n",
      "\u001b[34mSM_HOSTS=[\"algo-1\"]\u001b[0m\n",
      "\u001b[34mPYTHONPATH=/usr/local/bin:/usr/lib/python35.zip:/usr/lib/python3.5:/usr/lib/python3.5/plat-x86_64-linux-gnu:/usr/lib/python3.5/lib-dynload:/usr/local/lib/python3.5/dist-packages:/usr/lib/python3/dist-packages\u001b[0m\n",
      "\u001b[34mSM_MODEL_DIR=/opt/ml/model\u001b[0m\n",
      "\u001b[34mSM_OUTPUT_DIR=/opt/ml/output\u001b[0m\n",
      "\u001b[34mSM_FRAMEWORK_PARAMS={}\u001b[0m\n",
      "\u001b[34mSM_INPUT_DIR=/opt/ml/input\u001b[0m\n",
      "\u001b[34mSM_MODULE_NAME=train\u001b[0m\n",
      "\u001b[34mSM_MODULE_DIR=s3://sagemaker-us-east-2-172161010035/sagemaker-pytorch-2020-06-13-19-41-51-021/source/sourcedir.tar.gz\u001b[0m\n",
      "\u001b[34mSM_CHANNEL_TRAINING=/opt/ml/input/data/training\u001b[0m\n",
      "\u001b[34mSM_OUTPUT_DATA_DIR=/opt/ml/output/data\u001b[0m\n",
      "\u001b[34mSM_INPUT_CONFIG_DIR=/opt/ml/input/config\u001b[0m\n",
      "\u001b[34mSM_CHANNELS=[\"training\"]\u001b[0m\n",
      "\u001b[34mSM_HPS={\"epochs\":10,\"hidden_dim\":200}\u001b[0m\n",
      "\u001b[34mSM_HP_EPOCHS=10\u001b[0m\n",
      "\u001b[34mSM_NUM_GPUS=1\u001b[0m\n",
      "\u001b[34mSM_INPUT_DATA_CONFIG={\"training\":{\"RecordWrapperType\":\"None\",\"S3DistributionType\":\"FullyReplicated\",\"TrainingInputMode\":\"File\"}}\n",
      "\u001b[0m\n",
      "\u001b[34mInvoking script with the following command:\n",
      "\u001b[0m\n",
      "\u001b[34m/usr/bin/python -m train --epochs 10 --hidden_dim 200\n",
      "\n",
      "\u001b[0m\n",
      "\u001b[34mUsing device cuda.\u001b[0m\n",
      "\u001b[34mGet train data loader.\u001b[0m\n"
     ]
    },
    {
     "name": "stdout",
     "output_type": "stream",
     "text": [
      "\u001b[34mModel loaded with embedding_dim 32, hidden_dim 200, vocab_size 5000.\u001b[0m\n",
      "\u001b[34mEpoch: 1, BCELoss: 0.6726055498025856\u001b[0m\n",
      "\u001b[34mEpoch: 2, BCELoss: 0.5964293321784662\u001b[0m\n",
      "\u001b[34mEpoch: 3, BCELoss: 0.5188387565466822\u001b[0m\n",
      "\u001b[34mEpoch: 4, BCELoss: 0.45316533348998245\u001b[0m\n",
      "\u001b[34mEpoch: 5, BCELoss: 0.3931110665506246\u001b[0m\n",
      "\u001b[34mEpoch: 6, BCELoss: 0.367806077003479\u001b[0m\n",
      "\u001b[34mEpoch: 7, BCELoss: 0.3295446865412654\u001b[0m\n",
      "\u001b[34mEpoch: 8, BCELoss: 0.3487306705542973\u001b[0m\n",
      "\u001b[34mEpoch: 9, BCELoss: 0.3160398897467827\u001b[0m\n",
      "\n",
      "2020-06-13 19:49:20 Uploading - Uploading generated training model\n",
      "2020-06-13 19:49:20 Completed - Training job completed\n",
      "\u001b[34mEpoch: 10, BCELoss: 0.30086720324292476\u001b[0m\n",
      "\u001b[34m2020-06-13 19:49:13,658 sagemaker-containers INFO     Reporting training SUCCESS\u001b[0m\n",
      "Training seconds: 280\n",
      "Billable seconds: 280\n"
     ]
    }
   ],
   "source": [
    "estimator.fit({'training': input_data})"
   ]
  },
  {
   "cell_type": "markdown",
   "metadata": {},
   "source": [
    "## Step 5: Testing the model\n",
    "\n",
    "As mentioned at the top of this Notebook, we will be testing this model by first deploying it and then sending the testing data to the deployed endpoint. We will do this so that we can make sure that the deployed model is working correctly.\n",
    "\n",
    "## Step 6: Deploy the model for testing\n",
    "\n",
    "Now that we have trained our model, we would like to test it to see how it performs. Currently our model takes input of the form `review_length, review[500]` where `review[500]` is a sequence of `500` integers which describe the words present in the review, encoded using `word_dict`. \n",
    "\n",
    "There is one thing that we need to provide, however, and that is a function which loads the saved model. This function must be called `model_fn()` and takes as its only parameter a path to the directory where the model artifacts are stored. This function must also be present in the python file which we specified as the entry point. In our case the model loading function has been provided and so no changes need to be made.\n",
    "\n",
    "**NOTE**: When the built-in inference code is run it must import the `model_fn()` method from the `train.py` file. This is why the training code is wrapped in a main guard ( ie, `if __name__ == '__main__':` )\n",
    "\n",
    "**NOTE:** When deploying a model you are asking SageMaker to launch an compute instance that will wait for data to be sent to it. As a result, this compute instance will continue to run until *you* shut it down. This is important to know since the cost of a deployed endpoint depends on how long it has been running for."
   ]
  },
  {
   "cell_type": "code",
   "execution_count": 29,
   "metadata": {},
   "outputs": [
    {
     "name": "stderr",
     "output_type": "stream",
     "text": [
      "Parameter image will be renamed to image_uri in SageMaker Python SDK v2.\n",
      "'create_image_uri' will be deprecated in favor of 'ImageURIProvider' class in SageMaker Python SDK v2.\n"
     ]
    },
    {
     "name": "stdout",
     "output_type": "stream",
     "text": [
      "---------------!"
     ]
    }
   ],
   "source": [
    "#deploy the trained model\n",
    "predictor = estimator.deploy(initial_instance_count = 1, instance_type = 'ml.m4.xlarge')"
   ]
  },
  {
   "cell_type": "markdown",
   "metadata": {},
   "source": [
    "## Step 7 - Use the model for testing\n",
    "\n",
    "Once deployed, we can read in the test data and send it off to our deployed model to get some results. Once we collect all of the results we can determine how accurate our model is."
   ]
  },
  {
   "cell_type": "code",
   "execution_count": 30,
   "metadata": {},
   "outputs": [],
   "source": [
    "test_X = pd.concat([pd.DataFrame(test_X_len), pd.DataFrame(test_X)], axis=1)"
   ]
  },
  {
   "cell_type": "code",
   "execution_count": 31,
   "metadata": {},
   "outputs": [],
   "source": [
    "#split the data into chunks and send each chunk seperately, accumulating the results\n",
    "def predict(data, rows=512):\n",
    "    split_array = np.array_split(data, int(data.shape[0] / float(rows) + 1))\n",
    "    predictions = np.array([])\n",
    "    \n",
    "    for array in split_array:\n",
    "        predictions = np.append(predictions, predictor.predict(array))\n",
    "    \n",
    "    return predictions"
   ]
  },
  {
   "cell_type": "code",
   "execution_count": 32,
   "metadata": {},
   "outputs": [],
   "source": [
    "predictions = predict(test_X.values)\n",
    "predictions = [round(num) for num in predictions]"
   ]
  },
  {
   "cell_type": "code",
   "execution_count": 33,
   "metadata": {},
   "outputs": [
    {
     "data": {
      "text/plain": [
       "0.84728"
      ]
     },
     "execution_count": 33,
     "metadata": {},
     "output_type": "execute_result"
    }
   ],
   "source": [
    "accuracy_score(test_y, predictions)"
   ]
  },
  {
   "cell_type": "markdown",
   "metadata": {},
   "source": [
    "**Answer:**\n",
    "Previously, I had used an XGBoost model with a bag-of-words approach. Now, while using a feature representation for our neural network, we get similar results. I generally think that feature representations, or word embeddings in this case, are generally more successful at NLP tasks. RNNs can also understand context, meaning words or features that come before or after a given word or feature. Further, we didn't do any hyperparameter testing for the RNN (and it only has one layer) and yet it has similar performance to our previous XGBoost model. With both of these things in mind I think the RNN will ultimately perform better and be the right choice for this task.\n",
    "\n",
    "### More testing\n",
    "\n",
    "We now have a trained model which has been deployed and which we can send processed reviews to and which returns the predicted sentiment. However, ultimately we would like to be able to send our model an unprocessed review. That is, we would like to send the review itself as a string. For example, suppose we wish to send the following review to our model."
   ]
  },
  {
   "cell_type": "code",
   "execution_count": 34,
   "metadata": {},
   "outputs": [],
   "source": [
    "test_review = 'The simplest pleasures in life are the best, and this film is one of them. Combining a rather basic storyline of love and adventure this movie transcends the usual weekend fair with wit and unmitigated charm.'"
   ]
  },
  {
   "cell_type": "markdown",
   "metadata": {},
   "source": [
    "But how do we send this review to our model? Similar to the processing steps we implemented earlier, we will need to:\n",
    " - Removed any html tags and stemmed the input\n",
    " - Encoded the review as a sequence of integers using `word_dict`"
   ]
  },
  {
   "cell_type": "code",
   "execution_count": 35,
   "metadata": {},
   "outputs": [],
   "source": [
    "#convert test_review into a form usable by the model and save the results in test_data\n",
    "test_data = review_to_words(test_review)\n",
    "test_data = convert_and_pad(word_dict, test_data)[0]\n",
    "test_data = [np.array(test_data)]"
   ]
  },
  {
   "cell_type": "markdown",
   "metadata": {},
   "source": [
    "Now that we have processed the review, we can send the resulting array to our model to predict the sentiment of the review."
   ]
  },
  {
   "cell_type": "code",
   "execution_count": 36,
   "metadata": {},
   "outputs": [
    {
     "data": {
      "text/plain": [
       "array(0.7450869, dtype=float32)"
      ]
     },
     "execution_count": 36,
     "metadata": {},
     "output_type": "execute_result"
    }
   ],
   "source": [
    "predictor.predict(test_data)"
   ]
  },
  {
   "cell_type": "markdown",
   "metadata": {},
   "source": [
    "Since the return value of our model is close to `1`, we can be certain that the review we submitted is positive."
   ]
  },
  {
   "cell_type": "markdown",
   "metadata": {},
   "source": [
    "### Delete the endpoint"
   ]
  },
  {
   "cell_type": "code",
   "execution_count": 37,
   "metadata": {},
   "outputs": [],
   "source": [
    "estimator.delete_endpoint()"
   ]
  },
  {
   "cell_type": "markdown",
   "metadata": {},
   "source": [
    "## Step 6 Deploying the model for the web app\n",
    "\n",
    "Now that we know that our model is working, it's time to create some custom inference code so that we can send the model a review which has not been processed and have it determine the sentiment of the review.\n",
    "\n",
    "As we saw above, by default the estimator which we created, when deployed, will use the entry script and directory which we provided when creating the model. However, since we now wish to accept a string as input and our model expects a processed review, we need to write some custom inference code.\n",
    "\n",
    "We will store the code that we write in the `serve` directory. Provided in this directory is the `model.py` file that we used to construct our model, a `utils.py` file which contains the `review_to_words` and `convert_and_pad` pre-processing functions which we used during the initial data processing, and `predict.py`, the file which will contain our custom inference code. Note also that `requirements.txt` is present which will tell SageMaker what Python libraries are required by our custom inference code.\n",
    "\n",
    "When deploying a PyTorch model in SageMaker, we are expected to provide four functions which the SageMaker inference container will use.\n",
    " - `model_fn`: This function is the same function that we used in the training script and it tells SageMaker how to load our model.\n",
    " - `input_fn`: This function receives the raw serialized input that has been sent to the model's endpoint and its job is to de-serialize and make the input available for the inference code.\n",
    " - `output_fn`: This function takes the output of the inference code and its job is to serialize this output and return it to the caller of the model's endpoint.\n",
    " - `predict_fn`: The heart of the inference script, this is where the actual prediction is done and is the function which you will need to complete.\n",
    "\n",
    "For the simple website that we are constructing during this project, the `input_fn` and `output_fn` methods are relatively straightforward. We only require being able to accept a string as input and we expect to return a single value as output. You might imagine though that in a more complex application the input or output may be image data or some other binary data which would require some effort to serialize.\n",
    "\n",
    "### Writing inference code\n",
    "\n",
    "Before writing our custom inference code, we will begin by taking a look at the code which has been provided."
   ]
  },
  {
   "cell_type": "code",
   "execution_count": 39,
   "metadata": {},
   "outputs": [
    {
     "name": "stdout",
     "output_type": "stream",
     "text": [
      "\u001b[34mimport\u001b[39;49;00m \u001b[04m\u001b[36margparse\u001b[39;49;00m\r\n",
      "\u001b[34mimport\u001b[39;49;00m \u001b[04m\u001b[36mjson\u001b[39;49;00m\r\n",
      "\u001b[34mimport\u001b[39;49;00m \u001b[04m\u001b[36mos\u001b[39;49;00m\r\n",
      "\u001b[34mimport\u001b[39;49;00m \u001b[04m\u001b[36mpickle\u001b[39;49;00m\r\n",
      "\u001b[34mimport\u001b[39;49;00m \u001b[04m\u001b[36msys\u001b[39;49;00m\r\n",
      "\u001b[34mimport\u001b[39;49;00m \u001b[04m\u001b[36msagemaker_containers\u001b[39;49;00m\r\n",
      "\u001b[34mimport\u001b[39;49;00m \u001b[04m\u001b[36mpandas\u001b[39;49;00m \u001b[34mas\u001b[39;49;00m \u001b[04m\u001b[36mpd\u001b[39;49;00m\r\n",
      "\u001b[34mimport\u001b[39;49;00m \u001b[04m\u001b[36mnumpy\u001b[39;49;00m \u001b[34mas\u001b[39;49;00m \u001b[04m\u001b[36mnp\u001b[39;49;00m\r\n",
      "\u001b[34mimport\u001b[39;49;00m \u001b[04m\u001b[36mtorch\u001b[39;49;00m\r\n",
      "\u001b[34mimport\u001b[39;49;00m \u001b[04m\u001b[36mtorch\u001b[39;49;00m\u001b[04m\u001b[36m.\u001b[39;49;00m\u001b[04m\u001b[36mnn\u001b[39;49;00m \u001b[34mas\u001b[39;49;00m \u001b[04m\u001b[36mnn\u001b[39;49;00m\r\n",
      "\u001b[34mimport\u001b[39;49;00m \u001b[04m\u001b[36mtorch\u001b[39;49;00m\u001b[04m\u001b[36m.\u001b[39;49;00m\u001b[04m\u001b[36moptim\u001b[39;49;00m \u001b[34mas\u001b[39;49;00m \u001b[04m\u001b[36moptim\u001b[39;49;00m\r\n",
      "\u001b[34mimport\u001b[39;49;00m \u001b[04m\u001b[36mtorch\u001b[39;49;00m\u001b[04m\u001b[36m.\u001b[39;49;00m\u001b[04m\u001b[36mutils\u001b[39;49;00m\u001b[04m\u001b[36m.\u001b[39;49;00m\u001b[04m\u001b[36mdata\u001b[39;49;00m\r\n",
      "\r\n",
      "\u001b[34mfrom\u001b[39;49;00m \u001b[04m\u001b[36mmodel\u001b[39;49;00m \u001b[34mimport\u001b[39;49;00m LSTMClassifier\r\n",
      "\r\n",
      "\u001b[34mfrom\u001b[39;49;00m \u001b[04m\u001b[36mutils\u001b[39;49;00m \u001b[34mimport\u001b[39;49;00m review_to_words, convert_and_pad\r\n",
      "\r\n",
      "\u001b[34mdef\u001b[39;49;00m \u001b[32mmodel_fn\u001b[39;49;00m(model_dir):\r\n",
      "    \u001b[33m\"\"\"Load the PyTorch model from the `model_dir` directory.\"\"\"\u001b[39;49;00m\r\n",
      "    \u001b[36mprint\u001b[39;49;00m(\u001b[33m\"\u001b[39;49;00m\u001b[33mLoading model.\u001b[39;49;00m\u001b[33m\"\u001b[39;49;00m)\r\n",
      "\r\n",
      "    \u001b[37m#first, load the parameters used to create the model\u001b[39;49;00m\r\n",
      "    model_info = {}\r\n",
      "    model_info_path = os.path.join(model_dir, \u001b[33m'\u001b[39;49;00m\u001b[33mmodel_info.pth\u001b[39;49;00m\u001b[33m'\u001b[39;49;00m)\r\n",
      "    \u001b[34mwith\u001b[39;49;00m \u001b[36mopen\u001b[39;49;00m(model_info_path, \u001b[33m'\u001b[39;49;00m\u001b[33mrb\u001b[39;49;00m\u001b[33m'\u001b[39;49;00m) \u001b[34mas\u001b[39;49;00m f:\r\n",
      "        model_info = torch.load(f)\r\n",
      "\r\n",
      "    \u001b[36mprint\u001b[39;49;00m(\u001b[33m\"\u001b[39;49;00m\u001b[33mmodel_info: \u001b[39;49;00m\u001b[33m{}\u001b[39;49;00m\u001b[33m\"\u001b[39;49;00m.format(model_info))\r\n",
      "\r\n",
      "    \u001b[37m#determine the device and construct the model\u001b[39;49;00m\r\n",
      "    device = torch.device(\u001b[33m\"\u001b[39;49;00m\u001b[33mcuda\u001b[39;49;00m\u001b[33m\"\u001b[39;49;00m \u001b[34mif\u001b[39;49;00m torch.cuda.is_available() \u001b[34melse\u001b[39;49;00m \u001b[33m\"\u001b[39;49;00m\u001b[33mcpu\u001b[39;49;00m\u001b[33m\"\u001b[39;49;00m)\r\n",
      "    model = LSTMClassifier(model_info[\u001b[33m'\u001b[39;49;00m\u001b[33membedding_dim\u001b[39;49;00m\u001b[33m'\u001b[39;49;00m], model_info[\u001b[33m'\u001b[39;49;00m\u001b[33mhidden_dim\u001b[39;49;00m\u001b[33m'\u001b[39;49;00m], model_info[\u001b[33m'\u001b[39;49;00m\u001b[33mvocab_size\u001b[39;49;00m\u001b[33m'\u001b[39;49;00m])\r\n",
      "\r\n",
      "    \u001b[37m#load the store model parameters\u001b[39;49;00m\r\n",
      "    model_path = os.path.join(model_dir, \u001b[33m'\u001b[39;49;00m\u001b[33mmodel.pth\u001b[39;49;00m\u001b[33m'\u001b[39;49;00m)\r\n",
      "    \u001b[34mwith\u001b[39;49;00m \u001b[36mopen\u001b[39;49;00m(model_path, \u001b[33m'\u001b[39;49;00m\u001b[33mrb\u001b[39;49;00m\u001b[33m'\u001b[39;49;00m) \u001b[34mas\u001b[39;49;00m f:\r\n",
      "        model.load_state_dict(torch.load(f))\r\n",
      "\r\n",
      "    \u001b[37m#load the saved word_dict\u001b[39;49;00m\r\n",
      "    word_dict_path = os.path.join(model_dir, \u001b[33m'\u001b[39;49;00m\u001b[33mword_dict.pkl\u001b[39;49;00m\u001b[33m'\u001b[39;49;00m)\r\n",
      "    \u001b[34mwith\u001b[39;49;00m \u001b[36mopen\u001b[39;49;00m(word_dict_path, \u001b[33m'\u001b[39;49;00m\u001b[33mrb\u001b[39;49;00m\u001b[33m'\u001b[39;49;00m) \u001b[34mas\u001b[39;49;00m f:\r\n",
      "        model.word_dict = pickle.load(f)\r\n",
      "\r\n",
      "    model.to(device).eval()\r\n",
      "\r\n",
      "    \u001b[36mprint\u001b[39;49;00m(\u001b[33m\"\u001b[39;49;00m\u001b[33mDone loading model.\u001b[39;49;00m\u001b[33m\"\u001b[39;49;00m)\r\n",
      "    \u001b[34mreturn\u001b[39;49;00m model\r\n",
      "\r\n",
      "\r\n",
      "\u001b[34mdef\u001b[39;49;00m \u001b[32minput_fn\u001b[39;49;00m(serialized_input_data, content_type):\r\n",
      "    \u001b[36mprint\u001b[39;49;00m(\u001b[33m'\u001b[39;49;00m\u001b[33mDeserializing the input data.\u001b[39;49;00m\u001b[33m'\u001b[39;49;00m)\r\n",
      "    \u001b[34mif\u001b[39;49;00m content_type == \u001b[33m'\u001b[39;49;00m\u001b[33mtext/plain\u001b[39;49;00m\u001b[33m'\u001b[39;49;00m:\r\n",
      "        data = serialized_input_data.decode(\u001b[33m'\u001b[39;49;00m\u001b[33mutf-8\u001b[39;49;00m\u001b[33m'\u001b[39;49;00m)\r\n",
      "        \u001b[34mreturn\u001b[39;49;00m data\r\n",
      "    \u001b[34mraise\u001b[39;49;00m \u001b[36mException\u001b[39;49;00m(\u001b[33m'\u001b[39;49;00m\u001b[33mRequested unsupported ContentType in content_type: \u001b[39;49;00m\u001b[33m'\u001b[39;49;00m + content_type)\r\n",
      "\r\n",
      "    \r\n",
      "\u001b[34mdef\u001b[39;49;00m \u001b[32moutput_fn\u001b[39;49;00m(prediction_output, accept):\r\n",
      "    \u001b[36mprint\u001b[39;49;00m(\u001b[33m'\u001b[39;49;00m\u001b[33mSerializing the generated output.\u001b[39;49;00m\u001b[33m'\u001b[39;49;00m)\r\n",
      "    \u001b[34mreturn\u001b[39;49;00m \u001b[36mstr\u001b[39;49;00m(prediction_output)\r\n",
      "\r\n",
      "\r\n",
      "\u001b[34mdef\u001b[39;49;00m \u001b[32mpredict_fn\u001b[39;49;00m(input_data, model):\r\n",
      "    \u001b[36mprint\u001b[39;49;00m(\u001b[33m'\u001b[39;49;00m\u001b[33mInferring sentiment of input data.\u001b[39;49;00m\u001b[33m'\u001b[39;49;00m)\r\n",
      "\r\n",
      "    device = torch.device(\u001b[33m\"\u001b[39;49;00m\u001b[33mcuda\u001b[39;49;00m\u001b[33m\"\u001b[39;49;00m \u001b[34mif\u001b[39;49;00m torch.cuda.is_available() \u001b[34melse\u001b[39;49;00m \u001b[33m\"\u001b[39;49;00m\u001b[33mcpu\u001b[39;49;00m\u001b[33m\"\u001b[39;49;00m)\r\n",
      "    \r\n",
      "    \u001b[34mif\u001b[39;49;00m model.word_dict \u001b[35mis\u001b[39;49;00m \u001b[34mNone\u001b[39;49;00m:\r\n",
      "        \u001b[34mraise\u001b[39;49;00m \u001b[36mException\u001b[39;49;00m(\u001b[33m'\u001b[39;49;00m\u001b[33mModel has not been loaded properly, no word_dict.\u001b[39;49;00m\u001b[33m'\u001b[39;49;00m)\r\n",
      "    \r\n",
      "    \u001b[37m#process input_data so that it is ready to be sent to our model.\u001b[39;49;00m\r\n",
      "    data_X, data_len = convert_and_pad(model.word_dict, review_to_words(input_data))\r\n",
      "\r\n",
      "    \u001b[37m#using data_X and data_len we construct an appropriate input tensor\u001b[39;49;00m\r\n",
      "    \u001b[37m#our model expects input data of the form 'len, review[500]'\u001b[39;49;00m\r\n",
      "    data_pack = np.hstack((data_len, data_X))\r\n",
      "    data_pack = data_pack.reshape(\u001b[34m1\u001b[39;49;00m, -\u001b[34m1\u001b[39;49;00m)\r\n",
      "    \r\n",
      "    data = torch.from_numpy(data_pack)\r\n",
      "    data = data.to(device)\r\n",
      "\r\n",
      "    \u001b[37m#make sure to put the model into evaluation mode\u001b[39;49;00m\r\n",
      "    model.eval()\r\n",
      "\r\n",
      "    \u001b[37m#compute the result of applying the model to the input data. \u001b[39;49;00m\r\n",
      "    \u001b[37m#result should be a numpy array which contains a single integer which is either 1 or 0\u001b[39;49;00m\r\n",
      "    \u001b[34mwith\u001b[39;49;00m torch.no_grad():\r\n",
      "        output = model.forward(data)\r\n",
      "        \r\n",
      "    result = np.round(output.numpy())\r\n",
      "\r\n",
      "    \u001b[34mreturn\u001b[39;49;00m result\r\n"
     ]
    }
   ],
   "source": [
    "!pygmentize serve/predict.py"
   ]
  },
  {
   "cell_type": "markdown",
   "metadata": {},
   "source": [
    "As mentioned earlier, the `model_fn` method is the same as the one provided in the training code and the `input_fn` and `output_fn` methods are very simple and your task will be to complete the `predict_fn` method."
   ]
  },
  {
   "cell_type": "markdown",
   "metadata": {},
   "source": [
    "### Deploying the model\n",
    "\n",
    "Now that the custom inference code has been written, we will create and deploy our model. To begin with, we need to construct a new PyTorchModel object which points to the model artifacts created during training and also points to the inference code that we wish to use. Then we can call the deploy method to launch the deployment container.\n",
    "\n",
    "**NOTE**: The default behaviour for a deployed PyTorch model is to assume that any input passed to the predictor is a `numpy` array. In our case we want to send a string so we need to construct a simple wrapper around the `RealTimePredictor` class to accomodate simple strings. In a more complicated situation you may want to provide a serialization object, for example if you wanted to sent image data."
   ]
  },
  {
   "cell_type": "code",
   "execution_count": 40,
   "metadata": {},
   "outputs": [
    {
     "data": {
      "text/plain": [
       "'s3://sagemaker-us-east-2-172161010035/sagemaker-pytorch-2020-06-13-19-41-51-021/output/model.tar.gz'"
      ]
     },
     "execution_count": 40,
     "metadata": {},
     "output_type": "execute_result"
    }
   ],
   "source": [
    "estimator.model_data"
   ]
  },
  {
   "cell_type": "code",
   "execution_count": 41,
   "metadata": {},
   "outputs": [
    {
     "name": "stderr",
     "output_type": "stream",
     "text": [
      "Parameter image will be renamed to image_uri in SageMaker Python SDK v2.\n",
      "'create_image_uri' will be deprecated in favor of 'ImageURIProvider' class in SageMaker Python SDK v2.\n"
     ]
    },
    {
     "name": "stdout",
     "output_type": "stream",
     "text": [
      "---------------!"
     ]
    }
   ],
   "source": [
    "class StringPredictor(RealTimePredictor):\n",
    "    def __init__(self, endpoint_name, sagemaker_session):\n",
    "        super(StringPredictor, self).__init__(endpoint_name, sagemaker_session, content_type='text/plain')\n",
    "\n",
    "model = PyTorchModel(model_data=estimator.model_data,\n",
    "                     role = role,\n",
    "                     framework_version='0.4.0',\n",
    "                     entry_point='predict.py',\n",
    "                     source_dir='serve',\n",
    "                     predictor_cls=StringPredictor)\n",
    "\n",
    "predictor = model.deploy(initial_instance_count=1, instance_type='ml.m4.xlarge')"
   ]
  },
  {
   "cell_type": "markdown",
   "metadata": {},
   "source": [
    "### Testing the model\n",
    "\n",
    "Now that we have deployed our model with the custom inference code, we should test to see if everything is working. Here we test our model by loading the first `250` positive and negative reviews and send them to the endpoint, then collect the results. The reason for only sending some of the data is that the amount of time it takes for our model to process the input and then perform inference is quite long and so testing the entire data set would be prohibitive."
   ]
  },
  {
   "cell_type": "code",
   "execution_count": 44,
   "metadata": {},
   "outputs": [],
   "source": [
    "def test_reviews(data_dir='../data/aclImdb', stop=250):\n",
    "    \n",
    "    results = []\n",
    "    ground = []\n",
    "    \n",
    "    # We make sure to test both positive and negative reviews    \n",
    "    for sentiment in ['pos', 'neg']:\n",
    "        \n",
    "        path = os.path.join(data_dir, 'test', sentiment, '*.txt')\n",
    "        files = glob.glob(path)\n",
    "        \n",
    "        files_read = 0\n",
    "        \n",
    "        print('Starting ', sentiment, ' files')\n",
    "        \n",
    "        # Iterate through the files and send them to the predictor\n",
    "        for f in files:\n",
    "            with open(f) as review:\n",
    "                # First, we store the ground truth (was the review positive or negative)\n",
    "                if sentiment == 'pos':\n",
    "                    ground.append(1)\n",
    "                else:\n",
    "                    ground.append(0)\n",
    "                # Read in the review and convert to 'utf-8' for transmission via HTTP\n",
    "                review_input = review.read().encode('utf-8')\n",
    "                # Send the review to the predictor and store the results\n",
    "                results.append(float(predictor.predict(review_input)))\n",
    "                \n",
    "            # Sending reviews to our endpoint one at a time takes a while so we\n",
    "            # only send a small number of reviews\n",
    "            files_read += 1\n",
    "            if files_read == stop:\n",
    "                break\n",
    "            \n",
    "    return ground, results"
   ]
  },
  {
   "cell_type": "code",
   "execution_count": 45,
   "metadata": {},
   "outputs": [
    {
     "name": "stdout",
     "output_type": "stream",
     "text": [
      "Starting  pos  files\n",
      "Starting  neg  files\n"
     ]
    }
   ],
   "source": [
    "ground, results = test_reviews()"
   ]
  },
  {
   "cell_type": "code",
   "execution_count": 46,
   "metadata": {},
   "outputs": [
    {
     "data": {
      "text/plain": [
       "0.828"
      ]
     },
     "execution_count": 46,
     "metadata": {},
     "output_type": "execute_result"
    }
   ],
   "source": [
    "accuracy_score(ground, results)"
   ]
  },
  {
   "cell_type": "markdown",
   "metadata": {},
   "source": [
    "As an additional test, we can try sending the `test_review` that we looked at earlier."
   ]
  },
  {
   "cell_type": "code",
   "execution_count": 47,
   "metadata": {},
   "outputs": [
    {
     "data": {
      "text/plain": [
       "b'1.0'"
      ]
     },
     "execution_count": 47,
     "metadata": {},
     "output_type": "execute_result"
    }
   ],
   "source": [
    "predictor.predict(test_review)"
   ]
  },
  {
   "cell_type": "markdown",
   "metadata": {},
   "source": [
    "Now that we know our endpoint is working as expected, we can set up the web page that will interact with it.\n",
    "\n",
    "## Step 7 Use the model for the web app\n",
    "\n",
    "So far we have been accessing our model endpoint by constructing a predictor object which uses the endpoint and then just using the predictor object to perform inference. What if we wanted to create a web app which accessed our model? The way things are set up currently makes that not possible since in order to access a SageMaker endpoint the app would first have to authenticate with AWS using an IAM role which included access to SageMaker endpoints. However, there is an easier way! We just need to use some additional AWS services.\n",
    "\n",
    "<img src=\"Web App Diagram.svg\">\n",
    "\n",
    "The diagram above gives an overview of how the various services will work together. On the far right is the model which we trained above and which is deployed using SageMaker. On the far left is our web app that collects a user's movie review, sends it off and expects a positive or negative sentiment in return.\n",
    "\n",
    "In the middle is where some of the magic happens. We will construct a Lambda function, which you can think of as a straightforward Python function that can be executed whenever a specified event occurs. We will give this function permission to send and recieve data from a SageMaker endpoint.\n",
    "\n",
    "Lastly, the method we will use to execute the Lambda function is a new endpoint that we will create using API Gateway. This endpoint will be a url that listens for data to be sent to it. Once it gets some data it will pass that data on to the Lambda function and then return whatever the Lambda function returns. Essentially it will act as an interface that lets our web app communicate with the Lambda function."
   ]
  },
  {
   "cell_type": "code",
   "execution_count": 48,
   "metadata": {},
   "outputs": [
    {
     "data": {
      "text/plain": [
       "'sagemaker-pytorch-2020-06-13-20-02-29-742'"
      ]
     },
     "execution_count": 48,
     "metadata": {},
     "output_type": "execute_result"
    }
   ],
   "source": [
    "predictor.endpoint"
   ]
  },
  {
   "cell_type": "markdown",
   "metadata": {},
   "source": [
    "### Setting up a Lambda function\n",
    "\n",
    "The first thing we are going to do is set up a Lambda function. This Lambda function will be executed whenever our public API has data sent to it. When it is executed it will receive the data, perform any sort of processing that is required, send the data (the review) to the SageMaker endpoint we've created and then return the result.\n",
    "\n",
    "#### Part A: Create an IAM Role for the Lambda function\n",
    "\n",
    "Since we want the Lambda function to call a SageMaker endpoint, we need to make sure that it has permission to do so. To do this, we will construct a role that we can later give the Lambda function.\n",
    "\n",
    "Using the AWS Console, navigate to the **IAM** page and click on **Roles**. Then, click on **Create role**. Make sure that the **AWS service** is the type of trusted entity selected and choose **Lambda** as the service that will use this role, then click **Next: Permissions**.\n",
    "\n",
    "In the search box type `sagemaker` and select the check box next to the **AmazonSageMakerFullAccess** policy. Then, click on **Next: Review**.\n",
    "\n",
    "Lastly, give this role a name. Make sure you use a name that you will remember later on, for example `LambdaSageMakerRole`. Then, click on **Create role**.\n",
    "\n",
    "#### Part B: Create a Lambda function\n",
    "\n",
    "Now it is time to actually create the Lambda function.\n",
    "\n",
    "Using the AWS Console, navigate to the AWS Lambda page and click on **Create a function**. When you get to the next page, make sure that **Author from scratch** is selected. Now, name your Lambda function, using a name that you will remember later on, for example `sentiment_analysis_func`. Make sure that the **Python 3.6** runtime is selected and then choose the role that you created in the previous part. Then, click on **Create Function**.\n",
    "\n",
    "On the next page you will see some information about the Lambda function you've just created. If you scroll down you should see an editor in which you can write the code that will be executed when your Lambda function is triggered. In our example, we will use the code below. \n",
    "\n",
    "```python\n",
    "# We need to use the low-level library to interact with SageMaker since the SageMaker API\n",
    "# is not available natively through Lambda.\n",
    "import boto3\n",
    "\n",
    "def lambda_handler(event, context):\n",
    "\n",
    "    #the SageMaker runtime is what allows us to invoke the endpoint that we've created.\n",
    "    runtime = boto3.Session().client('sagemaker-runtime')\n",
    "\n",
    "    #now we use the SageMaker runtime to invoke our endpoint, sending the review we were given\n",
    "    response = runtime.invoke_endpoint(EndpointName = '**ENDPOINT NAME HERE**', \n",
    "                                       #the data format that is expected\n",
    "                                       ContentType = 'text/plain',\n",
    "                                       #the actual review\n",
    "                                       Body = event['body'])\n",
    "\n",
    "    # The response is an HTTP response whose body contains the result of our inference\n",
    "    result = response['Body'].read().decode('utf-8')\n",
    "\n",
    "    return {\n",
    "        'statusCode' : 200,\n",
    "        'headers' : { 'Content-Type' : 'text/plain', 'Access-Control-Allow-Origin' : '*' },\n",
    "        'body' : result\n",
    "    }\n",
    "```\n",
    "\n",
    "Once we have copy and pasted the code above into the Lambda code editor, we can replace the `**ENDPOINT NAME HERE**` portion with the name of the endpoint that we deployed earlier and printed out earlier. Once we have added the endpoint name to the Lambda function, we should click on **Save**. The Lambda function is now up and running. Next we need to create a way for our web app to execute the Lambda function.\n",
    "\n",
    "### Setting up API Gateway\n",
    "\n",
    "Now that our Lambda function is set up, it is time to create a new API using API Gateway that will trigger the Lambda function we have just created.\n",
    "\n",
    "Using AWS Console, navigate to **Amazon API Gateway** and then click on **Get started**.\n",
    "\n",
    "On the next page, make sure that **New API** is selected and give the new api a name, for example, `sentiment_analysis_api`. Then, click on **Create API**.\n",
    "\n",
    "Now we have created an API, however it doesn't currently do anything. What we want it to do is to trigger the Lambda function that we created earlier.\n",
    "\n",
    "Select the **Actions** dropdown menu and click **Create Method**. A new blank method will be created, select its dropdown menu and select **POST**, then click on the check mark beside it.\n",
    "\n",
    "For the integration point, make sure that **Lambda Function** is selected and click on the **Use Lambda Proxy integration**. This option makes sure that the data that is sent to the API is then sent directly to the Lambda function with no processing. It also means that the return value must be a proper response object as it will also not be processed by API Gateway.\n",
    "\n",
    "Type the name of the Lambda function you created earlier into the **Lambda Function** text entry box and then click on **Save**. Click on **OK** in the pop-up box that then appears, giving permission to API Gateway to invoke the Lambda function you created.\n",
    "\n",
    "The last step in creating the API Gateway is to select the **Actions** dropdown and click on **Deploy API**. You will need to create a new Deployment stage and name it anything you like, for example `prod`.\n",
    "\n",
    "You have now successfully set up a public API to access your SageMaker model. Make sure to copy or write down the URL provided to invoke your newly created public API as this will be needed in the next step. This URL can be found at the top of the page, highlighted in blue next to the text **Invoke URL**."
   ]
  },
  {
   "cell_type": "markdown",
   "metadata": {},
   "source": [
    "## Step 4: Deploying our web app\n",
    "\n",
    "Now that we have a publicly available API, we can start using it in a web app. For our purposes, we have provided a simple static html file which can make use of the public api you created earlier.\n",
    "\n",
    "In the `website` folder there should be a file called `index.html`. Download the file to your computer and open that file up in a text editor of your choice. There should be a line which contains **\\*\\*REPLACE WITH PUBLIC API URL\\*\\***. Replace this string with the url that you wrote down in the last step and then save the file.\n",
    "\n",
    "Now, if you open `index.html` on your local computer, your browser will behave as a local web server and you can use the provided site to interact with your SageMaker model.\n",
    "\n",
    "Now that the web app is working, we can test it with a review. In my case, I found an example review on IMDb from the 2019 movie *Pain and Glory*:\n",
    "\n",
    "**\"With this gorgeous and unashamedly autobiographical memory piece, Pedro Almodóvar returns to his very best form and certainly gives us his best film in over a decade. \"Pain and Glory\" finds director Salvador Mallo, (Antonio Banderas in a career-best performance and clearly modelled on Almodóvar), looking back over his life and loves as he deals with his addictions, his chronic pain and a newfound appreciation of his work. It's a film that is both honest and deeply moving but one that is often very funny, too. Almodóvar wouldn't be who he is without that wicked sense of humour that made his early films so enjoyable but this is an altogether deeper and more profound film than anything he's done in years.**\n",
    "\n",
    "**Cross-cutting between his childhood with a loving mother, (Penelope Cruz, wonderful), and a largely absent father and his present as he revisits his past in the form of the men in his life, the actor who once let him down and to whom he hasn't spoken in 30 years and the former lover who comes to visit. Salvador is a man determined to lay his ghosts to rest as I am sure Almodóvar wants to here. Banderas, as I said, has never been better and as the men in his life, Asier Etxeandia (the actor), Leonardo Sbaraglia, (the lover) and Cesar Vicente, (the boy who becomes Salvador's 'First Desire') are all outstanding while both Cruz and Julieta Serrano perfectly capture his mother at different stages in his life. This is a remarkable film from a great director too long absent from our screens and one we thought long past his best. This is proof he's home and hopefully, home for good.\"**\n",
    "\n",
    "The model output: \"Your review was POSITIVE!\", which is expected given this review.\n",
    "\n",
    "<img src=\"./deployed_web_app.png\" />"
   ]
  },
  {
   "cell_type": "markdown",
   "metadata": {},
   "source": [
    "### Delete the endpoint\n",
    "\n",
    "Remember to always shut down your endpoint if you are no longer using it. You are charged for the length of time that the endpoint is running so if you forget and leave it on you could end up with an unexpectedly large bill."
   ]
  },
  {
   "cell_type": "code",
   "execution_count": 49,
   "metadata": {},
   "outputs": [],
   "source": [
    "predictor.delete_endpoint()"
   ]
  },
  {
   "cell_type": "code",
   "execution_count": null,
   "metadata": {},
   "outputs": [],
   "source": []
  }
 ],
 "metadata": {
  "kernelspec": {
   "display_name": "Python 3",
   "language": "python",
   "name": "python3"
  },
  "language_info": {
   "codemirror_mode": {
    "name": "ipython",
    "version": 3
   },
   "file_extension": ".py",
   "mimetype": "text/x-python",
   "name": "python",
   "nbconvert_exporter": "python",
   "pygments_lexer": "ipython3",
   "version": "3.6.8"
  }
 },
 "nbformat": 4,
 "nbformat_minor": 2
}
